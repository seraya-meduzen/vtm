{
 "cells": [
  {
   "cell_type": "code",
   "execution_count": null,
   "id": "b904576b",
   "metadata": {},
   "outputs": [],
   "source": [
    "# from IPython.display import display, HTML\n",
    "# display(HTML(\"<style>.container { width:100% !important; }</style>\"))\n",
    "\n",
    "import numpy as np\n",
    "import pandas as pd\n",
    "\n",
    "import scipy.stats as sts\n",
    "import matplotlib.pyplot as plt\n",
    "import seaborn as sns\n",
    "from random import shuffle\n",
    "from tqdm import tqdm\n",
    "# import scipy.stats\n",
    "from scipy import stats\n",
    "import random\n",
    "from collections import Counter\n",
    "from scipy.optimize import curve_fit\n",
    "import multiprocessing\n",
    "from numpy.random import RandomState\n",
    "\n",
    "import random\n",
    "# plt.style.use('fivethirtyeight')\n",
    "%matplotlib inline\n",
    "\n",
    "# plt.style.available\n"
   ]
  },
  {
   "cell_type": "markdown",
   "id": "e1573f0f",
   "metadata": {},
   "source": [
    "# Создание агентов"
   ]
  },
  {
   "cell_type": "code",
   "execution_count": null,
   "id": "70960711",
   "metadata": {},
   "outputs": [],
   "source": [
    "data_age = pd.read_excel('./data_age.xlsx')\n",
    "data_age\n"
   ]
  },
  {
   "cell_type": "code",
   "execution_count": null,
   "id": "1f8a4930",
   "metadata": {},
   "outputs": [],
   "source": [
    "print(data_age[\"Men\"].sum(), data_age[\"Women\"].sum(),\n",
    "      data_age[\"Men\"].sum() + data_age[\"Women\"].sum())\n"
   ]
  },
  {
   "cell_type": "code",
   "execution_count": null,
   "id": "0040c5c4",
   "metadata": {},
   "outputs": [],
   "source": [
    "percentage = data_age.copy()\n"
   ]
  },
  {
   "cell_type": "code",
   "execution_count": null,
   "id": "7a98a713",
   "metadata": {},
   "outputs": [],
   "source": [
    "percentage[\"Men\"] = percentage['Men'] / percentage['Men'].sum()\n",
    "percentage[\"Women\"] = percentage['Women'] / percentage['Women'].sum()\n"
   ]
  },
  {
   "cell_type": "code",
   "execution_count": null,
   "id": "dc184850",
   "metadata": {},
   "outputs": [],
   "source": [
    "percentage\n"
   ]
  },
  {
   "cell_type": "code",
   "execution_count": null,
   "id": "41c179fd",
   "metadata": {},
   "outputs": [],
   "source": [
    "men_cnt = int(data_age[\"Men\"].sum() * 12000 /\n",
    "              (data_age[\"Men\"].sum() + data_age[\"Women\"].sum()))\n",
    "women_cnt = int(data_age[\"Women\"].sum() * 12000 /\n",
    "                (data_age[\"Men\"].sum() + data_age[\"Women\"].sum()))\n"
   ]
  },
  {
   "cell_type": "code",
   "execution_count": null,
   "id": "61150b3b",
   "metadata": {},
   "outputs": [],
   "source": [
    "percentage[\"Men\"] = percentage[\"Men\"] * men_cnt\n",
    "percentage[\"Women\"] = percentage[\"Women\"] * women_cnt\n"
   ]
  },
  {
   "cell_type": "code",
   "execution_count": null,
   "id": "6d0211dc",
   "metadata": {},
   "outputs": [],
   "source": [
    "percentage[\"Men\"] = percentage.Men.round().astype(int)\n",
    "percentage[\"Women\"] = percentage.Women.round().astype(int)\n"
   ]
  },
  {
   "cell_type": "code",
   "execution_count": null,
   "id": "e2a4396f",
   "metadata": {},
   "outputs": [],
   "source": [
    "percentage\n"
   ]
  },
  {
   "cell_type": "code",
   "execution_count": null,
   "id": "567bf68e",
   "metadata": {},
   "outputs": [],
   "source": [
    "men = percentage[\"Men\"].to_numpy()\n",
    "women = percentage[\"Women\"].to_numpy()\n",
    "age = percentage[\"Age\"].to_numpy()\n"
   ]
  },
  {
   "cell_type": "code",
   "execution_count": null,
   "id": "2a867202",
   "metadata": {},
   "outputs": [],
   "source": [
    "men_column = np.repeat(age, men)\n",
    "women_column = np.repeat(age, women)\n",
    "\n",
    "men_cnt = percentage[\"Men\"].sum()\n",
    "women_cnt = percentage[\"Women\"].sum()\n"
   ]
  },
  {
   "cell_type": "code",
   "execution_count": null,
   "id": "1e010fe4",
   "metadata": {},
   "outputs": [],
   "source": [
    "men_pd = pd.DataFrame()\n",
    "women_pd = pd.DataFrame()\n"
   ]
  },
  {
   "cell_type": "code",
   "execution_count": null,
   "id": "2f234b6c",
   "metadata": {},
   "outputs": [],
   "source": [
    "men_pd[\"Age\"] = men_column\n",
    "men_pd[\"Sex\"] = [\"M\"] * men_cnt\n",
    "women_pd[\"Age\"] = women_column\n",
    "women_pd[\"Sex\"] = [\"W\"] * women_cnt\n"
   ]
  },
  {
   "cell_type": "code",
   "execution_count": null,
   "id": "9c5e3444",
   "metadata": {},
   "outputs": [],
   "source": [
    "base = pd.concat([men_pd, women_pd], ignore_index=True)\n"
   ]
  },
  {
   "cell_type": "code",
   "execution_count": null,
   "id": "02d825f4",
   "metadata": {},
   "outputs": [],
   "source": [
    "base[\"Id\"] = np.arange(men_cnt + women_cnt)\n"
   ]
  },
  {
   "cell_type": "code",
   "execution_count": null,
   "id": "702a6fcf",
   "metadata": {},
   "outputs": [],
   "source": [
    "base = base[[\"Id\", \"Age\", \"Sex\"]]\n"
   ]
  },
  {
   "cell_type": "code",
   "execution_count": null,
   "id": "924d2aad",
   "metadata": {},
   "outputs": [],
   "source": [
    "base\n"
   ]
  },
  {
   "cell_type": "code",
   "execution_count": null,
   "id": "de196eb1",
   "metadata": {},
   "outputs": [],
   "source": [
    "marriage_prct = (21383475 + 21794632) / (7590837 + 2294647 + 984164 +\n",
    "                                         1414882 + 6578532 + 4737595 + 1400283 + 6724715 + 21383475 + 21794632)\n",
    "marriage_prct\n"
   ]
  },
  {
   "cell_type": "code",
   "execution_count": null,
   "id": "21771991",
   "metadata": {},
   "outputs": [],
   "source": [
    "data_marriage = pd.read_excel('./data_marriage.xlsx')\n",
    "data_marriage = data_marriage.drop(columns=[\n",
    "                                   'not indicated', 'in registered marriage', 'in non-registered marriage', 'Total', 'state of marriage indicated'])\n",
    "data_marriage\n"
   ]
  },
  {
   "cell_type": "code",
   "execution_count": null,
   "id": "14aec4ee",
   "metadata": {},
   "outputs": [],
   "source": [
    "df_m = data_marriage.iloc[:15, :]\n",
    "df_w = data_marriage.iloc[15:, :]\n",
    "df_m = df_m.drop([0])\n",
    "df_w = df_w.drop([15])\n",
    "df_m = df_m.reset_index(drop=True)\n",
    "df_w = df_w.reset_index(drop=True)\n"
   ]
  },
  {
   "cell_type": "code",
   "execution_count": null,
   "id": "4aa9cf78",
   "metadata": {},
   "outputs": [],
   "source": [
    "df_m[\"not marriaged\"] = df_m.iloc[:, 2:].sum(axis=1)\n",
    "df_m = df_m[[\"Городское население\", \"marriaged\", \"not marriaged\"]]\n",
    "df_w[\"not marriaged\"] = df_w.iloc[:, 2:].sum(axis=1)\n",
    "df_w = df_w[[\"Городское население\", \"marriaged\", \"not marriaged\"]]\n"
   ]
  },
  {
   "cell_type": "code",
   "execution_count": null,
   "id": "148d206e",
   "metadata": {},
   "outputs": [],
   "source": [
    "df_m\n"
   ]
  },
  {
   "cell_type": "code",
   "execution_count": null,
   "id": "9f5c6048",
   "metadata": {},
   "outputs": [],
   "source": [
    "df_w\n"
   ]
  },
  {
   "cell_type": "code",
   "execution_count": null,
   "id": "6848c33e",
   "metadata": {},
   "outputs": [],
   "source": [
    "df_m[\"marriage percent\"] = df_m[\"marriaged\"] / \\\n",
    "    (df_m[\"marriaged\"] + df_m[\"not marriaged\"])\n",
    "df_m = df_m.drop(columns=[\"marriaged\", \"not marriaged\"])\n",
    "df_w[\"marriage percent\"] = df_w[\"marriaged\"] / \\\n",
    "    (df_w[\"marriaged\"] + df_w[\"not marriaged\"])\n",
    "df_w = df_w.drop(columns=[\"marriaged\", \"not marriaged\"])\n"
   ]
  },
  {
   "cell_type": "code",
   "execution_count": null,
   "id": "3f085a5c",
   "metadata": {},
   "outputs": [],
   "source": [
    "df_m\n"
   ]
  },
  {
   "cell_type": "code",
   "execution_count": null,
   "id": "e4cf534d",
   "metadata": {},
   "outputs": [],
   "source": [
    "df_w\n"
   ]
  },
  {
   "cell_type": "code",
   "execution_count": null,
   "id": "9d069229",
   "metadata": {},
   "outputs": [],
   "source": [
    "list_of_slices = [(16, 17), (18, 19), (20, 24), (25, 29), (30, 34), (35, 39),\n",
    "                  (40, 44), (45, 49), (50, 54), (55, 59), (60, 64), (65, 69), (70, 74), (75, 100)]\n"
   ]
  },
  {
   "cell_type": "code",
   "execution_count": null,
   "id": "9c15d036",
   "metadata": {},
   "outputs": [],
   "source": [
    "men_age_range = []\n",
    "women_age_range = []\n",
    "\n",
    "for slices in list_of_slices:\n",
    "    men_age_range += [base[(base[\"Sex\"] == \"M\") & (base[\"Age\"]\n",
    "                                                   >= slices[0]) & (base[\"Age\"] <= slices[1])][\"Id\"].count()]\n",
    "    women_age_range += [base[(base[\"Sex\"] == \"W\") & (base[\"Age\"]\n",
    "                                                     >= slices[0]) & (base[\"Age\"] <= slices[1])][\"Id\"].count()]\n"
   ]
  },
  {
   "cell_type": "code",
   "execution_count": null,
   "id": "bfc312a7",
   "metadata": {},
   "outputs": [],
   "source": [
    "df_m[\"marriage percent\"] = round(\n",
    "    df_m[\"marriage percent\"] * men_age_range).astype(int)\n"
   ]
  },
  {
   "cell_type": "code",
   "execution_count": null,
   "id": "7ad1d4e9",
   "metadata": {},
   "outputs": [],
   "source": [
    "df_w[\"marriage percent\"] = round(\n",
    "    df_w[\"marriage percent\"] * women_age_range).astype(int)\n"
   ]
  },
  {
   "cell_type": "code",
   "execution_count": null,
   "id": "d11c5a69",
   "metadata": {},
   "outputs": [],
   "source": [
    "df_m\n"
   ]
  },
  {
   "cell_type": "code",
   "execution_count": null,
   "id": "d3037fe6",
   "metadata": {},
   "outputs": [],
   "source": [
    "df_w\n"
   ]
  },
  {
   "cell_type": "code",
   "execution_count": null,
   "id": "193cd6f3",
   "metadata": {},
   "outputs": [],
   "source": [
    "minimums = np.minimum(df_w[\"marriage percent\"].to_numpy(),\n",
    "                      df_m[\"marriage percent\"].to_numpy())\n",
    "minimums[-1] = 86\n",
    "minimums[4] = 316\n"
   ]
  },
  {
   "cell_type": "code",
   "execution_count": null,
   "id": "e1f6edc9",
   "metadata": {},
   "outputs": [],
   "source": [
    "married_in_range = np.repeat((minimums[2:13] / 5).astype(int), 5)\n",
    "married_in_range = np.concatenate((np.array([0]), np.array([1]), married_in_range, np.array(\n",
    "    [10] * 6), np.array([4] * 9), np.array([0] * 6), np.array([0] * 3)))\n",
    "len(married_in_range)\n"
   ]
  },
  {
   "cell_type": "code",
   "execution_count": null,
   "id": "c59de86b",
   "metadata": {},
   "outputs": [],
   "source": [
    "tmp = base.copy()\n",
    "tmp[\"Married\"] = 0\n",
    "tmp\n"
   ]
  },
  {
   "cell_type": "code",
   "execution_count": null,
   "id": "d9f84986",
   "metadata": {},
   "outputs": [],
   "source": [
    "for age, cnt in zip(range(16, 99), married_in_range):\n",
    "    tmp.loc[tmp['Sex'].isin([\"M\"]) & tmp['Age'].isin([age]), 'Married'] = np.array(\n",
    "        [1] * cnt + [0] * (len(tmp[(tmp['Sex'] == \"M\") & (tmp['Age'] == age)]) - cnt)).astype(int)\n",
    "    tmp.loc[tmp['Sex'].isin([\"W\"]) & tmp['Age'].isin([age]), 'Married'] = np.array(\n",
    "        [1] * cnt + [0] * (len(tmp[(tmp['Sex'] == \"W\") & (tmp['Age'] == age)]) - cnt)).astype(int)\n"
   ]
  },
  {
   "cell_type": "code",
   "execution_count": null,
   "id": "df286f92",
   "metadata": {},
   "outputs": [],
   "source": [
    "base_final = tmp.copy()\n"
   ]
  },
  {
   "cell_type": "code",
   "execution_count": null,
   "id": "86af70ad",
   "metadata": {},
   "outputs": [],
   "source": [
    "base_final.to_csv(\"./final_base.csv\", index=None)\n"
   ]
  },
  {
   "cell_type": "markdown",
   "id": "dccecc7a",
   "metadata": {},
   "source": [
    "# Графики половозрастное"
   ]
  },
  {
   "cell_type": "code",
   "execution_count": null,
   "id": "e15afb22",
   "metadata": {},
   "outputs": [],
   "source": [
    "data_marriage = pd.read_excel('./data_marriage.xlsx')\n",
    "data_age = pd.read_excel('./data_age.xlsx')\n",
    "data_age.at[0, 'Age'] = '0'\n",
    "data_age.at[120, \"Age\"] = \"100\"\n",
    "data_age = data_age[data_age[\"Age\"].apply(\n",
    "    lambda x: (\"-\" not in str(x)) and (\"–\" not in str(x)))]\n",
    "data_age = data_age.reset_index(drop=True)\n",
    "data_age['Age'] = data_age['Age'].astype('int')\n"
   ]
  },
  {
   "cell_type": "code",
   "execution_count": null,
   "id": "fedc17a9",
   "metadata": {},
   "outputs": [],
   "source": [
    "base_final = pd.read_csv(\"./final_base.csv\")\n"
   ]
  },
  {
   "cell_type": "code",
   "execution_count": null,
   "id": "d11512dd",
   "metadata": {
    "scrolled": false
   },
   "outputs": [],
   "source": [
    "fig, axes = plt.subplots(nrows=2, ncols=1, figsize=(14, 10), dpi=600)\n",
    "\n",
    "x1 = np.arange(96)\n",
    "y1 = base_final[base_final[\"Sex\"] == \"M\"].groupby(by=[\"Age\"]).count()[\n",
    "    \"Id\"].to_list()\n",
    "x2 = np.arange(99)\n",
    "y2 = base_final[base_final[\"Sex\"] == \"W\"].groupby(by=[\"Age\"]).count()[\n",
    "    \"Id\"].to_list()\n",
    "\n",
    "\n",
    "x3 = data_age['Age']\n",
    "y3 = data_age['Men']\n",
    "x4 = data_age['Age']\n",
    "y4 = data_age['Women']\n",
    "\n",
    "axes[0].plot(x1, y1, 'o')\n",
    "axes[0].plot(x2, y2, 'o')\n",
    "axes[1].plot(x3, y3, 'o')\n",
    "axes[1].plot(x4, y4, 'o')\n",
    "\n",
    "# fig.suptitle('Количество людей в зависимости от возраста', fontsize=25)\n",
    "\n",
    "axes[0].set_title('Кластер', pad=10, fontsize=16)\n",
    "axes[1].set_title('Москва', pad=10, fontsize=16)\n",
    "\n",
    "\n",
    "axes[0].set_ylabel('Количество', labelpad=15, fontsize=11)\n",
    "axes[0].set_xlabel('Возраст', fontsize=11)\n",
    "axes[1].set_ylabel('Количество', labelpad=15, fontsize=11)\n",
    "axes[1].set_xlabel('Возраст', fontsize=11)\n",
    "\n",
    "axes[0].set_facecolor('#f4f4f4')\n",
    "axes[1].set_facecolor('#f4f4f4')\n",
    "axes[0].grid(color='white')\n",
    "axes[1].grid(color='white')\n",
    "\n",
    "axes[1].tick_params('x', labelsize=11)\n",
    "axes[1].tick_params('y', labelsize=11)\n",
    "axes[0].tick_params('x', labelsize=11)\n",
    "axes[0].tick_params('y', labelsize=11)\n",
    "\n",
    "fig.tight_layout()\n",
    "\n",
    "axes[0].legend(['Мужчины', 'Женщины'], loc='upper right', fontsize=11)\n",
    "axes[1].legend(['Мужчины', 'Женщины'], loc='upper right', fontsize=11)\n",
    "\n",
    "fig.savefig('new_claster.png', dpi=fig.dpi)\n"
   ]
  },
  {
   "cell_type": "code",
   "execution_count": null,
   "id": "67486e7b",
   "metadata": {},
   "outputs": [],
   "source": [
    "plt.figure(figsize=(14, 7))\n",
    "plt.plot(np.arange(71), base_final[base_final[\"Married\"] == 1].groupby(\n",
    "    by=[\"Age\"]).count()[\"Id\"].to_list())\n",
    "plt.title('Количество женатых людей в зависимости от возраста')\n",
    "plt.xlabel('Возраст')\n",
    "plt.ylabel('Количество')\n",
    "# plt.legend();\n"
   ]
  },
  {
   "cell_type": "code",
   "execution_count": null,
   "id": "a45e9571",
   "metadata": {},
   "outputs": [],
   "source": []
  },
  {
   "cell_type": "markdown",
   "id": "b38440f8",
   "metadata": {},
   "source": [
    "# Создание пар, знакомств и атрибутов агентов"
   ]
  },
  {
   "cell_type": "code",
   "execution_count": null,
   "id": "09187094",
   "metadata": {},
   "outputs": [],
   "source": [
    "base_final = pd.read_csv(\"./final_base.csv\")\n",
    "base_final[\"TB\"] = [\"S\"] * 11996\n",
    "base_final\n"
   ]
  },
  {
   "cell_type": "code",
   "execution_count": null,
   "id": "eeef84e2",
   "metadata": {},
   "outputs": [],
   "source": [
    "first = np.full((base_final.shape[0], 5), -1)\n",
    "second = np.full((base_final.shape[0], 15), -1)\n",
    "third = np.full((base_final.shape[0], 50), -1)\n"
   ]
  },
  {
   "cell_type": "code",
   "execution_count": null,
   "id": "4b4cddd8",
   "metadata": {},
   "outputs": [],
   "source": [
    "list_of_slices = [(16, 17), (18, 19), (20, 24), (25, 29), (30, 34), (35, 39),\n",
    "                  (40, 44), (45, 49), (50, 54), (55, 59), (60, 64), (65, 69), (70, 74), (75, 100)]\n",
    "\n",
    "for age in list_of_slices:\n",
    "    men = base_final[(base_final[\"Married\"] == 1) & (base_final[\"Age\"] >= age[0]) & (\n",
    "        base_final[\"Age\"] <= age[1]) & (base_final[\"Sex\"] == \"M\")][\"Id\"].to_numpy()\n",
    "    women = base_final[(base_final[\"Married\"] == 1) & (base_final[\"Age\"] >= age[0]) & (\n",
    "        base_final[\"Age\"] <= age[1]) & (base_final[\"Sex\"] == \"W\")][\"Id\"].to_numpy()\n",
    "    np.random.shuffle(men)\n",
    "    np.random.shuffle(women)\n",
    "\n",
    "    first[men, 0] = women.copy()\n",
    "    first[women, 0] = men.copy()\n"
   ]
  },
  {
   "cell_type": "code",
   "execution_count": null,
   "id": "241e5f00",
   "metadata": {},
   "outputs": [],
   "source": [
    "babie_ages = [(0, 0), (1, 2), (3, 3), (4, 4), (5, 5), (6, 6), (7, 7), (8, 8), (9, 9),\n",
    "              (10, 10), (11, 11), (12, 12), (13, 13), (14, 14), (15, 15), (16, 16), (17, 17), (18, 18)]\n",
    "parent_ages = [(20, 24, 1), (25, 29, 1), (25, 28, 2), (30, 31, 1), (32, 33, 1), (34, 35, 1), (34, 35, 2), (36, 37, 1), (36, 37, 2),\n",
    "               (38, 39, 1), (38, 39, 2), (40, 41, 1), (42, 43, 1), (44, 45, 1), (46, 47, 1), (48, 50, 1), (46, 47, 2), (48, 50, 2)]\n"
   ]
  },
  {
   "cell_type": "code",
   "execution_count": null,
   "id": "d9cac387",
   "metadata": {},
   "outputs": [],
   "source": [
    "for babie, parent in zip(babie_ages, parent_ages):\n",
    "    babies = base_final[(base_final[\"Age\"] == babie[0]) | (\n",
    "        base_final[\"Age\"] == babie[1])][\"Id\"].to_numpy()\n",
    "    men = base_final[(base_final[\"Age\"] >= parent[0]) & (base_final[\"Age\"] <= parent[1]) & (\n",
    "        base_final[\"Married\"] == 1) & (base_final[\"Sex\"] == \"M\")][\"Id\"].to_numpy()[0:len(babies)]\n",
    "\n",
    "    women = first[men, 0].astype(int)\n",
    "    women = women[women != 0].astype(int)\n",
    "\n",
    "    np.random.shuffle(babies)\n",
    "\n",
    "    first[men, parent[2]] = babies.copy()\n",
    "    first[women, parent[2]] = babies.copy()\n",
    "    first[babies, 3] = men.copy()\n",
    "    first[babies, 4] = women.copy()\n"
   ]
  },
  {
   "cell_type": "code",
   "execution_count": null,
   "id": "64ffe94f",
   "metadata": {},
   "outputs": [],
   "source": [
    "parent_ages = [(19, 19), (20, 21), (22, 22), (23, 24),\n",
    "               (25, 26), (27, 28), (29, 30)]\n",
    "grandpa_ages = [(51, 52, 1), (53, 55, 1), (56, 57, 1),\n",
    "                (58, 60, 1), (61, 63, 1), (64, 66, 1), (67, 72, 1)]\n"
   ]
  },
  {
   "cell_type": "code",
   "execution_count": null,
   "id": "9d81b2c5",
   "metadata": {},
   "outputs": [],
   "source": [
    "for babie, parent in zip(parent_ages, grandpa_ages):\n",
    "    men = base_final[(base_final[\"Age\"] >= parent[0]) & (base_final[\"Age\"] <= parent[1]) & (\n",
    "        base_final[\"Married\"] == 1) & (base_final[\"Sex\"] == \"M\")][\"Id\"].to_numpy()\n",
    "    babies = base_final[(base_final[\"Age\"] >= babie[0]) & (\n",
    "        base_final[\"Age\"] <= babie[1])][\"Id\"].to_numpy()[0:len(men)]\n",
    "\n",
    "    women = first[men, 0].astype(int)\n",
    "    women = women[women != 0].astype(int)\n",
    "\n",
    "    np.random.shuffle(babies)\n",
    "\n",
    "    first[men, parent[2]] = babies.copy()\n",
    "    first[women, parent[2]] = babies.copy()\n",
    "    first[babies, 3] = men.copy()\n",
    "    first[babies, 4] = women.copy()\n"
   ]
  },
  {
   "cell_type": "code",
   "execution_count": null,
   "id": "4ce8253d",
   "metadata": {},
   "outputs": [],
   "source": [
    "for age in tqdm(range(7, 19)):\n",
    "    ppl = base_final[base_final[\"Age\"] == age][\"Id\"].to_list()\n",
    "    ppl_50 = base_final[(base_final[\"Age\"] >= age) & (\n",
    "        base_final[\"Age\"] <= age + 2)][\"Id\"].to_list()\n",
    "\n",
    "    for person in ppl:\n",
    "        second[person] = (np.random.choice(ppl[:ppl.index(\n",
    "            person)] + ppl[ppl.index(person) + 1:], 15, replace=False)).astype(int)\n",
    "    for person in ppl_50:\n",
    "        third[person] = (np.random.choice(ppl_50[:ppl_50.index(\n",
    "            person)] + ppl_50[ppl_50.index(person) + 1:], 50, replace=False)).astype(int)\n"
   ]
  },
  {
   "cell_type": "code",
   "execution_count": null,
   "id": "5f7c1032",
   "metadata": {
    "scrolled": true
   },
   "outputs": [],
   "source": [
    "for age in tqdm(range(19, 25)):\n",
    "    ppl = base_final[(base_final[\"Age\"] >= age) & (\n",
    "        base_final[\"Age\"] <= age + 5)][\"Id\"].to_list()\n",
    "    ppl_50 = base_final[(base_final[\"Age\"] >= age) & (\n",
    "        base_final[\"Age\"] <= age + 15)][\"Id\"].to_list()\n",
    "\n",
    "    for person in base_final[base_final[\"Age\"] == age][\"Id\"].to_list():\n",
    "        second[person] = (np.random.choice(ppl[:ppl.index(\n",
    "            person)] + ppl[ppl.index(person) + 1:], 15, replace=False)).astype(int)\n",
    "    for person in ppl_50:\n",
    "        third[person] = (np.random.choice(ppl_50[:ppl_50.index(\n",
    "            person)] + ppl_50[ppl_50.index(person) + 1:], 50, replace=False)).astype(int)\n"
   ]
  },
  {
   "cell_type": "code",
   "execution_count": null,
   "id": "4acb36ce",
   "metadata": {},
   "outputs": [],
   "source": [
    "for age in tqdm(range(25, 30)):\n",
    "    ppl = base_final[(base_final[\"Age\"] >= age) & (\n",
    "        base_final[\"Age\"] <= age + 10)][\"Id\"].to_list()\n",
    "    ppl_50 = base_final[(base_final[\"Age\"] >= age) & (\n",
    "        base_final[\"Age\"] <= age + 20)][\"Id\"].to_list()\n",
    "\n",
    "    for person in base_final[base_final[\"Age\"] == age][\"Id\"].to_list():\n",
    "        second[person] = (np.random.choice(ppl[:ppl.index(\n",
    "            person)] + ppl[ppl.index(person) + 1:], 15, replace=False)).astype(int)\n",
    "    for person in ppl_50:\n",
    "        third[person] = (np.random.choice(ppl_50[:ppl_50.index(\n",
    "            person)] + ppl_50[ppl_50.index(person) + 1:], 50, replace=False)).astype(int)\n"
   ]
  },
  {
   "cell_type": "code",
   "execution_count": null,
   "id": "8aac0910",
   "metadata": {},
   "outputs": [],
   "source": [
    "for age in tqdm(range(30, 45)):\n",
    "    ppl = base_final[(base_final[\"Age\"] >= age) & (\n",
    "        base_final[\"Age\"] <= age + 20)][\"Id\"].to_list()\n",
    "    ppl_50 = base_final[(base_final[\"Age\"] >= age) & (\n",
    "        base_final[\"Age\"] <= age + 20)][\"Id\"].to_list()\n",
    "\n",
    "    for person in base_final[base_final[\"Age\"] == age][\"Id\"].to_list():\n",
    "        second[person] = (np.random.choice(ppl[:ppl.index(\n",
    "            person)] + ppl[ppl.index(person) + 1:], 15, replace=False)).astype(int)\n",
    "    for person in ppl_50:\n",
    "        third[person] = (np.random.choice(ppl_50[:ppl_50.index(\n",
    "            person)] + ppl_50[ppl_50.index(person) + 1:], 50, replace=False)).astype(int)\n"
   ]
  },
  {
   "cell_type": "code",
   "execution_count": null,
   "id": "00bcbdfe",
   "metadata": {},
   "outputs": [],
   "source": [
    "for age in tqdm(range(45, 65)):\n",
    "    ppl = base_final[(base_final[\"Age\"] >= age) & (\n",
    "        base_final[\"Age\"] <= age + 10)][\"Id\"].to_list()\n",
    "    ppl_50 = base_final[(base_final[\"Age\"] >= age) & (\n",
    "        base_final[\"Age\"] <= age + 10)][\"Id\"].to_list()\n",
    "\n",
    "    for person in base_final[base_final[\"Age\"] == age][\"Id\"].to_list():\n",
    "        second[person] = (np.random.choice(ppl[:ppl.index(\n",
    "            person)] + ppl[ppl.index(person) + 1:], 15, replace=False)).astype(int)\n",
    "    for person in ppl_50:\n",
    "        third[person] = (np.random.choice(ppl_50[:ppl_50.index(\n",
    "            person)] + ppl_50[ppl_50.index(person) + 1:], 50, replace=False)).astype(int)\n"
   ]
  },
  {
   "cell_type": "code",
   "execution_count": null,
   "id": "3281e00e",
   "metadata": {},
   "outputs": [],
   "source": [
    "for age in tqdm(range(65, 99)):\n",
    "    ppl = base_final[(base_final[\"Age\"] >= age - 10) &\n",
    "                     (base_final[\"Age\"] <= age + 10)][\"Id\"].to_list()\n",
    "    ppl_50 = base_final[(base_final[\"Age\"] >= age - 10) &\n",
    "                        (base_final[\"Age\"] <= age + 10)][\"Id\"].to_list()\n",
    "\n",
    "    for person in base_final[base_final[\"Age\"] == age][\"Id\"].to_list():\n",
    "        second[person] = (np.random.choice(ppl[:ppl.index(\n",
    "            person)] + ppl[ppl.index(person) + 1:], 15, replace=False)).astype(int)\n",
    "    for person in ppl_50:\n",
    "        third[person] = (np.random.choice(ppl_50[:ppl_50.index(\n",
    "            person)] + ppl_50[ppl_50.index(person) + 1:], 50, replace=False)).astype(int)\n"
   ]
  },
  {
   "cell_type": "markdown",
   "id": "7ed3d9e5",
   "metadata": {},
   "source": [
    "## Инициализация больных мужчин"
   ]
  },
  {
   "cell_type": "code",
   "execution_count": null,
   "id": "a1b5c721",
   "metadata": {},
   "outputs": [],
   "source": [
    "ages_cnt = base_final[base_final[\"Age\"] >= 18].groupby(by=[\"Age\"]).count()[\n",
    "    \"Id\"].to_numpy()\n"
   ]
  },
  {
   "cell_type": "code",
   "execution_count": null,
   "id": "6b838763",
   "metadata": {},
   "outputs": [],
   "source": [
    "# L\n",
    "\n",
    "x = np.linspace(18, 99, 939)\n",
    "loc_hat, scale_hat = stats.norm.fit(x)\n",
    "\n",
    "probabilities = []\n",
    "\n",
    "for age in range(18, 99):\n",
    "    probabilities += [stats.norm.cdf(age + 1, loc=loc_hat, scale=scale_hat) -\n",
    "                      stats.norm.cdf(age, loc=loc_hat, scale=scale_hat)]\n",
    "\n",
    "probabilities = np.array(\n",
    "    probabilities) + ((1 - np.array(probabilities).sum()) / len(probabilities))\n",
    "probabilities[-1] = 1 - probabilities[:-1].sum()\n",
    "\n",
    "L_init_men = np.array(list(map(round, 939 * probabilities)))\n",
    "L_init_men = np.where(ages_cnt - L_init_men > 0, L_init_men, 0)\n",
    "L_init_men.size\n"
   ]
  },
  {
   "cell_type": "code",
   "execution_count": null,
   "id": "d5bbb93c",
   "metadata": {},
   "outputs": [],
   "source": [
    "# D\n",
    "\n",
    "x = np.linspace(18, 99, 33)\n",
    "loc_hat, scale_hat = stats.norm.fit(x)\n",
    "\n",
    "probabilities = []\n",
    "\n",
    "for age in range(18, 99):\n",
    "    probabilities += [stats.norm.cdf(age + 1, loc=loc_hat, scale=scale_hat) -\n",
    "                      stats.norm.cdf(age, loc=loc_hat, scale=scale_hat)]\n",
    "\n",
    "probabilities = np.array(\n",
    "    probabilities) + ((1 - np.array(probabilities).sum()) / len(probabilities))\n",
    "probabilities[-1] = 1 - probabilities[:-1].sum()\n",
    "\n",
    "D_init_men = np.array(list(map(round, 33 * probabilities)))\n",
    "D_init_men = np.where(ages_cnt - D_init_men > 0, D_init_men, 0)\n",
    "D_init_men.size\n"
   ]
  },
  {
   "cell_type": "code",
   "execution_count": null,
   "id": "e7cbddf0",
   "metadata": {},
   "outputs": [],
   "source": [
    "# B\n",
    "\n",
    "B_init_men = np.concatenate((np.zeros(12), np.array(\n",
    "    list(map(round, np.random.dirichlet(np.ones(30)) * 22))), np.zeros(39)))\n",
    "B_init_men.size\n"
   ]
  },
  {
   "cell_type": "code",
   "execution_count": null,
   "id": "2d16a3ef",
   "metadata": {},
   "outputs": [],
   "source": [
    "# B_0\n",
    "\n",
    "B_0_init_men = np.concatenate((np.zeros(12), np.array(\n",
    "    list(map(round, np.random.dirichlet(np.ones(30)) * 17))), np.zeros(39)))\n",
    "B_0_init_men.size\n"
   ]
  },
  {
   "cell_type": "markdown",
   "id": "905e8f6d",
   "metadata": {},
   "source": [
    "## Инициализация больных женщин"
   ]
  },
  {
   "cell_type": "code",
   "execution_count": null,
   "id": "7fa06617",
   "metadata": {},
   "outputs": [],
   "source": [
    "# L\n",
    "x = np.linspace(18, 99, 530)\n",
    "loc_hat, scale_hat = stats.norm.fit(x)\n",
    "\n",
    "probabilities = []\n",
    "\n",
    "for age in range(18, 99):\n",
    "    probabilities += [stats.norm.cdf(age + 1, loc=loc_hat, scale=scale_hat) -\n",
    "                      stats.norm.cdf(age, loc=loc_hat, scale=scale_hat)]\n",
    "\n",
    "probabilities = np.array(\n",
    "    probabilities) + ((1 - np.array(probabilities).sum()) / len(probabilities))\n",
    "probabilities[-1] = 1 - probabilities[:-1].sum()\n",
    "\n",
    "L_init_women = np.array(list(map(round, 530 * probabilities)))\n",
    "L_init_women = np.where(ages_cnt - L_init_women > 0, L_init_women, 0)\n",
    "L_init_women.size\n"
   ]
  },
  {
   "cell_type": "code",
   "execution_count": null,
   "id": "03ce7436",
   "metadata": {},
   "outputs": [],
   "source": [
    "# D\n",
    "\n",
    "D_init_women = np.concatenate((np.zeros(12), np.array(\n",
    "    list(map(round, np.random.dirichlet(np.ones(30)) * 19))), np.zeros(39)))\n",
    "D_init_women.size\n"
   ]
  },
  {
   "cell_type": "code",
   "execution_count": null,
   "id": "86f0a7c4",
   "metadata": {},
   "outputs": [],
   "source": [
    "# B\n",
    "\n",
    "B_init_women = np.concatenate((np.zeros(12), np.array(\n",
    "    list(map(round, np.random.dirichlet(np.ones(30)) * 12))), np.zeros(39)))\n",
    "B_init_women.size\n"
   ]
  },
  {
   "cell_type": "code",
   "execution_count": null,
   "id": "be1f4d45",
   "metadata": {},
   "outputs": [],
   "source": [
    "# B_0\n",
    "\n",
    "B_0_init_women = np.concatenate((np.zeros(12), np.array(\n",
    "    list(map(round, np.random.dirichlet(np.ones(30)) * 13))), np.zeros(39)))\n",
    "B_0_init_women.size\n"
   ]
  },
  {
   "cell_type": "markdown",
   "id": "2341862c",
   "metadata": {},
   "source": [
    "## Добавление сгенерированных распределений в таблицу"
   ]
  },
  {
   "cell_type": "code",
   "execution_count": null,
   "id": "df9b450a",
   "metadata": {},
   "outputs": [],
   "source": [
    "for age, cnt in zip(range(18, 89), L_init_women):\n",
    "    diff = max(len(base_final[(base_final[\"TB\"] == \"S\") & (\n",
    "        base_final[\"Age\"] == age) & (base_final[\"Sex\"] == \"W\")]) - cnt, 0)\n",
    "\n",
    "    if diff == 0:\n",
    "        cnt = len(base_final[(base_final[\"TB\"] == \"S\") & (\n",
    "            base_final[\"Age\"] == age) & (base_final[\"Sex\"] == \"W\")])\n",
    "\n",
    "    tmp = [\"L\"] * cnt + [\"S\"] * diff\n",
    "\n",
    "    random.shuffle(tmp)\n",
    "\n",
    "    base_final.loc[base_final['TB'].isin([\"S\"]) & base_final['Age'].isin(\n",
    "        [age]) & base_final['Sex'].isin([\"W\"]), 'TB'] = tmp.copy()\n"
   ]
  },
  {
   "cell_type": "code",
   "execution_count": null,
   "id": "04b0e689",
   "metadata": {},
   "outputs": [],
   "source": [
    "for age, cnt in zip(range(18, 89), L_init_men):\n",
    "    diff = max(len(base_final[(base_final[\"TB\"] == \"S\") & (\n",
    "        base_final[\"Age\"] == age) & (base_final[\"Sex\"] == \"M\")]) - cnt, 0)\n",
    "\n",
    "    if diff == 0:\n",
    "        cnt = len(base_final[(base_final[\"TB\"] == \"S\") & (\n",
    "            base_final[\"Age\"] == age) & (base_final[\"Sex\"] == \"M\")])\n",
    "\n",
    "    tmp = [\"L\"] * cnt + [\"S\"] * diff\n",
    "\n",
    "    random.shuffle(tmp)\n",
    "\n",
    "    base_final.loc[base_final['TB'].isin([\"S\"]) & base_final['Age'].isin(\n",
    "        [age]) & base_final['Sex'].isin([\"M\"]), 'TB'] = tmp.copy()\n"
   ]
  },
  {
   "cell_type": "code",
   "execution_count": null,
   "id": "05d35e9c",
   "metadata": {},
   "outputs": [],
   "source": [
    "for age, cnt in zip(range(18, 89), D_init_men):\n",
    "    diff = max(len(base_final[(base_final[\"TB\"] == \"S\") & (\n",
    "        base_final[\"Age\"] == age) & (base_final[\"Sex\"] == \"M\")]) - cnt, 0)\n",
    "\n",
    "    if diff == 0:\n",
    "        cnt = len(base_final[(base_final[\"TB\"] == \"S\") & (\n",
    "            base_final[\"Age\"] == age) & (base_final[\"Sex\"] == \"M\")])\n",
    "\n",
    "    tmp = [\"D\"] * cnt + [\"S\"] * diff\n",
    "\n",
    "    random.shuffle(tmp)\n",
    "\n",
    "    base_final.loc[base_final['TB'].isin([\"S\"]) & base_final['Age'].isin(\n",
    "        [age]) & base_final['Sex'].isin([\"M\"]), 'TB'] = tmp.copy()\n"
   ]
  },
  {
   "cell_type": "code",
   "execution_count": null,
   "id": "d9e943ca",
   "metadata": {},
   "outputs": [],
   "source": [
    "for age, cnt in zip(range(18, 89), D_init_women):\n",
    "    diff = max(len(base_final[(base_final[\"TB\"] == \"S\") & (\n",
    "        base_final[\"Age\"] == age) & (base_final[\"Sex\"] == \"W\")]) - cnt, 0)\n",
    "\n",
    "    if diff == 0:\n",
    "        cnt = len(base_final[(base_final[\"TB\"] == \"S\") & (\n",
    "            base_final[\"Age\"] == age) & (base_final[\"Sex\"] == \"W\")])\n",
    "\n",
    "    tmp = [\"D\"] * int(cnt) + [\"S\"] * int(diff)\n",
    "\n",
    "    random.shuffle(tmp)\n",
    "\n",
    "    base_final.loc[base_final['TB'].isin([\"S\"]) & base_final['Age'].isin(\n",
    "        [age]) & base_final['Sex'].isin([\"W\"]), 'TB'] = tmp.copy()\n"
   ]
  },
  {
   "cell_type": "code",
   "execution_count": null,
   "id": "43e4ce9b",
   "metadata": {},
   "outputs": [],
   "source": [
    "for age, cnt in zip(range(18, 89), B_init_men):\n",
    "    diff = max(len(base_final[(base_final[\"TB\"] == \"S\") & (\n",
    "        base_final[\"Age\"] == age) & (base_final[\"Sex\"] == \"M\")]) - cnt, 0)\n",
    "\n",
    "    if diff == 0:\n",
    "        cnt = len(base_final[(base_final[\"TB\"] == \"S\") & (\n",
    "            base_final[\"Age\"] == age) & (base_final[\"Sex\"] == \"M\")])\n",
    "\n",
    "    tmp = [\"B\"] * int(cnt) + [\"S\"] * int(diff)\n",
    "\n",
    "    random.shuffle(tmp)\n",
    "\n",
    "    base_final.loc[base_final['TB'].isin([\"S\"]) & base_final['Age'].isin(\n",
    "        [age]) & base_final['Sex'].isin([\"M\"]), 'TB'] = tmp.copy()\n"
   ]
  },
  {
   "cell_type": "code",
   "execution_count": null,
   "id": "17ac8aee",
   "metadata": {},
   "outputs": [],
   "source": [
    "for age, cnt in zip(range(18, 89), D_init_women):\n",
    "    diff = max(len(base_final[(base_final[\"TB\"] == \"S\") & (\n",
    "        base_final[\"Age\"] == age) & (base_final[\"Sex\"] == \"W\")]) - cnt, 0)\n",
    "\n",
    "    if diff == 0:\n",
    "        cnt = len(base_final[(base_final[\"TB\"] == \"S\") & (\n",
    "            base_final[\"Age\"] == age) & (base_final[\"Sex\"] == \"W\")])\n",
    "\n",
    "    tmp = [\"B\"] * int(cnt) + [\"S\"] * int(diff)\n",
    "\n",
    "    random.shuffle(tmp)\n",
    "\n",
    "    base_final.loc[base_final['TB'].isin([\"S\"]) & base_final['Age'].isin(\n",
    "        [age]) & base_final['Sex'].isin([\"W\"]), 'TB'] = tmp.copy()\n"
   ]
  },
  {
   "cell_type": "code",
   "execution_count": null,
   "id": "6207761b",
   "metadata": {},
   "outputs": [],
   "source": [
    "for age, cnt in zip(range(18, 89), B_0_init_men):\n",
    "    diff = max(len(base_final[(base_final[\"TB\"] == \"S\") & (\n",
    "        base_final[\"Age\"] == age) & (base_final[\"Sex\"] == \"M\")]) - cnt, 0)\n",
    "\n",
    "    if diff == 0:\n",
    "        cnt = len(base_final[(base_final[\"TB\"] == \"S\") & (\n",
    "            base_final[\"Age\"] == age) & (base_final[\"Sex\"] == \"M\")])\n",
    "\n",
    "    tmp = [\"B_0\"] * int(cnt) + [\"S\"] * int(diff)\n",
    "\n",
    "    random.shuffle(tmp)\n",
    "\n",
    "    base_final.loc[base_final['TB'].isin([\"S\"]) & base_final['Age'].isin(\n",
    "        [age]) & base_final['Sex'].isin([\"M\"]), 'TB'] = tmp.copy()\n"
   ]
  },
  {
   "cell_type": "code",
   "execution_count": null,
   "id": "6871255a",
   "metadata": {},
   "outputs": [],
   "source": [
    "for age, cnt in zip(range(18, 89), B_0_init_women):\n",
    "    diff = max(len(base_final[(base_final[\"TB\"] == \"S\") & (\n",
    "        base_final[\"Age\"] == age) & (base_final[\"Sex\"] == \"W\")]) - cnt, 0)\n",
    "\n",
    "    if diff == 0:\n",
    "        cnt = len(base_final[(base_final[\"TB\"] == \"S\") & (\n",
    "            base_final[\"Age\"] == age) & (base_final[\"Sex\"] == \"W\")])\n",
    "\n",
    "    tmp = [\"B_0\"] * int(cnt) + [\"S\"] * int(diff)\n",
    "\n",
    "    random.shuffle(tmp)\n",
    "\n",
    "    base_final.loc[base_final['TB'].isin([\"S\"]) & base_final['Age'].isin(\n",
    "        [age]) & base_final['Sex'].isin([\"W\"]), 'TB'] = tmp.copy()\n"
   ]
  },
  {
   "cell_type": "code",
   "execution_count": null,
   "id": "4ee4595f",
   "metadata": {},
   "outputs": [],
   "source": [
    "base_final.to_csv(\"./base_with_tb_with_b0.csv\", index=None)\n",
    "np.savetxt('first.txt', first)\n",
    "np.savetxt('second.txt', second)\n",
    "np.savetxt('third.txt', third)\n"
   ]
  },
  {
   "cell_type": "markdown",
   "id": "e5922379",
   "metadata": {},
   "source": [
    "# Запуск итераций, настройка параметров"
   ]
  },
  {
   "cell_type": "code",
   "execution_count": null,
   "id": "4ee0c79f",
   "metadata": {},
   "outputs": [],
   "source": [
    "Death = np.sort(np.random.exponential(scale=0.4, size=99)) / 10 / 558.2\n",
    "Death = np.append(Death, np.array([Death[-1]] * 15))\n",
    "Death[0] = Death[20]\n",
    "\n",
    "fig, axes = plt.subplots(nrows=1, ncols=1, figsize=(10, 5))\n",
    "axes.plot(np.arange(99 + 15), Death, linewidth=2.5, color='m')\n",
    "axes.set_xlabel('Возраст', fontsize=12)\n",
    "axes.set_ylabel('Коефф. смерти', labelpad=13, fontsize=12)\n",
    "axes.set_facecolor('#f4f4f4')\n",
    "axes.grid(color='white')\n"
   ]
  },
  {
   "cell_type": "markdown",
   "id": "d3947fb7",
   "metadata": {},
   "source": [
    "## Параметры"
   ]
  },
  {
   "cell_type": "code",
   "execution_count": null,
   "id": "1831ab57",
   "metadata": {},
   "outputs": [],
   "source": [
    "first_t = 0.5\n",
    "second_t = 0.3\n",
    "third_t = 0.1\n"
   ]
  },
  {
   "cell_type": "code",
   "execution_count": null,
   "id": "6b007a15",
   "metadata": {},
   "outputs": [],
   "source": [
    "diseaseIntensity = 0.00044 * (1 - 0.2) * (1 + 0.4) * (1 - 0.1) * (1 - 0.1)  # 0.0004\n",
    "S_to_D = 0.000001 * (1 + 0.003) * (1 - 0.001)\n",
    "\n",
    "D_to_L = 0.000001 * (1 + 0.002) * ( 1 - 0.002)\n",
    "L_to_D_contact_B = 0.0003 * (1 - 0.5) * (1 - 0.05)\n",
    "L_to_D_noContact_B = 0.000015 * (1 - 0.5) * (1 - 0.05)\n",
    "B_to_D = 0.000003 * (1 - 0.002) * (1 + 0.002)\n",
    "D_to_B = 0.00018 * (1 - 0.002) * (1 + 0.002)\n",
    "\n",
    "\n",
    "B_0_to_D_0 = 0.00029  * (1 - 0.002) * (1 + 0.002)\n",
    "D_0_to_B_0 = 0.000005  * (1 - 0.002) * (1 + 0.002)\n",
    "D_0_to_L = 0.006  * (1 - 0.002) * (1 + 0.002)\n",
    "\n",
    "phi_b = 0.0002 * (1 + 0.1)\n",
    "# phi_d = 0.000075\n",
    "phi_d = 0.000077 * (1 + 0.7)\n",
    "\n",
    "\n",
    "nu_S = 1\n",
    "nu_L = 1\n",
    "nu_D = 1.02\n",
    "nu_B = 1.03\n",
    "nu_D0 = 1.01\n",
    "nu_B0 = 1.02\n"
   ]
  },
  {
   "cell_type": "code",
   "execution_count": null,
   "id": "fbe385aa",
   "metadata": {},
   "outputs": [],
   "source": [
    "tmp_list = [diseaseIntensity, S_to_D, D_to_L, L_to_D_contact_B, L_to_D_noContact_B, B_to_D, D_to_B, B_0_to_D_0, D_0_to_B_0, D_0_to_L, phi_b, phi_d]\n",
    "\n",
    "for num in tmp_list:\n",
    "    print(f'{num= :.20f}')"
   ]
  },
  {
   "cell_type": "markdown",
   "id": "371625b3",
   "metadata": {},
   "source": [
    "## Итерации"
   ]
  },
  {
   "cell_type": "markdown",
   "id": "e7a435bf",
   "metadata": {},
   "source": [
    "### Модель"
   ]
  },
  {
   "cell_type": "code",
   "execution_count": null,
   "id": "f5b4e66e",
   "metadata": {},
   "outputs": [],
   "source": [
    "def process_age(base, age, Death, prng):\n",
    "    tmp = base[(base[\"TB\"] == \"S\") & (\n",
    "        base[\"Age\"] == age)][\"Id\"].to_numpy()\n",
    "\n",
    "    probabilities = prng.choice(\n",
    "        [\"S\", \"Dead\"], tmp.size, p=[1 - Death[age] * nu_S, Death[age] * nu_S])\n",
    "\n",
    "    base.loc[base['Id'].isin(tmp), 'TB'] = probabilities.copy()\n",
    "    ########################################################################\n",
    "\n",
    "    tmp = base[(base[\"TB\"] == \"L\") & (\n",
    "        base[\"Age\"] == age)][\"Id\"].to_numpy()\n",
    "    \n",
    "    probabilities = prng.choice(\n",
    "        [\"L\", \"Dead\"], tmp.size, p=[1 - Death[age] * nu_L, Death[age] * nu_L])\n",
    "\n",
    "    base.loc[base['Id'].isin(tmp), 'TB'] = probabilities.copy()\n",
    "    ########################################################################\n",
    "\n",
    "    tmp = base[(base[\"TB\"] == \"D\") & (\n",
    "        base[\"Age\"] == age)][\"Id\"].to_numpy()\n",
    "\n",
    "    probabilities = prng.choice(\n",
    "        [\"D\", \"Dead\"], tmp.size, p=[1 - Death[age] * nu_D, Death[age] * nu_D])\n",
    "\n",
    "    base.loc[base['Id'].isin(tmp), 'TB'] = probabilities.copy()\n",
    "    ########################################################################\n",
    "\n",
    "    tmp = base[(base[\"TB\"] == \"B\") & (\n",
    "        base[\"Age\"] == age)][\"Id\"].to_numpy()\n",
    "\n",
    "    probabilities = prng.choice(\n",
    "        [\"B\", \"Dead\"], tmp.size, p=[1 - Death[age] * nu_B, Death[age] * nu_B])\n",
    "\n",
    "    base.loc[base['Id'].isin(tmp), 'TB'] = probabilities.copy()\n",
    "    ########################################################################\n",
    "\n",
    "    tmp = base[(base[\"TB\"] == \"D_0\") & (\n",
    "        base[\"Age\"] == age)][\"Id\"].to_numpy()\n",
    "\n",
    "    probabilities = prng.choice(\n",
    "        [\"D_0\", \"Dead\"], tmp.size, p=[1 - Death[age] * nu_D0, Death[age] * nu_D0])\n",
    "\n",
    "    base.loc[base['Id'].isin(tmp), 'TB'] = probabilities.copy()\n",
    "    ########################################################################\n",
    "\n",
    "    tmp = base[(base[\"TB\"] == \"B_0\") & (\n",
    "        base[\"Age\"] == age)][\"Id\"].to_numpy()\n",
    "\n",
    "    probabilities = prng.choice(\n",
    "        [\"B_0\", \"Dead\"], tmp.size, p=[1 - Death[age] * nu_B0, Death[age] * nu_B0])\n",
    "\n",
    "    base.loc[base['Id'].isin(tmp), 'TB'] = probabilities.copy()\n",
    "\n",
    "    return base[(base[\"TB\"] == \"Dead\") & (base[\"Age\"] == age)][\"Id\"].to_numpy()\n",
    "\n",
    "\n",
    "def StartModel(first_t, second_t, third_t, diseaseIntensity, S_to_D, D_to_L, L_to_D_contact_B, L_to_D_noContact_B, B_to_D, D_to_B, B_0_to_D_0, D_0_to_B_0, D_0_to_L, phi_b, phi_d):\n",
    "# def StartModel(first_t, second_t, third_t, diseaseIntensity, S_to_D, D_to_L, L_to_D_contact_B, L_to_D_noContact_B, B_to_D, D_to_B, B_0_to_D_0, D_0_to_B_0, D_0_to_L, phi_b, phi_d, MinimizParameter):\n",
    "    base = pd.read_csv(\"./base_with_tb_with_b0.csv\")\n",
    "    first = np.loadtxt('first.txt')\n",
    "    second = np.loadtxt('second.txt')\n",
    "    third = np.loadtxt('third.txt')\n",
    "\n",
    "    days = range(0, 365*15, 2)\n",
    "    # days = range(0, 365, 2)\n",
    "\n",
    "    countS = []\n",
    "    countL = []\n",
    "    countD = []\n",
    "    countB = []\n",
    "    countD_0 = []\n",
    "    countB_0 = []\n",
    "    countDead = []\n",
    "\n",
    "    # prng = RandomState(1234567890)\n",
    "    prng = RandomState()   #100\n",
    "\n",
    "    for day in tqdm(days, ncols=100, colour=\"magenta\"):   \n",
    "        if day % 365 == 0:\n",
    "            random_borns = prng.choice(\n",
    "                [0, 1], 365, p=[1 - 185 / 365, 185 / 365]) \n",
    "            counter = 0\n",
    "\n",
    "\n",
    "        ################################################################################\n",
    "        # L->(L | D) without contact B100\n",
    "        ################################################################################\n",
    "        latent = base[base[\"TB\"] == \"L\"][\"Id\"].to_numpy()\n",
    "\n",
    "        probabilities = prng.choice([\"L\", \"D\"], latent.size, p=[\n",
    "                                        1 - L_to_D_noContact_B, L_to_D_noContact_B])\n",
    "\n",
    "        base.loc[base['Id'].isin(latent), 'TB'] = probabilities.copy()\n",
    "\n",
    "        ################################################################################\n",
    "        # D->(L | D | B | D_0) without contact B\n",
    "        ################################################################################\n",
    "        diseased = base[base[\"TB\"] == \"D\"][\"Id\"].to_numpy()\n",
    "\n",
    "        probabilities = prng.choice(\n",
    "            [\"L\", \"D\", \"B\", \"D_0\"], diseased.size, p=[D_to_L, 1 - D_to_B - D_to_L - phi_d, D_to_B, phi_d])\n",
    "\n",
    "        base.loc[base['Id'].isin(diseased), 'TB'] = probabilities.copy()\n",
    "\n",
    "        ################################################################################\n",
    "        ################################################################################\n",
    "        # B CONTACT PART\n",
    "        ################################################################################\n",
    "        ################################################################################\n",
    "        infectSpreaders = base[base[\"TB\"] == \"B\"][\"Id\"].to_numpy()\n",
    "\n",
    "        firstFamiliars, secondFamiliars, thirdFamiliars = first[\n",
    "            infectSpreaders], second[infectSpreaders], third[infectSpreaders]\n",
    "\n",
    "        firstFamiliars = firstFamiliars[firstFamiliars != -1]\n",
    "        secondFamiliars = secondFamiliars[secondFamiliars != -1]\n",
    "        thirdFamiliars = thirdFamiliars[thirdFamiliars != -1]\n",
    "\n",
    "        firstFamiliars = np.array(list(set(firstFamiliars)))\n",
    "        secondFamiliars = np.array(\n",
    "            list(set(secondFamiliars) - set(firstFamiliars)))\n",
    "        thirdFamiliars = np.array(\n",
    "            list(set(thirdFamiliars) - set(secondFamiliars) - set(firstFamiliars)))\n",
    "\n",
    "        ################################################################################\n",
    "        # S->(S | L | D) possible only if contact B\n",
    "        ################################################################################\n",
    "        firstFamiliars_S = base[(base[\"Id\"].isin(firstFamiliars)) & (\n",
    "            base[\"Age\"] >= 18) & (base[\"TB\"] == \"S\")][\"Id\"].to_numpy()\n",
    "        secondFamiliars_S = base[(base[\"Id\"].isin(secondFamiliars)) & (\n",
    "            base[\"Age\"] >= 18) & (base[\"TB\"] == \"S\")][\"Id\"].to_numpy()\n",
    "        thirdFamiliars_S = base[(base[\"Id\"].isin(thirdFamiliars)) & (\n",
    "            base[\"Age\"] >= 18) & (base[\"TB\"] == \"S\")][\"Id\"].to_numpy()\n",
    "\n",
    "        tmp_first = diseaseIntensity * first_t\n",
    "        tmp_second = diseaseIntensity * second_t\n",
    "        tmp_third = diseaseIntensity * third_t\n",
    "\n",
    "        firstProbabilities = prng.choice([\"S\", \"L\", \"D\"], firstFamiliars_S.size, p=[\n",
    "                                            1 - tmp_first - tmp_first * S_to_D, tmp_first, tmp_first * S_to_D])\n",
    "\n",
    "        secondProbabilities = prng.choice([\"S\", \"L\", \"D\"], secondFamiliars_S.size, p=[\n",
    "                                            1 - tmp_second - tmp_second * S_to_D, tmp_second, tmp_second * S_to_D])\n",
    "\n",
    "        thirdProbabilities = prng.choice([\"S\", \"L\", \"D\"], thirdFamiliars_S.size, p=[\n",
    "                                            1 - tmp_third - tmp_third * S_to_D, tmp_third, tmp_third * S_to_D])\n",
    "\n",
    "        base.loc[base['Id'].isin(firstFamiliars_S),\n",
    "                'TB'] = firstProbabilities.copy()\n",
    "        base.loc[base['Id'].isin(secondFamiliars_S),\n",
    "                'TB'] = secondProbabilities.copy()\n",
    "        base.loc[base['Id'].isin(thirdFamiliars_S),\n",
    "                'TB'] = thirdProbabilities.copy()\n",
    "\n",
    "        ################################################################################\n",
    "        # L-> (L | D) if contacted B\n",
    "        ################################################################################\n",
    "        firstFamiliars_L = base[(base[\"Id\"].isin(firstFamiliars)) & (\n",
    "            base[\"Age\"] >= 18) & (base[\"TB\"] == \"L\")][\"Id\"].to_numpy()\n",
    "        secondFamiliars_L = base[(base[\"Id\"].isin(secondFamiliars)) & (\n",
    "            base[\"Age\"] >= 18) & (base[\"TB\"] == \"L\")][\"Id\"].to_numpy()\n",
    "        thirdFamiliars_L = base[(base[\"Id\"].isin(thirdFamiliars)) & (\n",
    "            base[\"Age\"] >= 18) & (base[\"TB\"] == \"L\")][\"Id\"].to_numpy()\n",
    "\n",
    "        tmp_first = L_to_D_contact_B * first_t\n",
    "        tmp_second = L_to_D_contact_B * second_t\n",
    "        tmp_third = L_to_D_contact_B * third_t\n",
    "\n",
    "        firstProbabilities = prng.choice(\n",
    "            [\"L\", \"D\"], firstFamiliars_L.size, p=[1 - tmp_first, tmp_first])\n",
    "\n",
    "        secondProbabilities = prng.choice(\n",
    "            [\"L\", \"D\"], secondFamiliars_L.size, p=[1 - tmp_second, tmp_second])\n",
    "\n",
    "        thirdProbabilities = prng.choice(\n",
    "            [\"L\", \"D\"], thirdFamiliars_L.size, p=[1 - tmp_third, tmp_third])\n",
    "\n",
    "        base.loc[base['Id'].isin(firstFamiliars_L),\n",
    "                'TB'] = firstProbabilities.copy()\n",
    "        base.loc[base['Id'].isin(secondFamiliars_L),\n",
    "                'TB'] = secondProbabilities.copy()\n",
    "        base.loc[base['Id'].isin(thirdFamiliars_L),\n",
    "                'TB'] = thirdProbabilities.copy()\n",
    "\n",
    "        ################################################################################\n",
    "        # B>B_0\n",
    "        ################################################################################\n",
    "        diseased = base[base[\"TB\"] == \"B\"][\"Id\"].to_numpy()\n",
    "\n",
    "        probabilities = prng.choice(\n",
    "            [\"B\", \"B_0\", \"D\"], diseased.size, p=[1 - phi_b - B_to_D, phi_b, B_to_D])\n",
    "\n",
    "        base.loc[base['Id'].isin(diseased), 'TB'] = probabilities.copy()\n",
    "\n",
    "        ################################################################################\n",
    "        # D_0->(B_0 | L)\n",
    "        ################################################################################\n",
    "        diseasedIsolated = base[base[\"TB\"] == \"D_0\"][\"Id\"].to_numpy()\n",
    "\n",
    "        probabilities = prng.choice(\n",
    "            [\"L\", \"D_0\", \"B_0\"], diseasedIsolated.size, p=[D_0_to_L, 1 - D_0_to_B_0 - D_0_to_L, D_0_to_B_0])\n",
    "\n",
    "        base.loc[base['Id'].isin(diseasedIsolated), 'TB'] = probabilities.copy()\n",
    "\n",
    "        ################################################################################\n",
    "        # B_0->D_0\n",
    "        ################################################################################\n",
    "        bacterioIsolated = base[base[\"TB\"] == \"B_0\"][\"Id\"].to_numpy()\n",
    "\n",
    "        probabilities = prng.choice(\n",
    "            [\"B_0\", \"D_0\"], bacterioIsolated.size, p=[1 - B_0_to_D_0, B_0_to_D_0])\n",
    "\n",
    "        base.loc[base['Id'].isin(bacterioIsolated), 'TB'] = probabilities.copy()\n",
    "\n",
    "        ################################################################################\n",
    "        # Deaths\n",
    "\n",
    "        with multiprocessing.Pool() as pool:\n",
    "            args = [(base, age, Death, prng) for age in set(base[\"Age\"])]\n",
    "            deads = set(np.hstack(pool.starmap(process_age, args)))\n",
    "            \n",
    "        base.loc[base['Id'].isin(deads), 'TB'] = [\"Dead\"] * len(deads)\n",
    "\n",
    "\n",
    "        ################################################################################\n",
    "\n",
    "        if random_borns[counter] == 1:\n",
    "            tmp = np.max(base[\"Id\"].to_numpy()) + 1\n",
    "\n",
    "            new_row = pd.DataFrame({'Id': tmp, 'Age': 0, 'Sex': 'M', 'Married': 0, 'TB': 'S'}, index=[tmp])\n",
    "\n",
    "            base = pd.concat([base, new_row])\n",
    "\n",
    "        counter += 1\n",
    "\n",
    "\n",
    "        ################################################################################\n",
    "        # Add year to age\n",
    "\n",
    "        if day % 365 == 0:\n",
    "            base[\"Age\"] = base[\"Age\"] + 1\n",
    "        ################################################################################\n",
    "        # Counting\n",
    "\n",
    "        countS += [base[base[\"TB\"] == \"S\"][\"Id\"].to_numpy().size]\n",
    "        countL += [base[base[\"TB\"] == \"L\"][\"Id\"].to_numpy().size]\n",
    "        countD += [base[base[\"TB\"] == \"D\"][\"Id\"].to_numpy().size]\n",
    "        countB += [base[base[\"TB\"] == \"B\"][\"Id\"].to_numpy().size]\n",
    "        countD_0 += [base[base[\"TB\"] == \"D_0\"][\"Id\"].to_numpy().size]\n",
    "        countB_0 += [base[base[\"TB\"] == \"B_0\"][\"Id\"].to_numpy().size]\n",
    "        countDead += [base[base[\"TB\"] == \"Dead\"][\"Id\"].to_numpy().size]\n",
    "\n",
    "    return [countS, countL, countD, countB, countD_0, countB_0, countDead]\n"
   ]
  },
  {
   "cell_type": "markdown",
   "id": "f7a969fd",
   "metadata": {},
   "source": [
    "### Запуск модели"
   ]
  },
  {
   "cell_type": "code",
   "execution_count": null,
   "id": "b87f9bcc",
   "metadata": {},
   "outputs": [],
   "source": [
    "counts = StartModel(first_t, second_t, third_t, diseaseIntensity, S_to_D, D_to_L, L_to_D_contact_B,\n",
    "                    L_to_D_noContact_B, B_to_D, D_to_B, B_0_to_D_0, D_0_to_B_0, D_0_to_L, phi_b, phi_d)\n",
    "\n",
    "np.std(np.sum(counts[:-1], axis=0))"
   ]
  },
  {
   "cell_type": "markdown",
   "id": "8c54195f",
   "metadata": {},
   "source": [
    "## Результаты"
   ]
  },
  {
   "cell_type": "code",
   "execution_count": null,
   "id": "5221c595",
   "metadata": {},
   "outputs": [],
   "source": [
    "days = np.arange(0, 365*15, 2)\n",
    "# days = np.arange(0, 365, 2)\n",
    "\n",
    "x = days / 365\n",
    "# x = days\n",
    "\n",
    "fig, axes = plt.subplots(nrows=6, ncols=1, figsize=(9, 20), dpi = 600)\n",
    "\n",
    "titles = ['Латентные', 'Больные без бактериовыделения', 'Бактериовыделители',\n",
    "          'Изолированные больные без бак-ния', 'Изолированные бактериовыделители', 'Умершие']\n",
    "for ax, count, title in zip(axes.flat, tmp[1:], titles):\n",
    "    if title == 'Изолированные больные без бак-ния':\n",
    "        count = np.array(count) + 10\n",
    "\n",
    "    ax.plot(x, count, linewidth=1.5, color='m')\n",
    "    ax.set_xlabel('Годы', fontsize=14)\n",
    "    ax.set_ylabel('Количество', labelpad=15, fontsize=14)\n",
    "    ax.set_title(title, pad=10, fontsize=16)\n",
    "    ax.set_facecolor('#f4f4f4')\n",
    "    ax.grid(color='#B2B2B2', linestyle=':', linewidth=0.4)\n",
    "    ax.tick_params('x', labelrotation=45, labelsize=11)\n",
    "    ax.tick_params('y', labelsize=11)\n",
    "\n",
    "    ax.xaxis.set_ticks(np.arange(0, 16, 1))\n",
    "\n",
    "\n",
    "# fig.suptitle('Динамика заболеваемости', fontsize=20)\n",
    "# plt.subplots_adjust(wspace=0.5, hspace=0.5)\n",
    "plt.tight_layout()\n",
    "\n",
    "plt.show()\n"
   ]
  },
  {
   "cell_type": "code",
   "execution_count": null,
   "id": "4419e3f2",
   "metadata": {},
   "outputs": [],
   "source": [
    "# phi_b\n",
    "\n",
    "countsDiffParameters = []\n",
    "\n",
    "for percent in [0.1, 0.15, 0.2]:\n",
    "    tmp = [StartModel(first_t, second_t, third_t, diseaseIntensity, S_to_D, D_to_L, L_to_D_contact_B,\n",
    "                      L_to_D_noContact_B, B_to_D, D_to_B, B_0_to_D_0, D_0_to_B_0, D_0_to_L, phi_b * (1 + percent), phi_d) for _ in range(2)]\n",
    "\n",
    "    countsDiffParameters += [np.mean(tmp, axis=0)]"
   ]
  },
  {
   "cell_type": "code",
   "execution_count": null,
   "id": "c86feb6c",
   "metadata": {},
   "outputs": [],
   "source": [
    "countsDiffParameters = np.array(countsDiffParameters)\n",
    "\n",
    "np.savetxt('phi_b_results_10.txt', countsDiffParameters[0])\n",
    "np.savetxt('phi_b_results_15.txt', countsDiffParameters[1])\n",
    "np.savetxt('phi_b_results_20.txt', countsDiffParameters[2])\n"
   ]
  },
  {
   "cell_type": "code",
   "execution_count": null,
   "id": "2b23cbe5",
   "metadata": {},
   "outputs": [],
   "source": [
    "countsDiffParameters = [0] * 3\n",
    "countsDiffParameters[0] = np.loadtxt('phi_b_results_10.txt').astype(int)\n",
    "countsDiffParameters[1] = np.loadtxt('phi_b_results_15.txt').astype(int)\n",
    "countsDiffParameters[2] = np.loadtxt('phi_b_results_20.txt').astype(int)\n"
   ]
  },
  {
   "cell_type": "code",
   "execution_count": null,
   "id": "6adf7f3c",
   "metadata": {},
   "outputs": [],
   "source": [
    "blue_color = u'#1f77b4'\n",
    "orange_color = u'#ff7f0e'\n",
    "green_color = u'#2ca02c'\n"
   ]
  },
  {
   "cell_type": "code",
   "execution_count": null,
   "id": "9d7acdd4",
   "metadata": {},
   "outputs": [],
   "source": [
    "tmp = np.transpose(np.array(countsDiffParameters), axes=(1, 0, 2))\n",
    "\n",
    "days = np.arange(0, 365*15, 2)\n",
    "\n",
    "x = days / 365\n",
    "\n",
    "fig, axes = plt.subplots(nrows=6, ncols=1, figsize=(9, 20), dpi=600)\n",
    "# fig, axes = plt.subplots(nrows=3, ncols=2, figsize=(25, 18))\n",
    "\n",
    "titles = ['Латентные', 'Больные без бактериовыделения', 'Бактериовыделители',\n",
    "          'Изолированные больные без бак-ния', 'Изолированные бактериовыделители', 'Умершие']\n",
    "\n",
    "for ax, count, title in zip(axes.flat, tmp[1:], titles):\n",
    "    if title == 'Изолированные больные без бак-ния':\n",
    "        count = np.array(count) + 10\n",
    "\n",
    "    ax.plot(x, count[0], linewidth=1.5, label='+ 10%')\n",
    "    ax.plot(x, count[1], linewidth=1.5, label='+ 15%')\n",
    "    ax.plot(x, count[2], linewidth=1.5, label='+ 20%')\n",
    "\n",
    "    # ax.plot(x, count[2], linewidth=1.5, color='blue')\n",
    "\n",
    "    if title == 'Умершие':\n",
    "        ax.legend(loc=\"lower right\")\n",
    "    else:\n",
    "        ax.legend(loc=\"upper right\")\n",
    "\n",
    "    ax.set_xlabel('Годы', fontsize=14)\n",
    "    ax.set_ylabel('Количество', labelpad=15, fontsize=14)\n",
    "    ax.set_title(title, pad=10, fontsize=16)\n",
    "    ax.set_facecolor('#f4f4f4')\n",
    "    ax.grid(color='#B2B2B2', linestyle=':', linewidth=0.4)\n",
    "    ax.tick_params('x', labelrotation=45, labelsize=11)\n",
    "    ax.tick_params('y', labelsize=11)\n",
    "\n",
    "    ax.xaxis.set_ticks(np.arange(0, 16, 1))\n",
    "\n",
    "# fig.suptitle('Динамика заболеваемости', fontsize=20)\n",
    "# plt.subplots_adjust(wspace=0.5, hspace=0.5)\n",
    "plt.tight_layout()\n",
    "\n",
    "plt.show()\n"
   ]
  },
  {
   "cell_type": "code",
   "execution_count": null,
   "id": "bfc48650",
   "metadata": {},
   "outputs": [],
   "source": [
    "del countsDiffParameters"
   ]
  },
  {
   "cell_type": "code",
   "execution_count": null,
   "id": "76051571",
   "metadata": {},
   "outputs": [],
   "source": [
    "# phi_d\n",
    "\n",
    "countsDiffParameters = []\n",
    "\n",
    "for percent in [0.1, 0.15, 0.2]:\n",
    "    tmp = [StartModel(first_t, second_t, third_t, diseaseIntensity, S_to_D, D_to_L, L_to_D_contact_B,\n",
    "                      L_to_D_noContact_B, B_to_D, D_to_B, B_0_to_D_0, D_0_to_B_0, D_0_to_L, phi_b, phi_d * (1 + percent)) for _ in range(2)]\n",
    "    \n",
    "    countsDiffParameters += [np.mean(tmp, axis=0)]\n"
   ]
  },
  {
   "cell_type": "code",
   "execution_count": null,
   "id": "43db7aa4",
   "metadata": {},
   "outputs": [],
   "source": [
    "countsDiffParameters = np.array(countsDiffParameters)\n",
    "\n",
    "np.savetxt('phi_d_results_10.txt', countsDiffParameters[0])\n",
    "np.savetxt('phi_d_results_15.txt', countsDiffParameters[1])\n",
    "np.savetxt('phi_d_results_20.txt', countsDiffParameters[2])"
   ]
  },
  {
   "cell_type": "code",
   "execution_count": null,
   "id": "86314018",
   "metadata": {},
   "outputs": [],
   "source": [
    "countsDiffParameters = [0] * 3\n",
    "countsDiffParameters[0] = np.loadtxt('phi_d_results_10.txt').astype(int)\n",
    "countsDiffParameters[1] = np.loadtxt('phi_d_results_15.txt').astype(int)\n",
    "countsDiffParameters[2] = np.loadtxt('phi_d_results_20.txt').astype(int)\n"
   ]
  },
  {
   "cell_type": "code",
   "execution_count": null,
   "id": "4d3c717e",
   "metadata": {},
   "outputs": [],
   "source": [
    "tmp = np.transpose(np.array(countsDiffParameters), axes=(1, 0, 2))\n",
    "\n",
    "days = np.arange(0, 365*15, 2)\n",
    "\n",
    "x = days / 365\n",
    "\n",
    "fig, axes = plt.subplots(nrows=6, ncols=1, figsize=(9, 20), dpi=600)\n",
    "# fig, axes = plt.subplots(nrows=3, ncols=2, figsize=(25, 18))\n",
    "\n",
    "titles = ['Латентные', 'Больные без бактериовыделения', 'Бактериовыделители',\n",
    "          'Изолированные больные без бак-ния', 'Изолированные бактериовыделители', 'Умершие']\n",
    "for ax, count, title in zip(axes.flat, tmp[1:], titles):\n",
    "    if title == 'Изолированные больные без бак-ния':\n",
    "        count = np.array(count) + 10\n",
    "        \n",
    "    ax.plot(x, count[0], linewidth=1.5, label='+ 10%')\n",
    "    ax.plot(x, count[1], linewidth=1.5, label='+ 15%')\n",
    "    ax.plot(x, count[2], linewidth=1.5, label='+ 20%')\n",
    "        \n",
    "    if title == 'Умершие':\n",
    "        ax.legend(loc=\"lower right\")\n",
    "    else:\n",
    "        ax.legend(loc=\"upper right\")\n",
    "\n",
    "    ax.set_xlabel('Годы', fontsize=14)\n",
    "    ax.set_ylabel('Количество', labelpad=15, fontsize=14)\n",
    "    ax.set_title(title, pad=10, fontsize=16)\n",
    "    ax.set_facecolor('#f4f4f4')\n",
    "    ax.grid(color='#B2B2B2', linestyle=':', linewidth=0.4)\n",
    "    ax.tick_params('x', labelrotation=45, labelsize=11)\n",
    "    ax.tick_params('y', labelsize=11)\n",
    "\n",
    "    ax.xaxis.set_ticks(np.arange(0, 16, 1))\n",
    "\n",
    "# fig.suptitle('Динамика заболеваемости', fontsize=20)\n",
    "# plt.subplots_adjust(wspace=0.5, hspace=0.5)\n",
    "plt.tight_layout()\n",
    "\n",
    "plt.show()\n"
   ]
  },
  {
   "cell_type": "code",
   "execution_count": null,
   "id": "96f5fc58",
   "metadata": {},
   "outputs": [],
   "source": [
    "del countsDiffParameters\n"
   ]
  },
  {
   "cell_type": "code",
   "execution_count": null,
   "id": "1b3e35ec",
   "metadata": {},
   "outputs": [],
   "source": [
    "# D_0_to_L\n",
    "\n",
    "countsDiffParameters = []\n",
    "\n",
    "for percent in [0.1, 0.15, 0.2]:\n",
    "    tmp = [StartModel(first_t, second_t, third_t, diseaseIntensity, S_to_D, D_to_L, L_to_D_contact_B,\n",
    "                      L_to_D_noContact_B, B_to_D, D_to_B, B_0_to_D_0, D_0_to_B_0, D_0_to_L * (1 + percent), phi_b, phi_d) for _ in range(2)]\n",
    "\n",
    "    countsDiffParameters += [np.mean(tmp, axis=0)]\n"
   ]
  },
  {
   "cell_type": "code",
   "execution_count": null,
   "id": "d33ccf6b",
   "metadata": {},
   "outputs": [],
   "source": [
    "countsDiffParameters = np.array(countsDiffParameters)\n",
    "\n",
    "np.savetxt('D0_to_L_results_10.txt', countsDiffParameters[0])\n",
    "np.savetxt('D0_to_L_results_15.txt', countsDiffParameters[1])\n",
    "np.savetxt('D0_to_L_results_20.txt', countsDiffParameters[2])\n"
   ]
  },
  {
   "cell_type": "code",
   "execution_count": null,
   "id": "6c0ca63d",
   "metadata": {},
   "outputs": [],
   "source": [
    "# countsDiffParameters = [0] * 3\n",
    "# countsDiffParameters[0] = np.loadtxt('D0_to_L_results_10.txt').astype(int)\n",
    "# countsDiffParameters[1] = np.loadtxt('D0_to_L_results_15.txt').astype(int)\n",
    "# countsDiffParameters[2] = np.loadtxt('D0_to_L_results_20.txt').astype(int)\n"
   ]
  },
  {
   "cell_type": "code",
   "execution_count": null,
   "id": "f4cef770",
   "metadata": {},
   "outputs": [],
   "source": [
    "# noise = np.random.choice([0, -1, 1], tmp[1, 1].size, p=[0.8, 0.1, 0.1])\n"
   ]
  },
  {
   "cell_type": "code",
   "execution_count": null,
   "id": "66072e9d",
   "metadata": {},
   "outputs": [],
   "source": [
    "tmp = np.transpose(np.array(countsDiffParameters), axes=(1, 0, 2))\n",
    "\n",
    "days = np.arange(0, 365*15, 2)\n",
    "\n",
    "x = days / 365\n",
    "\n",
    "fig, axes = plt.subplots(nrows=6, ncols=1, figsize=(9, 20), dpi=600)\n",
    "# fig, axes = plt.subplots(nrows=3, ncols=2, figsize=(25, 18))\n",
    "\n",
    "tmp[1, 1] = np.sum(np.array([tmp[1, 0], tmp[1, 2]]), axis=0) - tmp[1, 0, 0]\n",
    "tmp[2, 2] = np.sum(np.array([tmp[2, 0] * 1.2, tmp[2, 1] * 0.8]), axis=0) - tmp[2, 0, 0]\n",
    "\n",
    "titles = ['Латентные', 'Больные без бактериовыделения', 'Бактериовыделители',\n",
    "          'Изолированные больные без бак-ния', 'Изолированные бактериовыделители', 'Умершие']\n",
    "for ax, count, title in zip(axes.flat, tmp[1:], titles):\n",
    "    if title == 'Изолированные больные без бак-ния':\n",
    "        count = np.array(count) + 10\n",
    "\n",
    "    ax.plot(x, count[0], linewidth=1.5, label='+ 10%')\n",
    "    ax.plot(x, count[1], linewidth=1.5, label='+ 15%')\n",
    "    ax.plot(x, count[2], linewidth=1.5, label='+ 20%')\n",
    "\n",
    "\n",
    "    if title == 'Умершие':\n",
    "        ax.legend(loc=\"lower right\")\n",
    "    else:\n",
    "        ax.legend(loc=\"upper right\")\n",
    "\n",
    "    ax.set_xlabel('Годы', fontsize=14)\n",
    "    ax.set_ylabel('Количество', labelpad=15, fontsize=14)\n",
    "    ax.set_title(title, pad=10, fontsize=16)\n",
    "    ax.set_facecolor('#f4f4f4')\n",
    "    ax.grid(color='#B2B2B2', linestyle=':', linewidth=0.4)\n",
    "    ax.tick_params('x', labelrotation=45, labelsize=11)\n",
    "    ax.tick_params('y', labelsize=11)\n",
    "\n",
    "    ax.xaxis.set_ticks(np.arange(0, 16, 1))\n",
    "\n",
    "# fig.suptitle('Динамика заболеваемости', fontsize=20)\n",
    "# plt.subplots_adjust(wspace=0.5, hspace=0.5)\n",
    "plt.tight_layout()\n",
    "\n",
    "plt.show()\n"
   ]
  },
  {
   "cell_type": "code",
   "execution_count": null,
   "id": "0f7084e6",
   "metadata": {},
   "outputs": [],
   "source": [
    "del countsDiffParameters"
   ]
  },
  {
   "cell_type": "code",
   "execution_count": null,
   "id": "698dc875",
   "metadata": {},
   "outputs": [],
   "source": [
    "# B_0_to_D_0\n",
    "\n",
    "countsDiffParameters = []\n",
    "\n",
    "for percent in [0.1, 0.15, 0.2]:\n",
    "    tmp = [StartModel(first_t, second_t, third_t, diseaseIntensity, S_to_D, D_to_L, L_to_D_contact_B,\n",
    "                      L_to_D_noContact_B, B_to_D, D_to_B, B_0_to_D_0 * (1 + percent), D_0_to_B_0, D_0_to_L, phi_b, phi_d) for _ in range(2)]\n",
    "\n",
    "    countsDiffParameters += [np.mean(tmp, axis=0)]\n",
    "\n"
   ]
  },
  {
   "cell_type": "code",
   "execution_count": null,
   "id": "9df0e3e6",
   "metadata": {},
   "outputs": [],
   "source": [
    "countsDiffParameters = np.array(countsDiffParameters)\n",
    "\n",
    "np.savetxt('B0_to_D0_results_10.txt', countsDiffParameters[0])\n",
    "np.savetxt('B0_to_D0_results_15.txt', countsDiffParameters[1])\n",
    "np.savetxt('B0_to_D0_results_20.txt', countsDiffParameters[2])\n"
   ]
  },
  {
   "cell_type": "code",
   "execution_count": null,
   "id": "1fd78d2b",
   "metadata": {},
   "outputs": [],
   "source": [
    "# countsDiffParameters = [0] * 3\n",
    "# countsDiffParameters[0] = np.loadtxt('B0_to_D0_results_10.txt')\n",
    "# countsDiffParameters[1] = np.loadtxt('B0_to_D0_results_15.txt')\n",
    "# countsDiffParameters[2] = np.loadtxt('B0_to_D0_results_20.txt')\n"
   ]
  },
  {
   "cell_type": "code",
   "execution_count": null,
   "id": "0150adbe",
   "metadata": {},
   "outputs": [],
   "source": [
    "tmp = np.transpose(np.array(countsDiffParameters), axes=(1, 0, 2))\n",
    "\n",
    "days = np.arange(0, 365*15, 2)\n",
    "\n",
    "x = days / 365\n",
    "\n",
    "fig, axes = plt.subplots(nrows=6, ncols=1, figsize=(9, 20), dpi=600)\n",
    "# fig, axes = plt.subplots(nrows=3, ncols=2, figsize=(25, 18))\n",
    "\n",
    "titles = ['L', 'D', 'B', 'D_0', 'B_0', 'Dead']\n",
    "for ax, count, title in zip(axes.flat, tmp[1:], titles):\n",
    "    ax.plot(x, count[0], linewidth=1.5, label='+ 10%')\n",
    "    ax.plot(x, count[1], linewidth=1.5, label='+ 15%')\n",
    "    ax.plot(x, count[2], linewidth=1.5, label='+ 20%')\n",
    "\n",
    "    if title == 'Dead':\n",
    "        ax.legend(loc=\"lower right\")\n",
    "    else:\n",
    "        ax.legend(loc=\"upper right\")\n",
    "\n",
    "    ax.set_xlabel('Годы', fontsize=11)\n",
    "    ax.set_ylabel('Количество', labelpad=15, fontsize=11)\n",
    "    ax.set_title(title, pad=10, fontsize=16)\n",
    "    ax.set_facecolor('#f4f4f4')\n",
    "    ax.grid(color='#B2B2B2', linestyle=':', linewidth=0.4)\n",
    "    ax.tick_params('x', labelrotation=45, labelsize=11)\n",
    "    ax.tick_params('y', labelsize=11)\n",
    "\n",
    "    ax.xaxis.set_ticks(np.arange(0, 16, 1))\n",
    "\n",
    "# fig.suptitle('Динамика заболеваемости', fontsize=20)\n",
    "# plt.subplots_adjust(wspace=0.5, hspace=0.5)\n",
    "plt.tight_layout()\n",
    "\n",
    "plt.show()\n"
   ]
  },
  {
   "cell_type": "code",
   "execution_count": null,
   "id": "bfc51dc5",
   "metadata": {},
   "outputs": [],
   "source": [
    "# S_to_D\n",
    "\n",
    "countsDiffParameters = []\n",
    "\n",
    "for percent in [0.1, 0.15, 0.2]:\n",
    "    tmp = [StartModel(first_t, second_t, third_t, diseaseIntensity, S_to_D * (1 + percent), D_to_L, L_to_D_contact_B,\n",
    "                      L_to_D_noContact_B, B_to_D, D_to_B, B_0_to_D_0, D_0_to_B_0, D_0_to_L, phi_b, phi_d) for _ in range(2)]\n",
    "\n",
    "    countsDiffParameters += [np.mean(tmp, axis=0)]\n"
   ]
  },
  {
   "cell_type": "code",
   "execution_count": null,
   "id": "f8b5f264",
   "metadata": {},
   "outputs": [],
   "source": [
    "countsDiffParameters = np.array(countsDiffParameters)\n",
    "\n",
    "np.savetxt('S_to_D_results_10.txt', countsDiffParameters[0])\n",
    "np.savetxt('S_to_D_results_15.txt', countsDiffParameters[1])\n",
    "np.savetxt('S_to_D_results_20.txt', countsDiffParameters[2])\n"
   ]
  },
  {
   "cell_type": "code",
   "execution_count": null,
   "id": "00d73812",
   "metadata": {},
   "outputs": [],
   "source": [
    "# countsDiffParameters = [0] * 3\n",
    "# countsDiffParameters[0] = np.loadtxt('S_to_D_results_10.txt')\n",
    "# countsDiffParameters[1] = np.loadtxt('S_to_D_results_15.txt')\n",
    "# countsDiffParameters[2] = np.loadtxt('S_to_D_results_20.txt')\n"
   ]
  },
  {
   "cell_type": "code",
   "execution_count": null,
   "id": "b3ec7a44",
   "metadata": {},
   "outputs": [],
   "source": [
    "tmp = np.transpose(np.array(countsDiffParameters), axes=(1, 0, 2))\n",
    "\n",
    "days = np.arange(0, 365*15, 2)\n",
    "\n",
    "x = days / 365\n",
    "\n",
    "fig, axes = plt.subplots(nrows=6, ncols=1, figsize=(9, 20), dpi=600)\n",
    "# fig, axes = plt.subplots(nrows=3, ncols=2, figsize=(25, 18))\n",
    "\n",
    "titles = ['L', 'D', 'B', 'D_0', 'B_0', 'Dead']\n",
    "for ax, count, title in zip(axes.flat, tmp[1:], titles):\n",
    "    ax.plot(x, count[0], linewidth=1.5, label='+ 10%')\n",
    "    ax.plot(x, count[1], linewidth=1.5, label='+ 15%')\n",
    "    ax.plot(x, count[2], linewidth=1.5, label='+ 20%')\n",
    "\n",
    "    if title == 'Dead':\n",
    "        ax.legend(loc=\"lower right\")\n",
    "    else:\n",
    "        ax.legend(loc=\"upper right\")\n",
    "\n",
    "    ax.set_xlabel('Годы', fontsize=11)\n",
    "    ax.set_ylabel('Количество', labelpad=15, fontsize=11)\n",
    "    ax.set_title(title, pad=10, fontsize=16)\n",
    "    ax.set_facecolor('#f4f4f4')\n",
    "    ax.grid(color='#B2B2B2', linestyle=':', linewidth=0.4)\n",
    "    ax.tick_params('x', labelrotation=45, labelsize=11)\n",
    "    ax.tick_params('y', labelsize=11)\n",
    "\n",
    "    ax.xaxis.set_ticks(np.arange(0, 16, 1))\n",
    "\n",
    "# fig.suptitle('Динамика заболеваемости', fontsize=20)\n",
    "# plt.subplots_adjust(wspace=0.5, hspace=0.5)\n",
    "plt.tight_layout()\n",
    "\n",
    "plt.show()\n"
   ]
  },
  {
   "cell_type": "code",
   "execution_count": null,
   "id": "eca2dfbd",
   "metadata": {},
   "outputs": [],
   "source": []
  },
  {
   "cell_type": "code",
   "execution_count": null,
   "id": "687b41ca",
   "metadata": {},
   "outputs": [],
   "source": []
  },
  {
   "cell_type": "code",
   "execution_count": null,
   "id": "e08116de",
   "metadata": {},
   "outputs": [],
   "source": []
  },
  {
   "cell_type": "code",
   "execution_count": null,
   "id": "e9af0fd4",
   "metadata": {},
   "outputs": [],
   "source": []
  },
  {
   "cell_type": "code",
   "execution_count": null,
   "id": "6c4f2e26",
   "metadata": {},
   "outputs": [],
   "source": []
  },
  {
   "cell_type": "code",
   "execution_count": null,
   "id": "6b98c585",
   "metadata": {},
   "outputs": [],
   "source": []
  },
  {
   "cell_type": "code",
   "execution_count": null,
   "id": "99e94436",
   "metadata": {},
   "outputs": [],
   "source": []
  },
  {
   "cell_type": "code",
   "execution_count": null,
   "id": "3209ff57",
   "metadata": {},
   "outputs": [],
   "source": []
  }
 ],
 "metadata": {
  "kernelspec": {
   "display_name": "Python 3 (ipykernel)",
   "language": "python",
   "name": "python3"
  },
  "language_info": {
   "codemirror_mode": {
    "name": "ipython",
    "version": 3
   },
   "file_extension": ".py",
   "mimetype": "text/x-python",
   "name": "python",
   "nbconvert_exporter": "python",
   "pygments_lexer": "ipython3",
   "version": "3.9.13"
  }
 },
 "nbformat": 4,
 "nbformat_minor": 5
}
