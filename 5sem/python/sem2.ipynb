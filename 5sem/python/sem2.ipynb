{
 "cells": [
  {
   "cell_type": "code",
   "execution_count": 1,
   "id": "20053ee9",
   "metadata": {},
   "outputs": [],
   "source": [
    "import numpy as np"
   ]
  },
  {
   "cell_type": "code",
   "execution_count": 2,
   "id": "d7e6d50a",
   "metadata": {},
   "outputs": [],
   "source": [
    "x = np.array([1, 2, 3])"
   ]
  },
  {
   "cell_type": "code",
   "execution_count": 3,
   "id": "9fc90586",
   "metadata": {},
   "outputs": [],
   "source": [
    "x = np.array([(1, 1), (2, 2), (3, 3)])"
   ]
  },
  {
   "cell_type": "code",
   "execution_count": 4,
   "id": "52c119fe",
   "metadata": {},
   "outputs": [
    {
     "data": {
      "text/plain": [
       "array([[1, 1],\n",
       "       [2, 2],\n",
       "       [3, 3]])"
      ]
     },
     "execution_count": 4,
     "metadata": {},
     "output_type": "execute_result"
    }
   ],
   "source": [
    "x"
   ]
  },
  {
   "cell_type": "code",
   "execution_count": 5,
   "id": "6b75b873",
   "metadata": {},
   "outputs": [],
   "source": [
    "x = np.zeros((5, 3))"
   ]
  },
  {
   "cell_type": "code",
   "execution_count": 6,
   "id": "9ea7caf4",
   "metadata": {},
   "outputs": [
    {
     "data": {
      "text/plain": [
       "array([[0., 0., 0.],\n",
       "       [0., 0., 0.],\n",
       "       [0., 0., 0.],\n",
       "       [0., 0., 0.],\n",
       "       [0., 0., 0.]])"
      ]
     },
     "execution_count": 6,
     "metadata": {},
     "output_type": "execute_result"
    }
   ],
   "source": [
    "x"
   ]
  },
  {
   "cell_type": "code",
   "execution_count": 7,
   "id": "f7630cf7",
   "metadata": {},
   "outputs": [],
   "source": [
    "x = np.ones((4, 4))"
   ]
  },
  {
   "cell_type": "code",
   "execution_count": 8,
   "id": "e09669d5",
   "metadata": {},
   "outputs": [
    {
     "data": {
      "text/plain": [
       "array([[1., 1., 1., 1.],\n",
       "       [1., 1., 1., 1.],\n",
       "       [1., 1., 1., 1.],\n",
       "       [1., 1., 1., 1.]])"
      ]
     },
     "execution_count": 8,
     "metadata": {},
     "output_type": "execute_result"
    }
   ],
   "source": [
    "x"
   ]
  },
  {
   "cell_type": "code",
   "execution_count": 9,
   "id": "bfa13990",
   "metadata": {},
   "outputs": [],
   "source": [
    "x = np.full((3, 2), 4.1)"
   ]
  },
  {
   "cell_type": "code",
   "execution_count": 10,
   "id": "b2babc39",
   "metadata": {},
   "outputs": [
    {
     "data": {
      "text/plain": [
       "array([[4.1, 4.1],\n",
       "       [4.1, 4.1],\n",
       "       [4.1, 4.1]])"
      ]
     },
     "execution_count": 10,
     "metadata": {},
     "output_type": "execute_result"
    }
   ],
   "source": [
    "x"
   ]
  },
  {
   "cell_type": "code",
   "execution_count": 13,
   "id": "b0893088",
   "metadata": {},
   "outputs": [],
   "source": [
    "x = np.empty((6, 7))"
   ]
  },
  {
   "cell_type": "code",
   "execution_count": 14,
   "id": "33de621c",
   "metadata": {},
   "outputs": [
    {
     "data": {
      "text/plain": [
       "array([[4.65324892e-310, 0.00000000e+000, 6.91971153e-310,\n",
       "        6.91971153e-310, 6.91971153e-310, 6.91971153e-310,\n",
       "        6.91971153e-310],\n",
       "       [6.91971153e-310, 6.91971153e-310, 6.91971153e-310,\n",
       "        6.91971153e-310, 6.91971153e-310, 6.91971153e-310,\n",
       "        6.91971153e-310],\n",
       "       [6.91971153e-310, 6.91971153e-310, 6.91971153e-310,\n",
       "        6.91971153e-310, 6.91971153e-310, 6.91971153e-310,\n",
       "        6.91971153e-310],\n",
       "       [6.91971153e-310, 6.91971153e-310, 6.91971153e-310,\n",
       "        6.91971156e-310, 6.91971153e-310, 6.91971153e-310,\n",
       "        6.91971153e-310],\n",
       "       [6.91971153e-310, 6.91971153e-310, 6.91971153e-310,\n",
       "        6.91971153e-310, 6.91971153e-310, 6.91971153e-310,\n",
       "        6.91971153e-310],\n",
       "       [6.91971153e-310, 6.91971153e-310, 6.91971153e-310,\n",
       "        6.91971153e-310, 6.91971153e-310, 6.91971183e-310,\n",
       "        6.91971183e-310]])"
      ]
     },
     "execution_count": 14,
     "metadata": {},
     "output_type": "execute_result"
    }
   ],
   "source": [
    "x"
   ]
  },
  {
   "cell_type": "code",
   "execution_count": 15,
   "id": "35ea54de",
   "metadata": {},
   "outputs": [],
   "source": [
    "x = np.random.randn(2, 3, 4)"
   ]
  },
  {
   "cell_type": "code",
   "execution_count": 16,
   "id": "26a483ec",
   "metadata": {},
   "outputs": [
    {
     "data": {
      "text/plain": [
       "array([[[ 0.59625123,  0.87579825,  0.87344745, -0.67670265],\n",
       "        [-0.45008382, -0.17375344, -1.68815247, -0.5580448 ],\n",
       "        [ 0.00803683, -0.2992161 , -0.17464867,  0.62581859]],\n",
       "\n",
       "       [[ 1.01162878,  0.29215972,  1.07368804, -0.02454228],\n",
       "        [ 2.35884538, -0.74033626, -0.08826329,  1.70354646],\n",
       "        [ 0.54111825, -0.63116692,  0.43532292, -0.36538366]]])"
      ]
     },
     "execution_count": 16,
     "metadata": {},
     "output_type": "execute_result"
    }
   ],
   "source": [
    "x"
   ]
  },
  {
   "cell_type": "code",
   "execution_count": 17,
   "id": "40985029",
   "metadata": {},
   "outputs": [
    {
     "data": {
      "text/plain": [
       "(2, 3, 4)"
      ]
     },
     "execution_count": 17,
     "metadata": {},
     "output_type": "execute_result"
    }
   ],
   "source": [
    "x.shape"
   ]
  },
  {
   "cell_type": "code",
   "execution_count": 18,
   "id": "8fbd0feb",
   "metadata": {},
   "outputs": [
    {
     "data": {
      "text/plain": [
       "dtype('float64')"
      ]
     },
     "execution_count": 18,
     "metadata": {},
     "output_type": "execute_result"
    }
   ],
   "source": [
    "x.dtype"
   ]
  },
  {
   "cell_type": "code",
   "execution_count": 19,
   "id": "67369b15",
   "metadata": {},
   "outputs": [
    {
     "data": {
      "text/plain": [
       "(numpy.float16, numpy.float32, numpy.float64, numpy.float128)"
      ]
     },
     "execution_count": 19,
     "metadata": {},
     "output_type": "execute_result"
    }
   ],
   "source": [
    "np.float16, np.float32, np.float64, np.float128"
   ]
  },
  {
   "cell_type": "code",
   "execution_count": 20,
   "id": "6d5a2a86",
   "metadata": {},
   "outputs": [
    {
     "data": {
      "text/plain": [
       "(numpy.int8, numpy.int16, numpy.int32, numpy.int64)"
      ]
     },
     "execution_count": 20,
     "metadata": {},
     "output_type": "execute_result"
    }
   ],
   "source": [
    "np.int8, np.int16, np.int32, np.int64"
   ]
  },
  {
   "cell_type": "code",
   "execution_count": 21,
   "id": "e1e9ed70",
   "metadata": {},
   "outputs": [
    {
     "data": {
      "text/plain": [
       "(numpy.uint8, numpy.uint16, numpy.uint32, numpy.uint64)"
      ]
     },
     "execution_count": 21,
     "metadata": {},
     "output_type": "execute_result"
    }
   ],
   "source": [
    "np.uint8, np.uint16, np.uint32, np.uint64"
   ]
  },
  {
   "cell_type": "code",
   "execution_count": 22,
   "id": "7642e26c",
   "metadata": {},
   "outputs": [
    {
     "data": {
      "text/plain": [
       "(numpy.complex64, numpy.complex128, numpy.complex256)"
      ]
     },
     "execution_count": 22,
     "metadata": {},
     "output_type": "execute_result"
    }
   ],
   "source": [
    "np.complex64, np.complex128, np.complex256"
   ]
  },
  {
   "cell_type": "code",
   "execution_count": 23,
   "id": "cbf71d73",
   "metadata": {},
   "outputs": [
    {
     "data": {
      "text/plain": [
       "numpy.bool_"
      ]
     },
     "execution_count": 23,
     "metadata": {},
     "output_type": "execute_result"
    }
   ],
   "source": [
    "np.bool8"
   ]
  },
  {
   "cell_type": "code",
   "execution_count": 24,
   "id": "2e2e2eb7",
   "metadata": {},
   "outputs": [],
   "source": [
    "x = np.array([1, 2, 3])"
   ]
  },
  {
   "cell_type": "code",
   "execution_count": 25,
   "id": "4490dc58",
   "metadata": {},
   "outputs": [
    {
     "data": {
      "text/plain": [
       "dtype('int64')"
      ]
     },
     "execution_count": 25,
     "metadata": {},
     "output_type": "execute_result"
    }
   ],
   "source": [
    "x.dtype"
   ]
  },
  {
   "cell_type": "code",
   "execution_count": 30,
   "id": "096e7dfb",
   "metadata": {},
   "outputs": [],
   "source": [
    "x = np.zeros((5, 5), dtype=np.complex128)"
   ]
  },
  {
   "cell_type": "code",
   "execution_count": 31,
   "id": "0a764c01",
   "metadata": {},
   "outputs": [
    {
     "data": {
      "text/plain": [
       "dtype('complex128')"
      ]
     },
     "execution_count": 31,
     "metadata": {},
     "output_type": "execute_result"
    }
   ],
   "source": [
    "x.dtype"
   ]
  },
  {
   "cell_type": "code",
   "execution_count": 32,
   "id": "f79f3e8e",
   "metadata": {},
   "outputs": [],
   "source": [
    "x[1, 1] += 1 + 1j"
   ]
  },
  {
   "cell_type": "code",
   "execution_count": 33,
   "id": "4e33785e",
   "metadata": {},
   "outputs": [
    {
     "data": {
      "text/plain": [
       "array([[0.+0.j, 0.+0.j, 0.+0.j, 0.+0.j, 0.+0.j],\n",
       "       [0.+0.j, 1.+1.j, 0.+0.j, 0.+0.j, 0.+0.j],\n",
       "       [0.+0.j, 0.+0.j, 0.+0.j, 0.+0.j, 0.+0.j],\n",
       "       [0.+0.j, 0.+0.j, 0.+0.j, 0.+0.j, 0.+0.j],\n",
       "       [0.+0.j, 0.+0.j, 0.+0.j, 0.+0.j, 0.+0.j]])"
      ]
     },
     "execution_count": 33,
     "metadata": {},
     "output_type": "execute_result"
    }
   ],
   "source": [
    "x"
   ]
  },
  {
   "cell_type": "code",
   "execution_count": 34,
   "id": "474c112f",
   "metadata": {},
   "outputs": [],
   "source": [
    "A = np.random.randn(5, 5)"
   ]
  },
  {
   "cell_type": "code",
   "execution_count": 35,
   "id": "fad6a0ac",
   "metadata": {},
   "outputs": [],
   "source": [
    "B = np.zeros(A.shape, dtype=A.dtype)"
   ]
  },
  {
   "cell_type": "code",
   "execution_count": 36,
   "id": "89dcf524",
   "metadata": {},
   "outputs": [],
   "source": [
    "B = np.zeros_like(A)"
   ]
  },
  {
   "cell_type": "code",
   "execution_count": null,
   "id": "4aaebf89",
   "metadata": {},
   "outputs": [],
   "source": []
  },
  {
   "cell_type": "code",
   "execution_count": 37,
   "id": "4855dfa3",
   "metadata": {},
   "outputs": [],
   "source": [
    "y = np.arange(25).reshape(5, 5)"
   ]
  },
  {
   "cell_type": "code",
   "execution_count": 38,
   "id": "f2a69e66",
   "metadata": {},
   "outputs": [
    {
     "data": {
      "text/plain": [
       "array([[ 0,  1,  2,  3,  4],\n",
       "       [ 5,  6,  7,  8,  9],\n",
       "       [10, 11, 12, 13, 14],\n",
       "       [15, 16, 17, 18, 19],\n",
       "       [20, 21, 22, 23, 24]])"
      ]
     },
     "execution_count": 38,
     "metadata": {},
     "output_type": "execute_result"
    }
   ],
   "source": [
    "y"
   ]
  },
  {
   "cell_type": "code",
   "execution_count": 39,
   "id": "443df1d2",
   "metadata": {},
   "outputs": [
    {
     "data": {
      "text/plain": [
       "13"
      ]
     },
     "execution_count": 39,
     "metadata": {},
     "output_type": "execute_result"
    }
   ],
   "source": [
    "y[2][3]"
   ]
  },
  {
   "cell_type": "code",
   "execution_count": 40,
   "id": "3ace66e6",
   "metadata": {},
   "outputs": [
    {
     "data": {
      "text/plain": [
       "13"
      ]
     },
     "execution_count": 40,
     "metadata": {},
     "output_type": "execute_result"
    }
   ],
   "source": [
    "y[2, 3]"
   ]
  },
  {
   "cell_type": "code",
   "execution_count": 41,
   "id": "0f749ad9",
   "metadata": {},
   "outputs": [
    {
     "data": {
      "text/plain": [
       "array([10, 11, 12, 13, 14])"
      ]
     },
     "execution_count": 41,
     "metadata": {},
     "output_type": "execute_result"
    }
   ],
   "source": [
    "y[2]"
   ]
  },
  {
   "cell_type": "code",
   "execution_count": 42,
   "id": "1e3613d2",
   "metadata": {},
   "outputs": [
    {
     "data": {
      "text/plain": [
       "13"
      ]
     },
     "execution_count": 42,
     "metadata": {},
     "output_type": "execute_result"
    }
   ],
   "source": [
    "y[(2, 3)]"
   ]
  },
  {
   "cell_type": "code",
   "execution_count": 43,
   "id": "8a30982f",
   "metadata": {},
   "outputs": [
    {
     "data": {
      "text/plain": [
       "array([[10, 11, 12, 13, 14],\n",
       "       [15, 16, 17, 18, 19]])"
      ]
     },
     "execution_count": 43,
     "metadata": {},
     "output_type": "execute_result"
    }
   ],
   "source": [
    "y[[2, 3]]"
   ]
  },
  {
   "cell_type": "code",
   "execution_count": 44,
   "id": "1295a62e",
   "metadata": {},
   "outputs": [
    {
     "data": {
      "text/plain": [
       "array([[ 5,  6,  7,  8],\n",
       "       [10, 11, 12, 13],\n",
       "       [15, 16, 17, 18],\n",
       "       [20, 21, 22, 23]])"
      ]
     },
     "execution_count": 44,
     "metadata": {},
     "output_type": "execute_result"
    }
   ],
   "source": [
    "y[1:, :-1]"
   ]
  },
  {
   "cell_type": "code",
   "execution_count": 45,
   "id": "c57b755e",
   "metadata": {},
   "outputs": [
    {
     "data": {
      "text/plain": [
       "array([[10, 11, 12, 13, 14],\n",
       "       [15, 16, 17, 18, 19]])"
      ]
     },
     "execution_count": 45,
     "metadata": {},
     "output_type": "execute_result"
    }
   ],
   "source": [
    "y[np.array([2, 3])]"
   ]
  },
  {
   "cell_type": "code",
   "execution_count": 46,
   "id": "04b677f6",
   "metadata": {},
   "outputs": [
    {
     "data": {
      "text/plain": [
       "array([ 2,  7, 12, 17, 22])"
      ]
     },
     "execution_count": 46,
     "metadata": {},
     "output_type": "execute_result"
    }
   ],
   "source": [
    "y[:, 2]"
   ]
  },
  {
   "cell_type": "code",
   "execution_count": 47,
   "id": "d121e2dd",
   "metadata": {},
   "outputs": [],
   "source": [
    "T = np.arange(64).reshape([2] * 6)"
   ]
  },
  {
   "cell_type": "code",
   "execution_count": 49,
   "id": "d4772b89",
   "metadata": {},
   "outputs": [
    {
     "data": {
      "text/plain": [
       "(2, 2, 2, 2, 2, 2)"
      ]
     },
     "execution_count": 49,
     "metadata": {},
     "output_type": "execute_result"
    }
   ],
   "source": [
    "T.shape"
   ]
  },
  {
   "cell_type": "code",
   "execution_count": 50,
   "id": "29b079a0",
   "metadata": {},
   "outputs": [
    {
     "data": {
      "text/plain": [
       "array([[[[[ 0,  1],\n",
       "          [ 4,  5]],\n",
       "\n",
       "         [[ 8,  9],\n",
       "          [12, 13]]],\n",
       "\n",
       "\n",
       "        [[[16, 17],\n",
       "          [20, 21]],\n",
       "\n",
       "         [[24, 25],\n",
       "          [28, 29]]]],\n",
       "\n",
       "\n",
       "\n",
       "       [[[[32, 33],\n",
       "          [36, 37]],\n",
       "\n",
       "         [[40, 41],\n",
       "          [44, 45]]],\n",
       "\n",
       "\n",
       "        [[[48, 49],\n",
       "          [52, 53]],\n",
       "\n",
       "         [[56, 57],\n",
       "          [60, 61]]]]])"
      ]
     },
     "execution_count": 50,
     "metadata": {},
     "output_type": "execute_result"
    }
   ],
   "source": [
    "T[:, :, :, :, 0]"
   ]
  },
  {
   "cell_type": "code",
   "execution_count": 51,
   "id": "2d88a88c",
   "metadata": {},
   "outputs": [
    {
     "data": {
      "text/plain": [
       "array([[[[[ 0,  2],\n",
       "          [ 4,  6]],\n",
       "\n",
       "         [[ 8, 10],\n",
       "          [12, 14]]],\n",
       "\n",
       "\n",
       "        [[[16, 18],\n",
       "          [20, 22]],\n",
       "\n",
       "         [[24, 26],\n",
       "          [28, 30]]]],\n",
       "\n",
       "\n",
       "\n",
       "       [[[[32, 34],\n",
       "          [36, 38]],\n",
       "\n",
       "         [[40, 42],\n",
       "          [44, 46]]],\n",
       "\n",
       "\n",
       "        [[[48, 50],\n",
       "          [52, 54]],\n",
       "\n",
       "         [[56, 58],\n",
       "          [60, 62]]]]])"
      ]
     },
     "execution_count": 51,
     "metadata": {},
     "output_type": "execute_result"
    }
   ],
   "source": [
    "T[..., 0]"
   ]
  },
  {
   "cell_type": "code",
   "execution_count": 52,
   "id": "32f23de4",
   "metadata": {},
   "outputs": [
    {
     "data": {
      "text/plain": [
       "array([[[[ 1,  3],\n",
       "         [ 5,  7]],\n",
       "\n",
       "        [[ 9, 11],\n",
       "         [13, 15]]],\n",
       "\n",
       "\n",
       "       [[[17, 19],\n",
       "         [21, 23]],\n",
       "\n",
       "        [[25, 27],\n",
       "         [29, 31]]]])"
      ]
     },
     "execution_count": 52,
     "metadata": {},
     "output_type": "execute_result"
    }
   ],
   "source": [
    "T[0, ..., 1]"
   ]
  },
  {
   "cell_type": "code",
   "execution_count": 53,
   "id": "0e6f8dac",
   "metadata": {},
   "outputs": [],
   "source": [
    "A = np.arange(25).reshape(5, 5)"
   ]
  },
  {
   "cell_type": "code",
   "execution_count": 54,
   "id": "3d085d21",
   "metadata": {},
   "outputs": [
    {
     "data": {
      "text/plain": [
       "array([[ 0,  1,  2,  3,  4],\n",
       "       [ 5,  6,  7,  8,  9],\n",
       "       [10, 11, 12, 13, 14],\n",
       "       [15, 16, 17, 18, 19],\n",
       "       [20, 21, 22, 23, 24]])"
      ]
     },
     "execution_count": 54,
     "metadata": {},
     "output_type": "execute_result"
    }
   ],
   "source": [
    "A"
   ]
  },
  {
   "cell_type": "code",
   "execution_count": 55,
   "id": "b119b44d",
   "metadata": {},
   "outputs": [],
   "source": [
    "a = A[:, 0]"
   ]
  },
  {
   "cell_type": "code",
   "execution_count": 56,
   "id": "c5c97ba7",
   "metadata": {},
   "outputs": [
    {
     "data": {
      "text/plain": [
       "array([ 0,  5, 10, 15, 20])"
      ]
     },
     "execution_count": 56,
     "metadata": {},
     "output_type": "execute_result"
    }
   ],
   "source": [
    "a"
   ]
  },
  {
   "cell_type": "code",
   "execution_count": 57,
   "id": "929cff76",
   "metadata": {},
   "outputs": [],
   "source": [
    "a[0] = -22"
   ]
  },
  {
   "cell_type": "code",
   "execution_count": 58,
   "id": "c17dfa0a",
   "metadata": {},
   "outputs": [
    {
     "data": {
      "text/plain": [
       "array([[-22,   1,   2,   3,   4],\n",
       "       [  5,   6,   7,   8,   9],\n",
       "       [ 10,  11,  12,  13,  14],\n",
       "       [ 15,  16,  17,  18,  19],\n",
       "       [ 20,  21,  22,  23,  24]])"
      ]
     },
     "execution_count": 58,
     "metadata": {},
     "output_type": "execute_result"
    }
   ],
   "source": [
    "A"
   ]
  },
  {
   "cell_type": "code",
   "execution_count": 59,
   "id": "02f52409",
   "metadata": {},
   "outputs": [],
   "source": [
    "# 0. Buffer\n",
    "# 1. The basic data element’s size in bytes.\n",
    "# 2. The start of the data within the data buffer\n",
    "# 3. The number of dimensions and the size of each dimension.\n",
    "# 4. The separation between elements for each dimension (the stride)\n",
    "# 5. The byte order of the data.\n",
    "# 6. Whether the buffer is read-only.\n",
    "# 7. Information (via the dtype object) about the interpretation of the basic data element.\n",
    "# 8. Whether the array is to be interpreted as C-order or Fortran-order."
   ]
  },
  {
   "cell_type": "code",
   "execution_count": 60,
   "id": "a044b49d",
   "metadata": {},
   "outputs": [
    {
     "data": {
      "text/plain": [
       "array([-22,   1,   2,   3,   4,   5,   6,   7,   8,   9,  10,  11,  12,\n",
       "        13,  14,  15,  16,  17,  18,  19,  20,  21,  22,  23,  24])"
      ]
     },
     "execution_count": 60,
     "metadata": {},
     "output_type": "execute_result"
    }
   ],
   "source": [
    "A.base"
   ]
  },
  {
   "cell_type": "code",
   "execution_count": 61,
   "id": "ff338b11",
   "metadata": {},
   "outputs": [],
   "source": [
    "x = np.random.randn(3, 3)"
   ]
  },
  {
   "cell_type": "code",
   "execution_count": 62,
   "id": "e4cb094d",
   "metadata": {},
   "outputs": [],
   "source": [
    "x.base"
   ]
  },
  {
   "cell_type": "code",
   "execution_count": 63,
   "id": "cc348b72",
   "metadata": {},
   "outputs": [
    {
     "data": {
      "text/plain": [
       "array([-22,   1,   2,   3,   4,   5,   6,   7,   8,   9,  10,  11,  12,\n",
       "        13,  14,  15,  16,  17,  18,  19,  20,  21,  22,  23,  24])"
      ]
     },
     "execution_count": 63,
     "metadata": {},
     "output_type": "execute_result"
    }
   ],
   "source": [
    "a.base"
   ]
  },
  {
   "cell_type": "code",
   "execution_count": 64,
   "id": "6f64fd14",
   "metadata": {},
   "outputs": [
    {
     "data": {
      "text/plain": [
       "array([-22,   5,  10,  15,  20])"
      ]
     },
     "execution_count": 64,
     "metadata": {},
     "output_type": "execute_result"
    }
   ],
   "source": [
    "a"
   ]
  },
  {
   "cell_type": "code",
   "execution_count": 65,
   "id": "807d4ef8",
   "metadata": {},
   "outputs": [
    {
     "data": {
      "text/plain": [
       "True"
      ]
     },
     "execution_count": 65,
     "metadata": {},
     "output_type": "execute_result"
    }
   ],
   "source": [
    "a.base is A.base"
   ]
  },
  {
   "cell_type": "code",
   "execution_count": 66,
   "id": "7e6f827a",
   "metadata": {},
   "outputs": [
    {
     "data": {
      "text/plain": [
       "200"
      ]
     },
     "execution_count": 66,
     "metadata": {},
     "output_type": "execute_result"
    }
   ],
   "source": [
    "A.nbytes"
   ]
  },
  {
   "cell_type": "code",
   "execution_count": 67,
   "id": "5bf034db",
   "metadata": {},
   "outputs": [
    {
     "data": {
      "text/plain": [
       "40"
      ]
     },
     "execution_count": 67,
     "metadata": {},
     "output_type": "execute_result"
    }
   ],
   "source": [
    "a.nbytes"
   ]
  },
  {
   "cell_type": "code",
   "execution_count": 68,
   "id": "b6953e4f",
   "metadata": {},
   "outputs": [],
   "source": [
    "b = A[:, 2]"
   ]
  },
  {
   "cell_type": "code",
   "execution_count": 69,
   "id": "addb4ff3",
   "metadata": {},
   "outputs": [
    {
     "data": {
      "text/plain": [
       "array([-22,   1,   2,   3,   4,   5,   6,   7,   8,   9,  10,  11,  12,\n",
       "        13,  14,  15,  16,  17,  18,  19,  20,  21,  22,  23,  24])"
      ]
     },
     "execution_count": 69,
     "metadata": {},
     "output_type": "execute_result"
    }
   ],
   "source": [
    "b.base"
   ]
  },
  {
   "cell_type": "code",
   "execution_count": 70,
   "id": "0bdf85e3",
   "metadata": {},
   "outputs": [
    {
     "data": {
      "text/plain": [
       "array([ 2,  7, 12, 17, 22])"
      ]
     },
     "execution_count": 70,
     "metadata": {},
     "output_type": "execute_result"
    }
   ],
   "source": [
    "b"
   ]
  },
  {
   "cell_type": "code",
   "execution_count": 71,
   "id": "5de73161",
   "metadata": {},
   "outputs": [
    {
     "data": {
      "text/plain": [
       "(40, 8)"
      ]
     },
     "execution_count": 71,
     "metadata": {},
     "output_type": "execute_result"
    }
   ],
   "source": [
    "A.strides"
   ]
  },
  {
   "cell_type": "code",
   "execution_count": 72,
   "id": "9907f638",
   "metadata": {},
   "outputs": [
    {
     "data": {
      "text/plain": [
       "array([[-22,   1,   2,   3,   4],\n",
       "       [  5,   6,   7,   8,   9],\n",
       "       [ 10,  11,  12,  13,  14],\n",
       "       [ 15,  16,  17,  18,  19],\n",
       "       [ 20,  21,  22,  23,  24]])"
      ]
     },
     "execution_count": 72,
     "metadata": {},
     "output_type": "execute_result"
    }
   ],
   "source": [
    "A"
   ]
  },
  {
   "cell_type": "code",
   "execution_count": 73,
   "id": "c5f23b16",
   "metadata": {},
   "outputs": [
    {
     "data": {
      "text/plain": [
       "(40,)"
      ]
     },
     "execution_count": 73,
     "metadata": {},
     "output_type": "execute_result"
    }
   ],
   "source": [
    "a.strides"
   ]
  },
  {
   "cell_type": "code",
   "execution_count": 74,
   "id": "6d224d1f",
   "metadata": {},
   "outputs": [],
   "source": [
    "B = np.array(A, order='C')"
   ]
  },
  {
   "cell_type": "code",
   "execution_count": 75,
   "id": "2b264253",
   "metadata": {},
   "outputs": [
    {
     "data": {
      "text/plain": [
       "array([[-22,   1,   2,   3,   4],\n",
       "       [  5,   6,   7,   8,   9],\n",
       "       [ 10,  11,  12,  13,  14],\n",
       "       [ 15,  16,  17,  18,  19],\n",
       "       [ 20,  21,  22,  23,  24]])"
      ]
     },
     "execution_count": 75,
     "metadata": {},
     "output_type": "execute_result"
    }
   ],
   "source": [
    "B"
   ]
  },
  {
   "cell_type": "code",
   "execution_count": 76,
   "id": "f7699d85",
   "metadata": {},
   "outputs": [
    {
     "data": {
      "text/plain": [
       "(40, 8)"
      ]
     },
     "execution_count": 76,
     "metadata": {},
     "output_type": "execute_result"
    }
   ],
   "source": [
    "B.strides"
   ]
  },
  {
   "cell_type": "code",
   "execution_count": 77,
   "id": "d46b8400",
   "metadata": {},
   "outputs": [],
   "source": [
    "C = np.array(A, order='F')"
   ]
  },
  {
   "cell_type": "code",
   "execution_count": 78,
   "id": "68fc3c71",
   "metadata": {},
   "outputs": [
    {
     "data": {
      "text/plain": [
       "array([[-22,   1,   2,   3,   4],\n",
       "       [  5,   6,   7,   8,   9],\n",
       "       [ 10,  11,  12,  13,  14],\n",
       "       [ 15,  16,  17,  18,  19],\n",
       "       [ 20,  21,  22,  23,  24]])"
      ]
     },
     "execution_count": 78,
     "metadata": {},
     "output_type": "execute_result"
    }
   ],
   "source": [
    "C"
   ]
  },
  {
   "cell_type": "code",
   "execution_count": 79,
   "id": "efe07284",
   "metadata": {},
   "outputs": [
    {
     "data": {
      "text/plain": [
       "(8, 40)"
      ]
     },
     "execution_count": 79,
     "metadata": {},
     "output_type": "execute_result"
    }
   ],
   "source": [
    "C.strides"
   ]
  },
  {
   "cell_type": "code",
   "execution_count": 80,
   "id": "19d0d4ef",
   "metadata": {},
   "outputs": [
    {
     "data": {
      "text/plain": [
       "  C_CONTIGUOUS : False\n",
       "  F_CONTIGUOUS : True\n",
       "  OWNDATA : True\n",
       "  WRITEABLE : True\n",
       "  ALIGNED : True\n",
       "  WRITEBACKIFCOPY : False\n",
       "  UPDATEIFCOPY : False"
      ]
     },
     "execution_count": 80,
     "metadata": {},
     "output_type": "execute_result"
    }
   ],
   "source": [
    "C.flags"
   ]
  },
  {
   "cell_type": "code",
   "execution_count": 81,
   "id": "efcb2c60",
   "metadata": {},
   "outputs": [
    {
     "data": {
      "text/plain": [
       "  C_CONTIGUOUS : False\n",
       "  F_CONTIGUOUS : False\n",
       "  OWNDATA : False\n",
       "  WRITEABLE : True\n",
       "  ALIGNED : True\n",
       "  WRITEBACKIFCOPY : False\n",
       "  UPDATEIFCOPY : False"
      ]
     },
     "execution_count": 81,
     "metadata": {},
     "output_type": "execute_result"
    }
   ],
   "source": [
    "a.flags"
   ]
  },
  {
   "cell_type": "code",
   "execution_count": null,
   "id": "6dab8f56",
   "metadata": {},
   "outputs": [],
   "source": []
  },
  {
   "cell_type": "code",
   "execution_count": 82,
   "id": "fe85c2b1",
   "metadata": {},
   "outputs": [],
   "source": [
    "A = np.random.randn(4096, 4096)\n",
    "B = np.random.randn(4096, 4096)"
   ]
  },
  {
   "cell_type": "code",
   "execution_count": 83,
   "id": "48c0d81b",
   "metadata": {},
   "outputs": [],
   "source": [
    "C = A + B"
   ]
  },
  {
   "cell_type": "code",
   "execution_count": 84,
   "id": "de115718",
   "metadata": {},
   "outputs": [],
   "source": [
    "C = A * B"
   ]
  },
  {
   "cell_type": "code",
   "execution_count": 85,
   "id": "86e96a3b",
   "metadata": {},
   "outputs": [
    {
     "data": {
      "text/plain": [
       "0.068587223162511"
      ]
     },
     "execution_count": 85,
     "metadata": {},
     "output_type": "execute_result"
    }
   ],
   "source": [
    "A[0, 0] * B[0, 0]"
   ]
  },
  {
   "cell_type": "code",
   "execution_count": 86,
   "id": "a70c0af6",
   "metadata": {},
   "outputs": [
    {
     "data": {
      "text/plain": [
       "0.068587223162511"
      ]
     },
     "execution_count": 86,
     "metadata": {},
     "output_type": "execute_result"
    }
   ],
   "source": [
    "C[0, 0]"
   ]
  },
  {
   "cell_type": "code",
   "execution_count": 87,
   "id": "c1c2abe2",
   "metadata": {},
   "outputs": [],
   "source": [
    "C = A @ B"
   ]
  },
  {
   "cell_type": "code",
   "execution_count": 89,
   "id": "d4b5e9f8",
   "metadata": {},
   "outputs": [
    {
     "name": "stdout",
     "output_type": "stream",
     "text": [
      "951 ms ± 215 ms per loop (mean ± std. dev. of 7 runs, 1 loop each)\n"
     ]
    }
   ],
   "source": [
    "%%timeit\n",
    "\n",
    "C = A @ B"
   ]
  },
  {
   "cell_type": "code",
   "execution_count": 90,
   "id": "e43fe8f1",
   "metadata": {},
   "outputs": [],
   "source": [
    "A = np.random.randn(1024, 1024).astype(np.float16)\n",
    "B = np.random.randn(1024, 1024).astype(np.float16)"
   ]
  },
  {
   "cell_type": "code",
   "execution_count": 91,
   "id": "2d112fe2",
   "metadata": {},
   "outputs": [
    {
     "name": "stdout",
     "output_type": "stream",
     "text": [
      "CPU times: user 11.4 s, sys: 6.19 ms, total: 11.4 s\n",
      "Wall time: 11.4 s\n"
     ]
    }
   ],
   "source": [
    "%%time\n",
    "C = A @ B"
   ]
  },
  {
   "cell_type": "code",
   "execution_count": 98,
   "id": "afd939f0",
   "metadata": {},
   "outputs": [],
   "source": [
    "A = np.random.randn(1024, 1024).astype(np.float32)\n",
    "B = np.random.randn(1024, 1024).astype(np.float32)"
   ]
  },
  {
   "cell_type": "code",
   "execution_count": 93,
   "id": "389000cb",
   "metadata": {},
   "outputs": [
    {
     "name": "stdout",
     "output_type": "stream",
     "text": [
      "7.72 ms ± 999 µs per loop (mean ± std. dev. of 7 runs, 100 loops each)\n"
     ]
    }
   ],
   "source": [
    "%%timeit\n",
    "\n",
    "C = A @ B"
   ]
  },
  {
   "cell_type": "code",
   "execution_count": 94,
   "id": "6cdc834c",
   "metadata": {},
   "outputs": [],
   "source": [
    "A = np.random.randn(1024, 1024).astype(np.float64)\n",
    "B = np.random.randn(1024, 1024).astype(np.float64)"
   ]
  },
  {
   "cell_type": "code",
   "execution_count": 95,
   "id": "19c04688",
   "metadata": {},
   "outputs": [
    {
     "name": "stdout",
     "output_type": "stream",
     "text": [
      "25 ms ± 7.44 ms per loop (mean ± std. dev. of 7 runs, 10 loops each)\n"
     ]
    }
   ],
   "source": [
    "%%timeit\n",
    "\n",
    "C = A @ B"
   ]
  },
  {
   "cell_type": "code",
   "execution_count": 96,
   "id": "c77da708",
   "metadata": {},
   "outputs": [],
   "source": [
    "A = np.random.randn(1024, 1024).astype(np.float128)\n",
    "B = np.random.randn(1024, 1024).astype(np.float128)"
   ]
  },
  {
   "cell_type": "code",
   "execution_count": 97,
   "id": "2940066e",
   "metadata": {},
   "outputs": [
    {
     "name": "stdout",
     "output_type": "stream",
     "text": [
      "CPU times: user 18.6 s, sys: 1.61 ms, total: 18.6 s\n",
      "Wall time: 18.6 s\n"
     ]
    }
   ],
   "source": [
    "%%time\n",
    "\n",
    "C = A @ B"
   ]
  },
  {
   "cell_type": "code",
   "execution_count": 99,
   "id": "bab878eb",
   "metadata": {},
   "outputs": [
    {
     "name": "stdout",
     "output_type": "stream",
     "text": [
      "7.89 ms ± 1 ms per loop (mean ± std. dev. of 7 runs, 100 loops each)\n"
     ]
    }
   ],
   "source": [
    "res = %timeit -o C = A @ B"
   ]
  },
  {
   "cell_type": "code",
   "execution_count": 100,
   "id": "03e5b5c5",
   "metadata": {},
   "outputs": [
    {
     "data": {
      "text/plain": [
       "<TimeitResult : 7.89 ms ± 1 ms per loop (mean ± std. dev. of 7 runs, 100 loops each)>"
      ]
     },
     "execution_count": 100,
     "metadata": {},
     "output_type": "execute_result"
    }
   ],
   "source": [
    "res"
   ]
  },
  {
   "cell_type": "code",
   "execution_count": 101,
   "id": "b4f0dddc",
   "metadata": {},
   "outputs": [
    {
     "data": {
      "text/plain": [
       "0.007891897147222023"
      ]
     },
     "execution_count": 101,
     "metadata": {},
     "output_type": "execute_result"
    }
   ],
   "source": [
    "res.average"
   ]
  },
  {
   "cell_type": "code",
   "execution_count": 102,
   "id": "ebb225f0",
   "metadata": {},
   "outputs": [],
   "source": [
    "A = np.random.randn(1024, 1024).astype(np.int64)\n",
    "B = np.random.randn(1024, 1024).astype(np.int64)"
   ]
  },
  {
   "cell_type": "code",
   "execution_count": 103,
   "id": "5a1ff30b",
   "metadata": {},
   "outputs": [
    {
     "name": "stdout",
     "output_type": "stream",
     "text": [
      "CPU times: user 9.43 s, sys: 1.42 ms, total: 9.43 s\n",
      "Wall time: 9.43 s\n"
     ]
    }
   ],
   "source": [
    "%%time\n",
    "\n",
    "C = A @ B"
   ]
  },
  {
   "cell_type": "code",
   "execution_count": null,
   "id": "6f077d9b",
   "metadata": {},
   "outputs": [],
   "source": []
  },
  {
   "cell_type": "code",
   "execution_count": 120,
   "id": "f233f50e",
   "metadata": {},
   "outputs": [],
   "source": [
    "n = 5"
   ]
  },
  {
   "cell_type": "code",
   "execution_count": 121,
   "id": "91e45107",
   "metadata": {},
   "outputs": [],
   "source": [
    "a = np.arange(start=1, stop=n+1)"
   ]
  },
  {
   "cell_type": "code",
   "execution_count": 122,
   "id": "658203a6",
   "metadata": {},
   "outputs": [],
   "source": [
    "H = 1 / (a[:, None] + a[None, :] - 1)"
   ]
  },
  {
   "cell_type": "code",
   "execution_count": 125,
   "id": "519b4f5e",
   "metadata": {},
   "outputs": [
    {
     "data": {
      "text/plain": [
       "array([[1, 1, 1, 1, 1],\n",
       "       [2, 2, 2, 2, 2],\n",
       "       [3, 3, 3, 3, 3],\n",
       "       [4, 4, 4, 4, 4],\n",
       "       [5, 5, 5, 5, 5]])"
      ]
     },
     "execution_count": 125,
     "metadata": {},
     "output_type": "execute_result"
    }
   ],
   "source": [
    "a[:, None].repeat(n, axis=1)"
   ]
  },
  {
   "cell_type": "code",
   "execution_count": 126,
   "id": "85f51ebc",
   "metadata": {},
   "outputs": [
    {
     "data": {
      "text/plain": [
       "array([[1, 2, 3, 4, 5],\n",
       "       [1, 2, 3, 4, 5],\n",
       "       [1, 2, 3, 4, 5],\n",
       "       [1, 2, 3, 4, 5],\n",
       "       [1, 2, 3, 4, 5]])"
      ]
     },
     "execution_count": 126,
     "metadata": {},
     "output_type": "execute_result"
    }
   ],
   "source": [
    "a[None, :].repeat(n, axis=0)"
   ]
  },
  {
   "cell_type": "code",
   "execution_count": 118,
   "id": "8bc01887",
   "metadata": {},
   "outputs": [],
   "source": [
    "u, s, vt = np.linalg.svd(H)"
   ]
  },
  {
   "cell_type": "code",
   "execution_count": 119,
   "id": "86344ee3",
   "metadata": {},
   "outputs": [
    {
     "data": {
      "text/plain": [
       "array([2.18269610e+00, 8.21445561e-01, 2.18595882e-01, 4.92922510e-02,\n",
       "       1.00318122e-02, 1.88506328e-03, 3.30867810e-04, 5.46453021e-05,\n",
       "       8.53628052e-06, 1.26616660e-06, 1.78872243e-07, 2.41264913e-08,\n",
       "       3.11334934e-09, 3.85022956e-10, 4.56986436e-11, 5.21222612e-12,\n",
       "       5.71898622e-13, 6.04210791e-14, 6.15327441e-15, 6.09473771e-16,\n",
       "       1.55522595e-16, 1.55522595e-16, 1.55522595e-16, 1.55522595e-16,\n",
       "       1.55522595e-16, 1.55522595e-16, 1.55522595e-16, 1.55522595e-16,\n",
       "       1.55522595e-16, 1.55522595e-16, 1.55522595e-16, 1.55522595e-16,\n",
       "       1.55522595e-16, 1.55522595e-16, 1.55522595e-16, 1.55522595e-16,\n",
       "       1.55522595e-16, 1.55522595e-16, 1.55522595e-16, 1.55522595e-16,\n",
       "       1.55522595e-16, 1.55522595e-16, 1.55522595e-16, 1.55522595e-16,\n",
       "       1.55522595e-16, 1.55522595e-16, 1.55522595e-16, 1.55522595e-16,\n",
       "       1.55522595e-16, 1.55522595e-16, 1.55522595e-16, 1.55522595e-16,\n",
       "       1.55522595e-16, 1.55522595e-16, 1.55522595e-16, 1.55522595e-16,\n",
       "       1.55522595e-16, 1.55522595e-16, 1.55522595e-16, 1.55522595e-16,\n",
       "       1.55522595e-16, 1.55522595e-16, 1.55522595e-16, 1.55522595e-16,\n",
       "       1.55522595e-16, 1.55522595e-16, 1.55522595e-16, 1.55522595e-16,\n",
       "       1.55522595e-16, 1.55522595e-16, 1.55522595e-16, 1.55522595e-16,\n",
       "       1.55522595e-16, 1.55522595e-16, 1.55522595e-16, 1.55522595e-16,\n",
       "       1.55522595e-16, 1.55522595e-16, 1.55522595e-16, 1.55522595e-16,\n",
       "       1.55522595e-16, 1.55522595e-16, 1.55522595e-16, 1.55522595e-16,\n",
       "       1.55522595e-16, 1.55522595e-16, 1.55522595e-16, 1.55522595e-16,\n",
       "       1.55522595e-16, 1.55522595e-16, 1.55522595e-16, 1.55522595e-16,\n",
       "       1.55522595e-16, 1.55522595e-16, 1.55522595e-16, 1.55522595e-16,\n",
       "       1.55522595e-16, 1.55522595e-16, 1.55522595e-16, 1.47317026e-16])"
      ]
     },
     "execution_count": 119,
     "metadata": {},
     "output_type": "execute_result"
    }
   ],
   "source": [
    "s"
   ]
  },
  {
   "cell_type": "code",
   "execution_count": 127,
   "id": "8b17ce17",
   "metadata": {},
   "outputs": [],
   "source": [
    "# 3 x 1 x 5 -> 3 x 8 x 5\n",
    "# 1 x 8 x 5 -> 3 x 8 x 5"
   ]
  },
  {
   "cell_type": "code",
   "execution_count": 128,
   "id": "febf805b",
   "metadata": {},
   "outputs": [],
   "source": [
    "A = np.random.randn(5, 5)"
   ]
  },
  {
   "cell_type": "code",
   "execution_count": 129,
   "id": "ca238cef",
   "metadata": {},
   "outputs": [],
   "source": [
    "q, r = np.linalg.qr(A)"
   ]
  },
  {
   "cell_type": "code",
   "execution_count": 135,
   "id": "d0e42956",
   "metadata": {},
   "outputs": [
    {
     "data": {
      "text/plain": [
       "True"
      ]
     },
     "execution_count": 135,
     "metadata": {},
     "output_type": "execute_result"
    }
   ],
   "source": [
    "np.all(np.tril(r, k=-1) == 0)"
   ]
  },
  {
   "cell_type": "code",
   "execution_count": null,
   "id": "a180036e",
   "metadata": {},
   "outputs": [],
   "source": []
  },
  {
   "cell_type": "code",
   "execution_count": 136,
   "id": "a5b01df4",
   "metadata": {},
   "outputs": [],
   "source": [
    "a = np.random.randn(10)"
   ]
  },
  {
   "cell_type": "code",
   "execution_count": 138,
   "id": "c56bf031",
   "metadata": {},
   "outputs": [
    {
     "data": {
      "text/plain": [
       "array([ True, False, False,  True,  True, False, False,  True, False,\n",
       "        True])"
      ]
     },
     "execution_count": 138,
     "metadata": {},
     "output_type": "execute_result"
    }
   ],
   "source": [
    "a > 0"
   ]
  },
  {
   "cell_type": "code",
   "execution_count": 140,
   "id": "c88ea944",
   "metadata": {},
   "outputs": [
    {
     "data": {
      "text/plain": [
       "1.3726087925929076"
      ]
     },
     "execution_count": 140,
     "metadata": {},
     "output_type": "execute_result"
    }
   ],
   "source": [
    "a[a > 0].mean()"
   ]
  },
  {
   "cell_type": "code",
   "execution_count": 141,
   "id": "a170e3c2",
   "metadata": {},
   "outputs": [],
   "source": [
    "U = np.random.randn(10, 5)\n",
    "V = np.random.randn(15, 5)"
   ]
  },
  {
   "cell_type": "code",
   "execution_count": 142,
   "id": "ddf070bd",
   "metadata": {},
   "outputs": [],
   "source": [
    "A = np.einsum('ir,jr->ij', U, V)"
   ]
  },
  {
   "cell_type": "code",
   "execution_count": 143,
   "id": "6b748728",
   "metadata": {},
   "outputs": [
    {
     "data": {
      "text/plain": [
       "(10, 15)"
      ]
     },
     "execution_count": 143,
     "metadata": {},
     "output_type": "execute_result"
    }
   ],
   "source": [
    "A.shape"
   ]
  },
  {
   "cell_type": "code",
   "execution_count": null,
   "id": "c7fb0498",
   "metadata": {},
   "outputs": [],
   "source": []
  },
  {
   "cell_type": "code",
   "execution_count": 144,
   "id": "736bbdbe",
   "metadata": {},
   "outputs": [],
   "source": [
    "G1 = np.random.randn(5, 8)\n",
    "G2 = np.random.randn(8, 3, 4)\n",
    "G3 = np.random.randn(4, 5, 2)\n",
    "G4 = np.random.randn(2, 7, 6)\n",
    "G5 = np.random.randn(6, 13)"
   ]
  },
  {
   "cell_type": "code",
   "execution_count": 145,
   "id": "5441e772",
   "metadata": {},
   "outputs": [],
   "source": [
    "T = np.einsum('ia,ajb,bkc,cld,dm->ijklm', G1, G2, G3, G4, G5)"
   ]
  },
  {
   "cell_type": "code",
   "execution_count": 146,
   "id": "6db80a8c",
   "metadata": {},
   "outputs": [
    {
     "data": {
      "text/plain": [
       "(5, 3, 5, 7, 13)"
      ]
     },
     "execution_count": 146,
     "metadata": {},
     "output_type": "execute_result"
    }
   ],
   "source": [
    "T.shape"
   ]
  },
  {
   "cell_type": "code",
   "execution_count": null,
   "id": "11551cab",
   "metadata": {},
   "outputs": [],
   "source": []
  },
  {
   "cell_type": "code",
   "execution_count": 147,
   "id": "d08e6e3e",
   "metadata": {},
   "outputs": [],
   "source": [
    "U = np.random.randn(3, 256, 4)"
   ]
  },
  {
   "cell_type": "code",
   "execution_count": 150,
   "id": "187d030a",
   "metadata": {},
   "outputs": [
    {
     "data": {
      "text/html": [
       "<style>.container { width:100% !important; }</style>"
      ],
      "text/plain": [
       "<IPython.core.display.HTML object>"
      ]
     },
     "metadata": {},
     "output_type": "display_data"
    }
   ],
   "source": [
    "from IPython.display import display, HTML\n",
    "display(HTML(\"<style>.container { width:100% !important; }</style>\"))"
   ]
  },
  {
   "cell_type": "code",
   "execution_count": 148,
   "id": "3fe43bc9",
   "metadata": {},
   "outputs": [],
   "source": [
    "import matplotlib.pyplot as plt\n",
    "import matplotlib.animation as animation\n",
    "%matplotlib notebook"
   ]
  },
  {
   "cell_type": "code",
   "execution_count": 152,
   "id": "ebc7c048",
   "metadata": {},
   "outputs": [
    {
     "data": {
      "application/javascript": [
       "/* Put everything inside the global mpl namespace */\n",
       "/* global mpl */\n",
       "window.mpl = {};\n",
       "\n",
       "mpl.get_websocket_type = function () {\n",
       "    if (typeof WebSocket !== 'undefined') {\n",
       "        return WebSocket;\n",
       "    } else if (typeof MozWebSocket !== 'undefined') {\n",
       "        return MozWebSocket;\n",
       "    } else {\n",
       "        alert(\n",
       "            'Your browser does not have WebSocket support. ' +\n",
       "                'Please try Chrome, Safari or Firefox ≥ 6. ' +\n",
       "                'Firefox 4 and 5 are also supported but you ' +\n",
       "                'have to enable WebSockets in about:config.'\n",
       "        );\n",
       "    }\n",
       "};\n",
       "\n",
       "mpl.figure = function (figure_id, websocket, ondownload, parent_element) {\n",
       "    this.id = figure_id;\n",
       "\n",
       "    this.ws = websocket;\n",
       "\n",
       "    this.supports_binary = this.ws.binaryType !== undefined;\n",
       "\n",
       "    if (!this.supports_binary) {\n",
       "        var warnings = document.getElementById('mpl-warnings');\n",
       "        if (warnings) {\n",
       "            warnings.style.display = 'block';\n",
       "            warnings.textContent =\n",
       "                'This browser does not support binary websocket messages. ' +\n",
       "                'Performance may be slow.';\n",
       "        }\n",
       "    }\n",
       "\n",
       "    this.imageObj = new Image();\n",
       "\n",
       "    this.context = undefined;\n",
       "    this.message = undefined;\n",
       "    this.canvas = undefined;\n",
       "    this.rubberband_canvas = undefined;\n",
       "    this.rubberband_context = undefined;\n",
       "    this.format_dropdown = undefined;\n",
       "\n",
       "    this.image_mode = 'full';\n",
       "\n",
       "    this.root = document.createElement('div');\n",
       "    this.root.setAttribute('style', 'display: inline-block');\n",
       "    this._root_extra_style(this.root);\n",
       "\n",
       "    parent_element.appendChild(this.root);\n",
       "\n",
       "    this._init_header(this);\n",
       "    this._init_canvas(this);\n",
       "    this._init_toolbar(this);\n",
       "\n",
       "    var fig = this;\n",
       "\n",
       "    this.waiting = false;\n",
       "\n",
       "    this.ws.onopen = function () {\n",
       "        fig.send_message('supports_binary', { value: fig.supports_binary });\n",
       "        fig.send_message('send_image_mode', {});\n",
       "        if (fig.ratio !== 1) {\n",
       "            fig.send_message('set_dpi_ratio', { dpi_ratio: fig.ratio });\n",
       "        }\n",
       "        fig.send_message('refresh', {});\n",
       "    };\n",
       "\n",
       "    this.imageObj.onload = function () {\n",
       "        if (fig.image_mode === 'full') {\n",
       "            // Full images could contain transparency (where diff images\n",
       "            // almost always do), so we need to clear the canvas so that\n",
       "            // there is no ghosting.\n",
       "            fig.context.clearRect(0, 0, fig.canvas.width, fig.canvas.height);\n",
       "        }\n",
       "        fig.context.drawImage(fig.imageObj, 0, 0);\n",
       "    };\n",
       "\n",
       "    this.imageObj.onunload = function () {\n",
       "        fig.ws.close();\n",
       "    };\n",
       "\n",
       "    this.ws.onmessage = this._make_on_message_function(this);\n",
       "\n",
       "    this.ondownload = ondownload;\n",
       "};\n",
       "\n",
       "mpl.figure.prototype._init_header = function () {\n",
       "    var titlebar = document.createElement('div');\n",
       "    titlebar.classList =\n",
       "        'ui-dialog-titlebar ui-widget-header ui-corner-all ui-helper-clearfix';\n",
       "    var titletext = document.createElement('div');\n",
       "    titletext.classList = 'ui-dialog-title';\n",
       "    titletext.setAttribute(\n",
       "        'style',\n",
       "        'width: 100%; text-align: center; padding: 3px;'\n",
       "    );\n",
       "    titlebar.appendChild(titletext);\n",
       "    this.root.appendChild(titlebar);\n",
       "    this.header = titletext;\n",
       "};\n",
       "\n",
       "mpl.figure.prototype._canvas_extra_style = function (_canvas_div) {};\n",
       "\n",
       "mpl.figure.prototype._root_extra_style = function (_canvas_div) {};\n",
       "\n",
       "mpl.figure.prototype._init_canvas = function () {\n",
       "    var fig = this;\n",
       "\n",
       "    var canvas_div = (this.canvas_div = document.createElement('div'));\n",
       "    canvas_div.setAttribute(\n",
       "        'style',\n",
       "        'border: 1px solid #ddd;' +\n",
       "            'box-sizing: content-box;' +\n",
       "            'clear: both;' +\n",
       "            'min-height: 1px;' +\n",
       "            'min-width: 1px;' +\n",
       "            'outline: 0;' +\n",
       "            'overflow: hidden;' +\n",
       "            'position: relative;' +\n",
       "            'resize: both;'\n",
       "    );\n",
       "\n",
       "    function on_keyboard_event_closure(name) {\n",
       "        return function (event) {\n",
       "            return fig.key_event(event, name);\n",
       "        };\n",
       "    }\n",
       "\n",
       "    canvas_div.addEventListener(\n",
       "        'keydown',\n",
       "        on_keyboard_event_closure('key_press')\n",
       "    );\n",
       "    canvas_div.addEventListener(\n",
       "        'keyup',\n",
       "        on_keyboard_event_closure('key_release')\n",
       "    );\n",
       "\n",
       "    this._canvas_extra_style(canvas_div);\n",
       "    this.root.appendChild(canvas_div);\n",
       "\n",
       "    var canvas = (this.canvas = document.createElement('canvas'));\n",
       "    canvas.classList.add('mpl-canvas');\n",
       "    canvas.setAttribute('style', 'box-sizing: content-box;');\n",
       "\n",
       "    this.context = canvas.getContext('2d');\n",
       "\n",
       "    var backingStore =\n",
       "        this.context.backingStorePixelRatio ||\n",
       "        this.context.webkitBackingStorePixelRatio ||\n",
       "        this.context.mozBackingStorePixelRatio ||\n",
       "        this.context.msBackingStorePixelRatio ||\n",
       "        this.context.oBackingStorePixelRatio ||\n",
       "        this.context.backingStorePixelRatio ||\n",
       "        1;\n",
       "\n",
       "    this.ratio = (window.devicePixelRatio || 1) / backingStore;\n",
       "    if (this.ratio !== 1) {\n",
       "        fig.send_message('set_dpi_ratio', { dpi_ratio: this.ratio });\n",
       "    }\n",
       "\n",
       "    var rubberband_canvas = (this.rubberband_canvas = document.createElement(\n",
       "        'canvas'\n",
       "    ));\n",
       "    rubberband_canvas.setAttribute(\n",
       "        'style',\n",
       "        'box-sizing: content-box; position: absolute; left: 0; top: 0; z-index: 1;'\n",
       "    );\n",
       "\n",
       "    var resizeObserver = new ResizeObserver(function (entries) {\n",
       "        var nentries = entries.length;\n",
       "        for (var i = 0; i < nentries; i++) {\n",
       "            var entry = entries[i];\n",
       "            var width, height;\n",
       "            if (entry.contentBoxSize) {\n",
       "                if (entry.contentBoxSize instanceof Array) {\n",
       "                    // Chrome 84 implements new version of spec.\n",
       "                    width = entry.contentBoxSize[0].inlineSize;\n",
       "                    height = entry.contentBoxSize[0].blockSize;\n",
       "                } else {\n",
       "                    // Firefox implements old version of spec.\n",
       "                    width = entry.contentBoxSize.inlineSize;\n",
       "                    height = entry.contentBoxSize.blockSize;\n",
       "                }\n",
       "            } else {\n",
       "                // Chrome <84 implements even older version of spec.\n",
       "                width = entry.contentRect.width;\n",
       "                height = entry.contentRect.height;\n",
       "            }\n",
       "\n",
       "            // Keep the size of the canvas and rubber band canvas in sync with\n",
       "            // the canvas container.\n",
       "            if (entry.devicePixelContentBoxSize) {\n",
       "                // Chrome 84 implements new version of spec.\n",
       "                canvas.setAttribute(\n",
       "                    'width',\n",
       "                    entry.devicePixelContentBoxSize[0].inlineSize\n",
       "                );\n",
       "                canvas.setAttribute(\n",
       "                    'height',\n",
       "                    entry.devicePixelContentBoxSize[0].blockSize\n",
       "                );\n",
       "            } else {\n",
       "                canvas.setAttribute('width', width * fig.ratio);\n",
       "                canvas.setAttribute('height', height * fig.ratio);\n",
       "            }\n",
       "            canvas.setAttribute(\n",
       "                'style',\n",
       "                'width: ' + width + 'px; height: ' + height + 'px;'\n",
       "            );\n",
       "\n",
       "            rubberband_canvas.setAttribute('width', width);\n",
       "            rubberband_canvas.setAttribute('height', height);\n",
       "\n",
       "            // And update the size in Python. We ignore the initial 0/0 size\n",
       "            // that occurs as the element is placed into the DOM, which should\n",
       "            // otherwise not happen due to the minimum size styling.\n",
       "            if (width != 0 && height != 0) {\n",
       "                fig.request_resize(width, height);\n",
       "            }\n",
       "        }\n",
       "    });\n",
       "    resizeObserver.observe(canvas_div);\n",
       "\n",
       "    function on_mouse_event_closure(name) {\n",
       "        return function (event) {\n",
       "            return fig.mouse_event(event, name);\n",
       "        };\n",
       "    }\n",
       "\n",
       "    rubberband_canvas.addEventListener(\n",
       "        'mousedown',\n",
       "        on_mouse_event_closure('button_press')\n",
       "    );\n",
       "    rubberband_canvas.addEventListener(\n",
       "        'mouseup',\n",
       "        on_mouse_event_closure('button_release')\n",
       "    );\n",
       "    // Throttle sequential mouse events to 1 every 20ms.\n",
       "    rubberband_canvas.addEventListener(\n",
       "        'mousemove',\n",
       "        on_mouse_event_closure('motion_notify')\n",
       "    );\n",
       "\n",
       "    rubberband_canvas.addEventListener(\n",
       "        'mouseenter',\n",
       "        on_mouse_event_closure('figure_enter')\n",
       "    );\n",
       "    rubberband_canvas.addEventListener(\n",
       "        'mouseleave',\n",
       "        on_mouse_event_closure('figure_leave')\n",
       "    );\n",
       "\n",
       "    canvas_div.addEventListener('wheel', function (event) {\n",
       "        if (event.deltaY < 0) {\n",
       "            event.step = 1;\n",
       "        } else {\n",
       "            event.step = -1;\n",
       "        }\n",
       "        on_mouse_event_closure('scroll')(event);\n",
       "    });\n",
       "\n",
       "    canvas_div.appendChild(canvas);\n",
       "    canvas_div.appendChild(rubberband_canvas);\n",
       "\n",
       "    this.rubberband_context = rubberband_canvas.getContext('2d');\n",
       "    this.rubberband_context.strokeStyle = '#000000';\n",
       "\n",
       "    this._resize_canvas = function (width, height, forward) {\n",
       "        if (forward) {\n",
       "            canvas_div.style.width = width + 'px';\n",
       "            canvas_div.style.height = height + 'px';\n",
       "        }\n",
       "    };\n",
       "\n",
       "    // Disable right mouse context menu.\n",
       "    this.rubberband_canvas.addEventListener('contextmenu', function (_e) {\n",
       "        event.preventDefault();\n",
       "        return false;\n",
       "    });\n",
       "\n",
       "    function set_focus() {\n",
       "        canvas.focus();\n",
       "        canvas_div.focus();\n",
       "    }\n",
       "\n",
       "    window.setTimeout(set_focus, 100);\n",
       "};\n",
       "\n",
       "mpl.figure.prototype._init_toolbar = function () {\n",
       "    var fig = this;\n",
       "\n",
       "    var toolbar = document.createElement('div');\n",
       "    toolbar.classList = 'mpl-toolbar';\n",
       "    this.root.appendChild(toolbar);\n",
       "\n",
       "    function on_click_closure(name) {\n",
       "        return function (_event) {\n",
       "            return fig.toolbar_button_onclick(name);\n",
       "        };\n",
       "    }\n",
       "\n",
       "    function on_mouseover_closure(tooltip) {\n",
       "        return function (event) {\n",
       "            if (!event.currentTarget.disabled) {\n",
       "                return fig.toolbar_button_onmouseover(tooltip);\n",
       "            }\n",
       "        };\n",
       "    }\n",
       "\n",
       "    fig.buttons = {};\n",
       "    var buttonGroup = document.createElement('div');\n",
       "    buttonGroup.classList = 'mpl-button-group';\n",
       "    for (var toolbar_ind in mpl.toolbar_items) {\n",
       "        var name = mpl.toolbar_items[toolbar_ind][0];\n",
       "        var tooltip = mpl.toolbar_items[toolbar_ind][1];\n",
       "        var image = mpl.toolbar_items[toolbar_ind][2];\n",
       "        var method_name = mpl.toolbar_items[toolbar_ind][3];\n",
       "\n",
       "        if (!name) {\n",
       "            /* Instead of a spacer, we start a new button group. */\n",
       "            if (buttonGroup.hasChildNodes()) {\n",
       "                toolbar.appendChild(buttonGroup);\n",
       "            }\n",
       "            buttonGroup = document.createElement('div');\n",
       "            buttonGroup.classList = 'mpl-button-group';\n",
       "            continue;\n",
       "        }\n",
       "\n",
       "        var button = (fig.buttons[name] = document.createElement('button'));\n",
       "        button.classList = 'mpl-widget';\n",
       "        button.setAttribute('role', 'button');\n",
       "        button.setAttribute('aria-disabled', 'false');\n",
       "        button.addEventListener('click', on_click_closure(method_name));\n",
       "        button.addEventListener('mouseover', on_mouseover_closure(tooltip));\n",
       "\n",
       "        var icon_img = document.createElement('img');\n",
       "        icon_img.src = '_images/' + image + '.png';\n",
       "        icon_img.srcset = '_images/' + image + '_large.png 2x';\n",
       "        icon_img.alt = tooltip;\n",
       "        button.appendChild(icon_img);\n",
       "\n",
       "        buttonGroup.appendChild(button);\n",
       "    }\n",
       "\n",
       "    if (buttonGroup.hasChildNodes()) {\n",
       "        toolbar.appendChild(buttonGroup);\n",
       "    }\n",
       "\n",
       "    var fmt_picker = document.createElement('select');\n",
       "    fmt_picker.classList = 'mpl-widget';\n",
       "    toolbar.appendChild(fmt_picker);\n",
       "    this.format_dropdown = fmt_picker;\n",
       "\n",
       "    for (var ind in mpl.extensions) {\n",
       "        var fmt = mpl.extensions[ind];\n",
       "        var option = document.createElement('option');\n",
       "        option.selected = fmt === mpl.default_extension;\n",
       "        option.innerHTML = fmt;\n",
       "        fmt_picker.appendChild(option);\n",
       "    }\n",
       "\n",
       "    var status_bar = document.createElement('span');\n",
       "    status_bar.classList = 'mpl-message';\n",
       "    toolbar.appendChild(status_bar);\n",
       "    this.message = status_bar;\n",
       "};\n",
       "\n",
       "mpl.figure.prototype.request_resize = function (x_pixels, y_pixels) {\n",
       "    // Request matplotlib to resize the figure. Matplotlib will then trigger a resize in the client,\n",
       "    // which will in turn request a refresh of the image.\n",
       "    this.send_message('resize', { width: x_pixels, height: y_pixels });\n",
       "};\n",
       "\n",
       "mpl.figure.prototype.send_message = function (type, properties) {\n",
       "    properties['type'] = type;\n",
       "    properties['figure_id'] = this.id;\n",
       "    this.ws.send(JSON.stringify(properties));\n",
       "};\n",
       "\n",
       "mpl.figure.prototype.send_draw_message = function () {\n",
       "    if (!this.waiting) {\n",
       "        this.waiting = true;\n",
       "        this.ws.send(JSON.stringify({ type: 'draw', figure_id: this.id }));\n",
       "    }\n",
       "};\n",
       "\n",
       "mpl.figure.prototype.handle_save = function (fig, _msg) {\n",
       "    var format_dropdown = fig.format_dropdown;\n",
       "    var format = format_dropdown.options[format_dropdown.selectedIndex].value;\n",
       "    fig.ondownload(fig, format);\n",
       "};\n",
       "\n",
       "mpl.figure.prototype.handle_resize = function (fig, msg) {\n",
       "    var size = msg['size'];\n",
       "    if (size[0] !== fig.canvas.width || size[1] !== fig.canvas.height) {\n",
       "        fig._resize_canvas(size[0], size[1], msg['forward']);\n",
       "        fig.send_message('refresh', {});\n",
       "    }\n",
       "};\n",
       "\n",
       "mpl.figure.prototype.handle_rubberband = function (fig, msg) {\n",
       "    var x0 = msg['x0'] / fig.ratio;\n",
       "    var y0 = (fig.canvas.height - msg['y0']) / fig.ratio;\n",
       "    var x1 = msg['x1'] / fig.ratio;\n",
       "    var y1 = (fig.canvas.height - msg['y1']) / fig.ratio;\n",
       "    x0 = Math.floor(x0) + 0.5;\n",
       "    y0 = Math.floor(y0) + 0.5;\n",
       "    x1 = Math.floor(x1) + 0.5;\n",
       "    y1 = Math.floor(y1) + 0.5;\n",
       "    var min_x = Math.min(x0, x1);\n",
       "    var min_y = Math.min(y0, y1);\n",
       "    var width = Math.abs(x1 - x0);\n",
       "    var height = Math.abs(y1 - y0);\n",
       "\n",
       "    fig.rubberband_context.clearRect(\n",
       "        0,\n",
       "        0,\n",
       "        fig.canvas.width / fig.ratio,\n",
       "        fig.canvas.height / fig.ratio\n",
       "    );\n",
       "\n",
       "    fig.rubberband_context.strokeRect(min_x, min_y, width, height);\n",
       "};\n",
       "\n",
       "mpl.figure.prototype.handle_figure_label = function (fig, msg) {\n",
       "    // Updates the figure title.\n",
       "    fig.header.textContent = msg['label'];\n",
       "};\n",
       "\n",
       "mpl.figure.prototype.handle_cursor = function (fig, msg) {\n",
       "    var cursor = msg['cursor'];\n",
       "    switch (cursor) {\n",
       "        case 0:\n",
       "            cursor = 'pointer';\n",
       "            break;\n",
       "        case 1:\n",
       "            cursor = 'default';\n",
       "            break;\n",
       "        case 2:\n",
       "            cursor = 'crosshair';\n",
       "            break;\n",
       "        case 3:\n",
       "            cursor = 'move';\n",
       "            break;\n",
       "    }\n",
       "    fig.rubberband_canvas.style.cursor = cursor;\n",
       "};\n",
       "\n",
       "mpl.figure.prototype.handle_message = function (fig, msg) {\n",
       "    fig.message.textContent = msg['message'];\n",
       "};\n",
       "\n",
       "mpl.figure.prototype.handle_draw = function (fig, _msg) {\n",
       "    // Request the server to send over a new figure.\n",
       "    fig.send_draw_message();\n",
       "};\n",
       "\n",
       "mpl.figure.prototype.handle_image_mode = function (fig, msg) {\n",
       "    fig.image_mode = msg['mode'];\n",
       "};\n",
       "\n",
       "mpl.figure.prototype.handle_history_buttons = function (fig, msg) {\n",
       "    for (var key in msg) {\n",
       "        if (!(key in fig.buttons)) {\n",
       "            continue;\n",
       "        }\n",
       "        fig.buttons[key].disabled = !msg[key];\n",
       "        fig.buttons[key].setAttribute('aria-disabled', !msg[key]);\n",
       "    }\n",
       "};\n",
       "\n",
       "mpl.figure.prototype.handle_navigate_mode = function (fig, msg) {\n",
       "    if (msg['mode'] === 'PAN') {\n",
       "        fig.buttons['Pan'].classList.add('active');\n",
       "        fig.buttons['Zoom'].classList.remove('active');\n",
       "    } else if (msg['mode'] === 'ZOOM') {\n",
       "        fig.buttons['Pan'].classList.remove('active');\n",
       "        fig.buttons['Zoom'].classList.add('active');\n",
       "    } else {\n",
       "        fig.buttons['Pan'].classList.remove('active');\n",
       "        fig.buttons['Zoom'].classList.remove('active');\n",
       "    }\n",
       "};\n",
       "\n",
       "mpl.figure.prototype.updated_canvas_event = function () {\n",
       "    // Called whenever the canvas gets updated.\n",
       "    this.send_message('ack', {});\n",
       "};\n",
       "\n",
       "// A function to construct a web socket function for onmessage handling.\n",
       "// Called in the figure constructor.\n",
       "mpl.figure.prototype._make_on_message_function = function (fig) {\n",
       "    return function socket_on_message(evt) {\n",
       "        if (evt.data instanceof Blob) {\n",
       "            /* FIXME: We get \"Resource interpreted as Image but\n",
       "             * transferred with MIME type text/plain:\" errors on\n",
       "             * Chrome.  But how to set the MIME type?  It doesn't seem\n",
       "             * to be part of the websocket stream */\n",
       "            evt.data.type = 'image/png';\n",
       "\n",
       "            /* Free the memory for the previous frames */\n",
       "            if (fig.imageObj.src) {\n",
       "                (window.URL || window.webkitURL).revokeObjectURL(\n",
       "                    fig.imageObj.src\n",
       "                );\n",
       "            }\n",
       "\n",
       "            fig.imageObj.src = (window.URL || window.webkitURL).createObjectURL(\n",
       "                evt.data\n",
       "            );\n",
       "            fig.updated_canvas_event();\n",
       "            fig.waiting = false;\n",
       "            return;\n",
       "        } else if (\n",
       "            typeof evt.data === 'string' &&\n",
       "            evt.data.slice(0, 21) === 'data:image/png;base64'\n",
       "        ) {\n",
       "            fig.imageObj.src = evt.data;\n",
       "            fig.updated_canvas_event();\n",
       "            fig.waiting = false;\n",
       "            return;\n",
       "        }\n",
       "\n",
       "        var msg = JSON.parse(evt.data);\n",
       "        var msg_type = msg['type'];\n",
       "\n",
       "        // Call the  \"handle_{type}\" callback, which takes\n",
       "        // the figure and JSON message as its only arguments.\n",
       "        try {\n",
       "            var callback = fig['handle_' + msg_type];\n",
       "        } catch (e) {\n",
       "            console.log(\n",
       "                \"No handler for the '\" + msg_type + \"' message type: \",\n",
       "                msg\n",
       "            );\n",
       "            return;\n",
       "        }\n",
       "\n",
       "        if (callback) {\n",
       "            try {\n",
       "                // console.log(\"Handling '\" + msg_type + \"' message: \", msg);\n",
       "                callback(fig, msg);\n",
       "            } catch (e) {\n",
       "                console.log(\n",
       "                    \"Exception inside the 'handler_\" + msg_type + \"' callback:\",\n",
       "                    e,\n",
       "                    e.stack,\n",
       "                    msg\n",
       "                );\n",
       "            }\n",
       "        }\n",
       "    };\n",
       "};\n",
       "\n",
       "// from http://stackoverflow.com/questions/1114465/getting-mouse-location-in-canvas\n",
       "mpl.findpos = function (e) {\n",
       "    //this section is from http://www.quirksmode.org/js/events_properties.html\n",
       "    var targ;\n",
       "    if (!e) {\n",
       "        e = window.event;\n",
       "    }\n",
       "    if (e.target) {\n",
       "        targ = e.target;\n",
       "    } else if (e.srcElement) {\n",
       "        targ = e.srcElement;\n",
       "    }\n",
       "    if (targ.nodeType === 3) {\n",
       "        // defeat Safari bug\n",
       "        targ = targ.parentNode;\n",
       "    }\n",
       "\n",
       "    // pageX,Y are the mouse positions relative to the document\n",
       "    var boundingRect = targ.getBoundingClientRect();\n",
       "    var x = e.pageX - (boundingRect.left + document.body.scrollLeft);\n",
       "    var y = e.pageY - (boundingRect.top + document.body.scrollTop);\n",
       "\n",
       "    return { x: x, y: y };\n",
       "};\n",
       "\n",
       "/*\n",
       " * return a copy of an object with only non-object keys\n",
       " * we need this to avoid circular references\n",
       " * http://stackoverflow.com/a/24161582/3208463\n",
       " */\n",
       "function simpleKeys(original) {\n",
       "    return Object.keys(original).reduce(function (obj, key) {\n",
       "        if (typeof original[key] !== 'object') {\n",
       "            obj[key] = original[key];\n",
       "        }\n",
       "        return obj;\n",
       "    }, {});\n",
       "}\n",
       "\n",
       "mpl.figure.prototype.mouse_event = function (event, name) {\n",
       "    var canvas_pos = mpl.findpos(event);\n",
       "\n",
       "    if (name === 'button_press') {\n",
       "        this.canvas.focus();\n",
       "        this.canvas_div.focus();\n",
       "    }\n",
       "\n",
       "    var x = canvas_pos.x * this.ratio;\n",
       "    var y = canvas_pos.y * this.ratio;\n",
       "\n",
       "    this.send_message(name, {\n",
       "        x: x,\n",
       "        y: y,\n",
       "        button: event.button,\n",
       "        step: event.step,\n",
       "        guiEvent: simpleKeys(event),\n",
       "    });\n",
       "\n",
       "    /* This prevents the web browser from automatically changing to\n",
       "     * the text insertion cursor when the button is pressed.  We want\n",
       "     * to control all of the cursor setting manually through the\n",
       "     * 'cursor' event from matplotlib */\n",
       "    event.preventDefault();\n",
       "    return false;\n",
       "};\n",
       "\n",
       "mpl.figure.prototype._key_event_extra = function (_event, _name) {\n",
       "    // Handle any extra behaviour associated with a key event\n",
       "};\n",
       "\n",
       "mpl.figure.prototype.key_event = function (event, name) {\n",
       "    // Prevent repeat events\n",
       "    if (name === 'key_press') {\n",
       "        if (event.which === this._key) {\n",
       "            return;\n",
       "        } else {\n",
       "            this._key = event.which;\n",
       "        }\n",
       "    }\n",
       "    if (name === 'key_release') {\n",
       "        this._key = null;\n",
       "    }\n",
       "\n",
       "    var value = '';\n",
       "    if (event.ctrlKey && event.which !== 17) {\n",
       "        value += 'ctrl+';\n",
       "    }\n",
       "    if (event.altKey && event.which !== 18) {\n",
       "        value += 'alt+';\n",
       "    }\n",
       "    if (event.shiftKey && event.which !== 16) {\n",
       "        value += 'shift+';\n",
       "    }\n",
       "\n",
       "    value += 'k';\n",
       "    value += event.which.toString();\n",
       "\n",
       "    this._key_event_extra(event, name);\n",
       "\n",
       "    this.send_message(name, { key: value, guiEvent: simpleKeys(event) });\n",
       "    return false;\n",
       "};\n",
       "\n",
       "mpl.figure.prototype.toolbar_button_onclick = function (name) {\n",
       "    if (name === 'download') {\n",
       "        this.handle_save(this, null);\n",
       "    } else {\n",
       "        this.send_message('toolbar_button', { name: name });\n",
       "    }\n",
       "};\n",
       "\n",
       "mpl.figure.prototype.toolbar_button_onmouseover = function (tooltip) {\n",
       "    this.message.textContent = tooltip;\n",
       "};\n",
       "mpl.toolbar_items = [[\"Home\", \"Reset original view\", \"fa fa-home icon-home\", \"home\"], [\"Back\", \"Back to previous view\", \"fa fa-arrow-left icon-arrow-left\", \"back\"], [\"Forward\", \"Forward to next view\", \"fa fa-arrow-right icon-arrow-right\", \"forward\"], [\"\", \"\", \"\", \"\"], [\"Pan\", \"Left button pans, Right button zooms\\nx/y fixes axis, CTRL fixes aspect\", \"fa fa-arrows icon-move\", \"pan\"], [\"Zoom\", \"Zoom to rectangle\\nx/y fixes axis, CTRL fixes aspect\", \"fa fa-square-o icon-check-empty\", \"zoom\"], [\"\", \"\", \"\", \"\"], [\"Download\", \"Download plot\", \"fa fa-floppy-o icon-save\", \"download\"]];\n",
       "\n",
       "mpl.extensions = [\"eps\", \"jpeg\", \"pdf\", \"png\", \"ps\", \"raw\", \"svg\", \"tif\"];\n",
       "\n",
       "mpl.default_extension = \"png\";/* global mpl */\n",
       "\n",
       "var comm_websocket_adapter = function (comm) {\n",
       "    // Create a \"websocket\"-like object which calls the given IPython comm\n",
       "    // object with the appropriate methods. Currently this is a non binary\n",
       "    // socket, so there is still some room for performance tuning.\n",
       "    var ws = {};\n",
       "\n",
       "    ws.close = function () {\n",
       "        comm.close();\n",
       "    };\n",
       "    ws.send = function (m) {\n",
       "        //console.log('sending', m);\n",
       "        comm.send(m);\n",
       "    };\n",
       "    // Register the callback with on_msg.\n",
       "    comm.on_msg(function (msg) {\n",
       "        //console.log('receiving', msg['content']['data'], msg);\n",
       "        // Pass the mpl event to the overridden (by mpl) onmessage function.\n",
       "        ws.onmessage(msg['content']['data']);\n",
       "    });\n",
       "    return ws;\n",
       "};\n",
       "\n",
       "mpl.mpl_figure_comm = function (comm, msg) {\n",
       "    // This is the function which gets called when the mpl process\n",
       "    // starts-up an IPython Comm through the \"matplotlib\" channel.\n",
       "\n",
       "    var id = msg.content.data.id;\n",
       "    // Get hold of the div created by the display call when the Comm\n",
       "    // socket was opened in Python.\n",
       "    var element = document.getElementById(id);\n",
       "    var ws_proxy = comm_websocket_adapter(comm);\n",
       "\n",
       "    function ondownload(figure, _format) {\n",
       "        window.open(figure.canvas.toDataURL());\n",
       "    }\n",
       "\n",
       "    var fig = new mpl.figure(id, ws_proxy, ondownload, element);\n",
       "\n",
       "    // Call onopen now - mpl needs it, as it is assuming we've passed it a real\n",
       "    // web socket which is closed, not our websocket->open comm proxy.\n",
       "    ws_proxy.onopen();\n",
       "\n",
       "    fig.parent_element = element;\n",
       "    fig.cell_info = mpl.find_output_cell(\"<div id='\" + id + \"'></div>\");\n",
       "    if (!fig.cell_info) {\n",
       "        console.error('Failed to find cell for figure', id, fig);\n",
       "        return;\n",
       "    }\n",
       "    fig.cell_info[0].output_area.element.one(\n",
       "        'cleared',\n",
       "        { fig: fig },\n",
       "        fig._remove_fig_handler\n",
       "    );\n",
       "};\n",
       "\n",
       "mpl.figure.prototype.handle_close = function (fig, msg) {\n",
       "    var width = fig.canvas.width / fig.ratio;\n",
       "    fig.cell_info[0].output_area.element.off(\n",
       "        'cleared',\n",
       "        fig._remove_fig_handler\n",
       "    );\n",
       "\n",
       "    // Update the output cell to use the data from the current canvas.\n",
       "    fig.push_to_output();\n",
       "    var dataURL = fig.canvas.toDataURL();\n",
       "    // Re-enable the keyboard manager in IPython - without this line, in FF,\n",
       "    // the notebook keyboard shortcuts fail.\n",
       "    IPython.keyboard_manager.enable();\n",
       "    fig.parent_element.innerHTML =\n",
       "        '<img src=\"' + dataURL + '\" width=\"' + width + '\">';\n",
       "    fig.close_ws(fig, msg);\n",
       "};\n",
       "\n",
       "mpl.figure.prototype.close_ws = function (fig, msg) {\n",
       "    fig.send_message('closing', msg);\n",
       "    // fig.ws.close()\n",
       "};\n",
       "\n",
       "mpl.figure.prototype.push_to_output = function (_remove_interactive) {\n",
       "    // Turn the data on the canvas into data in the output cell.\n",
       "    var width = this.canvas.width / this.ratio;\n",
       "    var dataURL = this.canvas.toDataURL();\n",
       "    this.cell_info[1]['text/html'] =\n",
       "        '<img src=\"' + dataURL + '\" width=\"' + width + '\">';\n",
       "};\n",
       "\n",
       "mpl.figure.prototype.updated_canvas_event = function () {\n",
       "    // Tell IPython that the notebook contents must change.\n",
       "    IPython.notebook.set_dirty(true);\n",
       "    this.send_message('ack', {});\n",
       "    var fig = this;\n",
       "    // Wait a second, then push the new image to the DOM so\n",
       "    // that it is saved nicely (might be nice to debounce this).\n",
       "    setTimeout(function () {\n",
       "        fig.push_to_output();\n",
       "    }, 1000);\n",
       "};\n",
       "\n",
       "mpl.figure.prototype._init_toolbar = function () {\n",
       "    var fig = this;\n",
       "\n",
       "    var toolbar = document.createElement('div');\n",
       "    toolbar.classList = 'btn-toolbar';\n",
       "    this.root.appendChild(toolbar);\n",
       "\n",
       "    function on_click_closure(name) {\n",
       "        return function (_event) {\n",
       "            return fig.toolbar_button_onclick(name);\n",
       "        };\n",
       "    }\n",
       "\n",
       "    function on_mouseover_closure(tooltip) {\n",
       "        return function (event) {\n",
       "            if (!event.currentTarget.disabled) {\n",
       "                return fig.toolbar_button_onmouseover(tooltip);\n",
       "            }\n",
       "        };\n",
       "    }\n",
       "\n",
       "    fig.buttons = {};\n",
       "    var buttonGroup = document.createElement('div');\n",
       "    buttonGroup.classList = 'btn-group';\n",
       "    var button;\n",
       "    for (var toolbar_ind in mpl.toolbar_items) {\n",
       "        var name = mpl.toolbar_items[toolbar_ind][0];\n",
       "        var tooltip = mpl.toolbar_items[toolbar_ind][1];\n",
       "        var image = mpl.toolbar_items[toolbar_ind][2];\n",
       "        var method_name = mpl.toolbar_items[toolbar_ind][3];\n",
       "\n",
       "        if (!name) {\n",
       "            /* Instead of a spacer, we start a new button group. */\n",
       "            if (buttonGroup.hasChildNodes()) {\n",
       "                toolbar.appendChild(buttonGroup);\n",
       "            }\n",
       "            buttonGroup = document.createElement('div');\n",
       "            buttonGroup.classList = 'btn-group';\n",
       "            continue;\n",
       "        }\n",
       "\n",
       "        button = fig.buttons[name] = document.createElement('button');\n",
       "        button.classList = 'btn btn-default';\n",
       "        button.href = '#';\n",
       "        button.title = name;\n",
       "        button.innerHTML = '<i class=\"fa ' + image + ' fa-lg\"></i>';\n",
       "        button.addEventListener('click', on_click_closure(method_name));\n",
       "        button.addEventListener('mouseover', on_mouseover_closure(tooltip));\n",
       "        buttonGroup.appendChild(button);\n",
       "    }\n",
       "\n",
       "    if (buttonGroup.hasChildNodes()) {\n",
       "        toolbar.appendChild(buttonGroup);\n",
       "    }\n",
       "\n",
       "    // Add the status bar.\n",
       "    var status_bar = document.createElement('span');\n",
       "    status_bar.classList = 'mpl-message pull-right';\n",
       "    toolbar.appendChild(status_bar);\n",
       "    this.message = status_bar;\n",
       "\n",
       "    // Add the close button to the window.\n",
       "    var buttongrp = document.createElement('div');\n",
       "    buttongrp.classList = 'btn-group inline pull-right';\n",
       "    button = document.createElement('button');\n",
       "    button.classList = 'btn btn-mini btn-primary';\n",
       "    button.href = '#';\n",
       "    button.title = 'Stop Interaction';\n",
       "    button.innerHTML = '<i class=\"fa fa-power-off icon-remove icon-large\"></i>';\n",
       "    button.addEventListener('click', function (_evt) {\n",
       "        fig.handle_close(fig, {});\n",
       "    });\n",
       "    button.addEventListener(\n",
       "        'mouseover',\n",
       "        on_mouseover_closure('Stop Interaction')\n",
       "    );\n",
       "    buttongrp.appendChild(button);\n",
       "    var titlebar = this.root.querySelector('.ui-dialog-titlebar');\n",
       "    titlebar.insertBefore(buttongrp, titlebar.firstChild);\n",
       "};\n",
       "\n",
       "mpl.figure.prototype._remove_fig_handler = function (event) {\n",
       "    var fig = event.data.fig;\n",
       "    fig.close_ws(fig, {});\n",
       "};\n",
       "\n",
       "mpl.figure.prototype._root_extra_style = function (el) {\n",
       "    el.style.boxSizing = 'content-box'; // override notebook setting of border-box.\n",
       "};\n",
       "\n",
       "mpl.figure.prototype._canvas_extra_style = function (el) {\n",
       "    // this is important to make the div 'focusable\n",
       "    el.setAttribute('tabindex', 0);\n",
       "    // reach out to IPython and tell the keyboard manager to turn it's self\n",
       "    // off when our div gets focus\n",
       "\n",
       "    // location in version 3\n",
       "    if (IPython.notebook.keyboard_manager) {\n",
       "        IPython.notebook.keyboard_manager.register_events(el);\n",
       "    } else {\n",
       "        // location in version 2\n",
       "        IPython.keyboard_manager.register_events(el);\n",
       "    }\n",
       "};\n",
       "\n",
       "mpl.figure.prototype._key_event_extra = function (event, _name) {\n",
       "    var manager = IPython.notebook.keyboard_manager;\n",
       "    if (!manager) {\n",
       "        manager = IPython.keyboard_manager;\n",
       "    }\n",
       "\n",
       "    // Check for shift+enter\n",
       "    if (event.shiftKey && event.which === 13) {\n",
       "        this.canvas_div.blur();\n",
       "        // select the cell after this one\n",
       "        var index = IPython.notebook.find_cell_index(this.cell_info[0]);\n",
       "        IPython.notebook.select(index + 1);\n",
       "    }\n",
       "};\n",
       "\n",
       "mpl.figure.prototype.handle_save = function (fig, _msg) {\n",
       "    fig.ondownload(fig, null);\n",
       "};\n",
       "\n",
       "mpl.find_output_cell = function (html_output) {\n",
       "    // Return the cell and output element which can be found *uniquely* in the notebook.\n",
       "    // Note - this is a bit hacky, but it is done because the \"notebook_saving.Notebook\"\n",
       "    // IPython event is triggered only after the cells have been serialised, which for\n",
       "    // our purposes (turning an active figure into a static one), is too late.\n",
       "    var cells = IPython.notebook.get_cells();\n",
       "    var ncells = cells.length;\n",
       "    for (var i = 0; i < ncells; i++) {\n",
       "        var cell = cells[i];\n",
       "        if (cell.cell_type === 'code') {\n",
       "            for (var j = 0; j < cell.output_area.outputs.length; j++) {\n",
       "                var data = cell.output_area.outputs[j];\n",
       "                if (data.data) {\n",
       "                    // IPython >= 3 moved mimebundle to data attribute of output\n",
       "                    data = data.data;\n",
       "                }\n",
       "                if (data['text/html'] === html_output) {\n",
       "                    return [cell, data, j];\n",
       "                }\n",
       "            }\n",
       "        }\n",
       "    }\n",
       "};\n",
       "\n",
       "// Register the function which deals with the matplotlib target/channel.\n",
       "// The kernel may be null if the page has been refreshed.\n",
       "if (IPython.notebook.kernel !== null) {\n",
       "    IPython.notebook.kernel.comm_manager.register_target(\n",
       "        'matplotlib',\n",
       "        mpl.mpl_figure_comm\n",
       "    );\n",
       "}\n"
      ],
      "text/plain": [
       "<IPython.core.display.Javascript object>"
      ]
     },
     "metadata": {},
     "output_type": "display_data"
    },
    {
     "data": {
      "text/html": [
       "<img src=\"data:image/png;base64,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\" width=\"865.5\">"
      ],
      "text/plain": [
       "<IPython.core.display.HTML object>"
      ]
     },
     "metadata": {},
     "output_type": "display_data"
    }
   ],
   "source": [
    "fig = plt.figure(figsize=(13, 5))\n",
    "ax1 = fig.add_subplot(1, 2, 1)\n",
    "ax2 = fig.add_subplot(1, 2, 2)\n",
    " \n",
    "A = np.random.randn(20, 20)\n",
    "A = A + A.T\n",
    "\n",
    "eigvals = A.copy()\n",
    "\n",
    "img = ax1.imshow(np.abs(A))\n",
    "plt.colorbar(img, ax=ax1)\n",
    "\n",
    "def animate(i, axes, img, A, err_values):\n",
    "    ax1, ax2 = axes\n",
    "    \n",
    "    img.set_data(np.abs(A))\n",
    "    img.set_clim(np.abs(A).min(), np.abs(A).max())\n",
    "    \n",
    "    offdiag = np.diag(np.diag(A)) - A\n",
    "    err = np.linalg.norm(offdiag)\n",
    "    \n",
    "    err_values.append(err)\n",
    "    \n",
    "    ax2.clear()\n",
    "    line = ax2.plot(np.arange(len(err_values)) + 1, err_values)\n",
    "    ax2.grid()\n",
    "    \n",
    "    \n",
    "    Q, R = np.linalg.qr(A)\n",
    "    A[:] = (R @ Q)[:]\n",
    "    \n",
    "    return [img, line]\n",
    " \n",
    "anim = animation.FuncAnimation(fig, animate, frames=500, interval=100,\n",
    "                              fargs=[(ax1, ax2), img, eigvals, []], blit=True)\n",
    "\n",
    "# anim.save('qr.gif', writer='imagemagick')"
   ]
  },
  {
   "cell_type": "code",
   "execution_count": 155,
   "id": "ab926be8",
   "metadata": {},
   "outputs": [
    {
     "data": {
      "text/plain": [
       "array([-11.56060879, -10.92131132,  -8.92720212,  -6.95293195,\n",
       "        -5.57239381,  -4.4462174 ,  -4.14980741,  -2.80267887,\n",
       "        -1.89259336,  -0.08396359,   1.36793001,   1.76864396,\n",
       "         3.01609753,   4.27241218,   4.87482216,   5.62098115,\n",
       "         5.98839355,   8.03739725,   8.69837394,  10.56768898])"
      ]
     },
     "execution_count": 155,
     "metadata": {},
     "output_type": "execute_result"
    }
   ],
   "source": [
    "np.sort(np.diag(eigvals))"
   ]
  },
  {
   "cell_type": "code",
   "execution_count": 156,
   "id": "909e93f7",
   "metadata": {},
   "outputs": [
    {
     "data": {
      "text/plain": [
       "array([-11.56060879, -10.92131132,  -8.92720212,  -6.95293195,\n",
       "        -5.61206261,  -4.4462174 ,  -4.14980741,  -2.80267887,\n",
       "        -1.89259336,  -0.08396359,   1.36793001,   1.76864396,\n",
       "         3.01609753,   4.27241218,   4.87482216,   5.66064996,\n",
       "         5.98839355,   8.03739725,   8.69837394,  10.56768898])"
      ]
     },
     "execution_count": 156,
     "metadata": {},
     "output_type": "execute_result"
    }
   ],
   "source": [
    "np.sort(np.linalg.eigvals(A))"
   ]
  },
  {
   "cell_type": "code",
   "execution_count": null,
   "id": "e89a59c3",
   "metadata": {},
   "outputs": [],
   "source": []
  }
 ],
 "metadata": {
  "kernelspec": {
   "display_name": "Python 3 (ipykernel)",
   "language": "python",
   "name": "python3"
  },
  "language_info": {
   "codemirror_mode": {
    "name": "ipython",
    "version": 3
   },
   "file_extension": ".py",
   "mimetype": "text/x-python",
   "name": "python",
   "nbconvert_exporter": "python",
   "pygments_lexer": "ipython3",
   "version": "3.9.12"
  }
 },
 "nbformat": 4,
 "nbformat_minor": 5
}
