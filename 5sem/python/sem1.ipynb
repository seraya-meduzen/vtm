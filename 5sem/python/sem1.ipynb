{
 "cells": [
  {
   "cell_type": "code",
   "execution_count": 61,
   "id": "ac114d55",
   "metadata": {},
   "outputs": [],
   "source": [
    "a = 5"
   ]
  },
  {
   "cell_type": "code",
   "execution_count": 62,
   "id": "f61cdc33",
   "metadata": {},
   "outputs": [],
   "source": [
    "b = a**a"
   ]
  },
  {
   "cell_type": "code",
   "execution_count": 63,
   "id": "79543853",
   "metadata": {},
   "outputs": [],
   "source": [
    "b = b**b"
   ]
  },
  {
   "cell_type": "code",
   "execution_count": 64,
   "id": "1d8b5e5f",
   "metadata": {},
   "outputs": [
    {
     "data": {
      "text/plain": [
       "25486943153626000041478502178060396920284389077807334910001435812037168872078231957120537111231673193068058363427545278932269113742725806843132210752362012399854515097289310103148581730008578037210339687982956430473791758563723192616030022306283996545156962975917260068206614244243806504492841957855201526902381642984491208524106295008833958764213962465499876599654741970371669818731899065159174684183931042522762064113835810709004140247948692974364990661545255760144167963408463188909531549151368533361741584398096925946289862619726640603924219401256733833702236070014048163456622338438670641583593978208480409611954567009570320956695354087657289652816302579633191059267886827866999071929047312775790813475841886562889445765075073722208966150935597067896202182283010564153642271004779097864318208783086838343607794425191066020631947695899750815841600288616333058596031969282358614027570203547939440238788488906637333562176358506991770568426226126008560869898661459716265305405435114009261480071546574092982435754212730403442486385025147944088967156408304539917992022193052457390462893220785931864502588961931526906874851138732949834568792579082267838345555931599382217283587479717661627888391257388085896863254946603713996885837370492774507204982136892561702439731147893145121518357534872926799213733254215319703527121949989728581089408654732207199963195704475792365689131016301142838355658354166295827927442930208950412665163016101087051883452556736868464055883093977304940919219674541310898002593871841549233649148721697359932569625299256151538475092889418424972620326502049563468078721972307157471134156206847914243152279765239803039383875232418336076615558165648680831389249299189369117677656086713006458587178513940018720517941114964886279831625777435870846635171989829357847852006109123812472047297334123793806117385944455971379283874762403043927434920416184738125285333478832540135552597599473344046100247955016863264731591847048985229057850426198078277905584556985949233320962438138244932388806357258715560319916095846828128028203395022272023962996612559569861268380101744699801419217406343909554870979261470795498177712412857254659827250530573532062430952325889309660814833348736133583868374251318657138914363573453236399977860577094771847896883590526183544322835209015565292096410369442951316670191360807410311433188968160373192833170021617480213621298189404392033930932718745025728209435305598269387879935899163618624670308025387774149663626042309794602916112847042539844992636992271322513885593646764714830097525240043855839640343454966572586747022485935923617568865589941727057142481433529098615560101428236588816093652030206806455088671596988808750613383404362025664507130656592312054886023747827813328611031464340030611819917062501490980770579027604547700112081848513857538655641478953280937016540490178890905304460318847676205822810787356910172906929673963344767519840808028733788280838453075657291425729889629095889434571093455911419479900920808918230131869269269219310598718017961898128906720220296128656773717527572721604189259137608586118590198704516190539566648037383008418828038971915873915000427269058771368179247901313672394195081050255946799447472045749873243726376315042077609597573924033648565516732506891252904508492168064056768452907002855683242019879226435493946630329917944190993512312565986409701138919557812748718542740724255010513779286074817631552968696314902337870494153002658733215018622682470436260622963619792740227569130660160745438372270946033925678299139892900189661450315580388755975724479775063764507343671949726961620833916551868832446307569150204748211810137799031682436824506070057275146630576667555150633972190999181335473396360927282099129187979444267513980964178850505963384295918904698575532630224446138784401329354831183096561990771145864449778614155088965196972777095284520751841477521362993331488578253810639902431630901161571609828734931832375748711179972519317992652008459759550770537977859244101009210947151959892224588053072494734185853823306025901582348876442072107055914927557345221098609230253713700524033523246487204977880718355227796484067144681636103600381229207861147352274208616434570530085887714246675900935881599405531964000373291828342666313710708785577956702474656527185249774492308004107248546084681624398700651258770828866721244613429009058553331114892071450595904099030480531094285315277825634149529373520457469488511569182834931589347909033518244866650271420122120562496125136616138757508050557469990416635821404314621283617339180988084632508804833980767435083416492856450047972764508030293669083271127975572659732247056774783932114571495322645297076098357123308668556618445144636155859443032045894751537171518163815686244925894694627497734215721830707901177713107534751599675989822171507006154601659171672513546578029026982368564816313035979675483381187627249239475528914404365775012421793055958636056016262570696433045670162862066713211654165439521659563435084255682674340144095436958540038816148720321699111285915572140226098145065495193464366667459497650891601037599635791091294949639351488260921999051006873241243774895135279587585521802759879385888269509868575518485950304050606823048537221281102461009562552851328950956547051201856145145433728928642142959205685695334393113353987711779413180399441220717914874848510391097398769151672540395951621384407190642850069335170099697977457120260204053300155889168375719349559149685099131878434185658654700025492680922719238721663032668739133486325633657997563966045142628143299641219558446463348264942305400660117711589859793828084425086855498310324781227226652125211351839248938519402652665966823568220935345455180587300077935325486387446884255272600021760649253529735130336177986901632046481158101253265194850645154322243233052405713199645558087556962133260871034687301046119686970176721707682861749449643133025374502554652173704190392682679960141491949651793462653568016693231260514844452863356208778970823979141474637064370673779407372368150268268580232446524879555559227261783527631415919832909882963948500957267924020234881257245551415593118260211018485230542342744950273662814142329113732365361302964032596486379348020918815803994643352423359286438324590222283115091010587701115565872588566290900715835951925227778828402584299876265529007447842775111164869769299448518728268281846463832681524266359416873650370768373982037967628106483883569022849706287091777886160098888750828929116408545014538219541041904057956689459052216199694648984307696427762800421254416740723027855504149036555279981148482118958967586083240282356492322341613872661800896122036262869823683866998022022113898750225524945520100444777787345871394471441621866278029137253700461331869398017999560498945966344934034939499764141802560329651125382872932314596869729708716973639776312496785992990753933224507337314225832675568347713281256117979170678034633500332552533737277810133904855007094755960162790953799421217542284591084614878368253221922792676752992349017835792896019048489075903433710991836272660633303625022918238575319255591125454212454927996108816677762833518538955766826546913909468644148305544713963911311181617823621515552568702204551346846612824037258130364746716223763329805757346470212331325850979148415979151734437861701246715466514992547994314894299036293674211822097229349870174068567335045884618354103696314142053438899490257084521876484982560880860132934250355448782859155708997237272017449611153277708745885613641012107197202675147783023562880864988388619410328125810698709082289709255261250836040146892153280489039440491095999516466275815992097384220569623484715311127381617138790908584473058120808772173391838222575741769444231793658322984822566918159653799284203512538829458153099940592884687415780489797164322372501344423819025937553042779131085419066464955505185479925662783300255583461266505859660397557718586373663803350540619980866460980606754859875035529336254727332774367517892970639927117415803188465133484300817943495558203370218267213744323308586993248201561054026733855586814825973735585358641664633067350774165752200283260174343598570828808299411340006684490763607933508558869675455912646496726315760376449378535220750579389836768901793155425935242850674130242101623944178505588155725340707202251613148738193361040599096110811001541006474475843132812228742319393693815085823780508541276106846237174812983855711011429478557654725803990893934302541466974253714661802397644739713570620951841528686614859610229110797805048881008911572034371673887020214000890622534756857883058477389165672226158034167582671717191834749987386118152919390243773469488415146734468223874684155566690853021782446906392366599281019970596269286244838542891693514633802657957197196591105480768175248168260654534058968838958471447112857947874294439988808831041327546180119957186401569166841162210342797522879511738685600506273362000798239704981731876794351315990312890570661087875430093339348353056703843192364317775524585339500512871933001020677972324079286655853942726926177301644196062996952553715474075272606448610694905764829751394383023493853800099627035202573507522765899665048063360329599918196718994895335255827253864712724100507922612895395977435596543771637912518906173152012877269752348032368668795703725731464680490678281648784351640282683915132598676828791339388457008634794646118297151857505879349712993313625754996102758294244016434814432313802232433482461148116845140972874611309386720948980336229947457613731352510103001776810695527333434615629467445186343971792616773469940899051425056449529501833684414793358349801763080419359676555902391057374108650008636191446823639387723201387402445670903918667147308567217287734928870325820196456231852243748484346282601886973272263123191663023703978657519186201043830307846413572730720657681282533156437572574182868328573181626666866699775167890218327652585784355731225618896338089033360639642525958609204875900374696458843235967240193951961737362439482449218404118728817293473953875879396021534618329920483670211090139857738325761637224610454164670708169156543989757033931604273634476139928646808703102631766459539901181252640307421955658995643323118526725956316026446746368776360252831413538121360407348639140762622579551702230150668089337120906311661497655855745688905759413797601150825670002409934131538105284757719545144692599474802379983056873255919163842865054939697709272164236301739372913876418922375448092373530170798439464066674326297761219991718971774733488302856892546237654757972730005816904322375174286502221247587974013516691029483658623663513169633783759722257390290840212608024144499509293546557499718602405543855613086920993347433698918308617930654874907280189078021770038762193910060330852670961679528807210088898905136568719256611009516558932692235430795312700357600738529286712640098634811753376972485230297820530547121734188738540991133860565675731390951805218864600647631858209464908206819751430860510055254053440876305103302001953125"
      ]
     },
     "execution_count": 64,
     "metadata": {},
     "output_type": "execute_result"
    }
   ],
   "source": [
    "b"
   ]
  },
  {
   "cell_type": "code",
   "execution_count": 65,
   "id": "ea2d5fb6",
   "metadata": {},
   "outputs": [],
   "source": [
    "a = [1, 2, 3]\n",
    "b = a\n",
    "a.append(4)"
   ]
  },
  {
   "cell_type": "code",
   "execution_count": 66,
   "id": "2bf13332",
   "metadata": {},
   "outputs": [
    {
     "data": {
      "text/plain": [
       "[1, 2, 3, 4]"
      ]
     },
     "execution_count": 66,
     "metadata": {},
     "output_type": "execute_result"
    }
   ],
   "source": [
    "b"
   ]
  },
  {
   "cell_type": "code",
   "execution_count": 67,
   "id": "da1ee1da",
   "metadata": {},
   "outputs": [],
   "source": [
    "import sys"
   ]
  },
  {
   "cell_type": "code",
   "execution_count": 68,
   "id": "bc8ae2c2",
   "metadata": {},
   "outputs": [
    {
     "data": {
      "text/plain": [
       "9"
      ]
     },
     "execution_count": 68,
     "metadata": {},
     "output_type": "execute_result"
    }
   ],
   "source": [
    "sys.getrefcount(a)"
   ]
  },
  {
   "cell_type": "code",
   "execution_count": 69,
   "id": "ccdf8124",
   "metadata": {},
   "outputs": [
    {
     "data": {
      "text/plain": [
       "140389088555520"
      ]
     },
     "execution_count": 69,
     "metadata": {},
     "output_type": "execute_result"
    }
   ],
   "source": [
    "id(a)"
   ]
  },
  {
   "cell_type": "code",
   "execution_count": 70,
   "id": "558134d3",
   "metadata": {},
   "outputs": [
    {
     "data": {
      "text/plain": [
       "140389088555520"
      ]
     },
     "execution_count": 70,
     "metadata": {},
     "output_type": "execute_result"
    }
   ],
   "source": [
    "id(b)"
   ]
  },
  {
   "cell_type": "code",
   "execution_count": 71,
   "id": "6aedc072",
   "metadata": {},
   "outputs": [],
   "source": [
    "a = [1, 2, 3]\n",
    "b = a[:]\n",
    "a.append(4)"
   ]
  },
  {
   "cell_type": "code",
   "execution_count": 72,
   "id": "fc4f3db6",
   "metadata": {},
   "outputs": [
    {
     "data": {
      "text/plain": [
       "[1, 2, 3]"
      ]
     },
     "execution_count": 72,
     "metadata": {},
     "output_type": "execute_result"
    }
   ],
   "source": [
    "b"
   ]
  },
  {
   "cell_type": "code",
   "execution_count": null,
   "id": "a6cadcac",
   "metadata": {},
   "outputs": [],
   "source": []
  },
  {
   "cell_type": "code",
   "execution_count": 73,
   "id": "457b5d73",
   "metadata": {},
   "outputs": [
    {
     "name": "stdout",
     "output_type": "stream",
     "text": [
      "0 10\n",
      "1 13\n",
      "2 16\n",
      "3 19\n"
     ]
    }
   ],
   "source": [
    "for idx, i in enumerate(range(10, 20, 3)):\n",
    "    print(idx, i)"
   ]
  },
  {
   "cell_type": "code",
   "execution_count": 74,
   "id": "bb41990c",
   "metadata": {},
   "outputs": [],
   "source": [
    "a = 5"
   ]
  },
  {
   "cell_type": "code",
   "execution_count": 75,
   "id": "c6b412e3",
   "metadata": {},
   "outputs": [],
   "source": [
    "import sympy\n",
    "\n",
    "class NPrimeIterator(object):\n",
    "    def __init__(self, n):\n",
    "        self.n = n\n",
    "        self.cnt = 0\n",
    "        self.curr_prime = 2\n",
    "        \n",
    "    def next(self):\n",
    "        if self.cnt >= self.n:\n",
    "            raise StopIteration()\n",
    "        ret_val = self.curr_prime\n",
    "        self.curr_prime += 1\n",
    "        while not sympy.isprime(self.curr_prime):\n",
    "            self.curr_prime += 1\n",
    "        self.cnt += 1\n",
    "        return ret_val\n",
    "    \n",
    "    def __iter__(self):\n",
    "        return self\n",
    "    \n",
    "    def __next__(self):\n",
    "        return self.next()"
   ]
  },
  {
   "cell_type": "code",
   "execution_count": 76,
   "id": "b2ae55d1",
   "metadata": {},
   "outputs": [],
   "source": [
    "gen = NPrimeIterator(10)"
   ]
  },
  {
   "cell_type": "code",
   "execution_count": 77,
   "id": "2e6f20a6",
   "metadata": {},
   "outputs": [
    {
     "name": "stdout",
     "output_type": "stream",
     "text": [
      "2\n",
      "3\n",
      "5\n",
      "7\n",
      "11\n",
      "13\n",
      "17\n",
      "19\n",
      "23\n",
      "29\n"
     ]
    }
   ],
   "source": [
    "for i in gen:\n",
    "    print(i)"
   ]
  },
  {
   "cell_type": "code",
   "execution_count": 78,
   "id": "24fe5a5f",
   "metadata": {},
   "outputs": [],
   "source": [
    "rng = range(10)"
   ]
  },
  {
   "cell_type": "code",
   "execution_count": 79,
   "id": "c88ef71b",
   "metadata": {},
   "outputs": [
    {
     "name": "stdout",
     "output_type": "stream",
     "text": [
      "0\n",
      "1\n",
      "2\n",
      "3\n",
      "4\n",
      "5\n",
      "6\n",
      "7\n",
      "8\n",
      "9\n"
     ]
    }
   ],
   "source": [
    "for i in rng:\n",
    "    print(i)"
   ]
  },
  {
   "cell_type": "code",
   "execution_count": 80,
   "id": "efb4ed0a",
   "metadata": {},
   "outputs": [],
   "source": [
    "def NPrimeGenerator(n):\n",
    "    cnt = 0\n",
    "    curr_prime = 2\n",
    "    \n",
    "    while cnt < n:\n",
    "        yield curr_prime\n",
    "        curr_prime += 1\n",
    "        while not sympy.isprime(curr_prime):\n",
    "            curr_prime += 1\n",
    "        cnt += 1"
   ]
  },
  {
   "cell_type": "code",
   "execution_count": 81,
   "id": "d8447bfa",
   "metadata": {},
   "outputs": [],
   "source": [
    "gen2 = NPrimeGenerator(10)"
   ]
  },
  {
   "cell_type": "code",
   "execution_count": 82,
   "id": "40da2c1d",
   "metadata": {},
   "outputs": [
    {
     "name": "stdout",
     "output_type": "stream",
     "text": [
      "2\n",
      "3\n",
      "5\n",
      "7\n",
      "11\n",
      "13\n",
      "17\n",
      "19\n",
      "23\n",
      "29\n"
     ]
    }
   ],
   "source": [
    "for i in gen2:\n",
    "    print(i)"
   ]
  },
  {
   "cell_type": "code",
   "execution_count": null,
   "id": "38058c32",
   "metadata": {},
   "outputs": [],
   "source": []
  },
  {
   "cell_type": "code",
   "execution_count": 83,
   "id": "a79a3f69",
   "metadata": {},
   "outputs": [],
   "source": [
    "gen = NPrimeIterator(10)\n",
    "gen2 = NPrimeGenerator(10)"
   ]
  },
  {
   "cell_type": "code",
   "execution_count": 84,
   "id": "4a4fdfd5",
   "metadata": {},
   "outputs": [
    {
     "data": {
      "text/plain": [
       "3"
      ]
     },
     "execution_count": 84,
     "metadata": {},
     "output_type": "execute_result"
    }
   ],
   "source": [
    "rng[3]"
   ]
  },
  {
   "cell_type": "code",
   "execution_count": 85,
   "id": "10411212",
   "metadata": {},
   "outputs": [],
   "source": [
    "rng = range(10**18)"
   ]
  },
  {
   "cell_type": "code",
   "execution_count": 86,
   "id": "874b487a",
   "metadata": {},
   "outputs": [],
   "source": [
    "x = [1, 2, 3, 4, 5]"
   ]
  },
  {
   "cell_type": "code",
   "execution_count": 87,
   "id": "6c52b099",
   "metadata": {},
   "outputs": [
    {
     "ename": "NameError",
     "evalue": "name 'x_iter' is not defined",
     "output_type": "error",
     "traceback": [
      "\u001b[0;31m---------------------------------------------------------------------------\u001b[0m",
      "\u001b[0;31mNameError\u001b[0m                                 Traceback (most recent call last)",
      "Input \u001b[0;32mIn [87]\u001b[0m, in \u001b[0;36m<cell line: 1>\u001b[0;34m()\u001b[0m\n\u001b[0;32m----> 1\u001b[0m \u001b[38;5;28;01mfor\u001b[39;00m i \u001b[38;5;129;01min\u001b[39;00m \u001b[43mx_iter\u001b[49m:\n\u001b[1;32m      2\u001b[0m     \u001b[38;5;28mprint\u001b[39m(i)\n",
      "\u001b[0;31mNameError\u001b[0m: name 'x_iter' is not defined"
     ]
    }
   ],
   "source": [
    "for i in x_iter:\n",
    "    print(i)"
   ]
  },
  {
   "cell_type": "code",
   "execution_count": 88,
   "id": "30324445",
   "metadata": {},
   "outputs": [],
   "source": [
    "x_iter = iter(x)"
   ]
  },
  {
   "cell_type": "code",
   "execution_count": 89,
   "id": "8b3d5400",
   "metadata": {},
   "outputs": [
    {
     "data": {
      "text/plain": [
       "(list, list_iterator)"
      ]
     },
     "execution_count": 89,
     "metadata": {},
     "output_type": "execute_result"
    }
   ],
   "source": [
    "type(x), type(x_iter)"
   ]
  },
  {
   "cell_type": "code",
   "execution_count": 90,
   "id": "bfbbf110",
   "metadata": {},
   "outputs": [
    {
     "ename": "NameError",
     "evalue": "name 'x_rev' is not defined",
     "output_type": "error",
     "traceback": [
      "\u001b[0;31m---------------------------------------------------------------------------\u001b[0m",
      "\u001b[0;31mNameError\u001b[0m                                 Traceback (most recent call last)",
      "Input \u001b[0;32mIn [90]\u001b[0m, in \u001b[0;36m<cell line: 1>\u001b[0;34m()\u001b[0m\n\u001b[0;32m----> 1\u001b[0m \u001b[38;5;28;01mfor\u001b[39;00m i \u001b[38;5;129;01min\u001b[39;00m \u001b[43mx_rev\u001b[49m:\n\u001b[1;32m      2\u001b[0m     \u001b[38;5;28mprint\u001b[39m(i)\n",
      "\u001b[0;31mNameError\u001b[0m: name 'x_rev' is not defined"
     ]
    }
   ],
   "source": [
    "for i in x_rev:\n",
    "    print(i)"
   ]
  },
  {
   "cell_type": "code",
   "execution_count": 91,
   "id": "2215d295",
   "metadata": {},
   "outputs": [],
   "source": [
    "x_rev = x[::-1]"
   ]
  },
  {
   "cell_type": "code",
   "execution_count": 92,
   "id": "7794b7c1",
   "metadata": {},
   "outputs": [],
   "source": [
    "class MyArray(object):\n",
    "    def __init__(self, n):\n",
    "        self.lst = [0] * n\n",
    "        self.len = n\n",
    "        \n",
    "    def __len__(self):\n",
    "        return self.len\n",
    "    \n",
    "    def __getitem__(self, i):\n",
    "        print(i)\n",
    "        return self.lst[i]\n",
    "    \n",
    "    def __setitem__(self, i, val):\n",
    "        self.lst[i] = val"
   ]
  },
  {
   "cell_type": "code",
   "execution_count": 93,
   "id": "df37c603",
   "metadata": {},
   "outputs": [],
   "source": [
    "myarr = MyArray(10)"
   ]
  },
  {
   "cell_type": "code",
   "execution_count": 94,
   "id": "76ca30a0",
   "metadata": {},
   "outputs": [],
   "source": [
    "myarr[2] = 3"
   ]
  },
  {
   "cell_type": "code",
   "execution_count": 95,
   "id": "669b9261",
   "metadata": {},
   "outputs": [
    {
     "name": "stdout",
     "output_type": "stream",
     "text": [
      "slice(None, 4, None)\n"
     ]
    },
    {
     "data": {
      "text/plain": [
       "[0, 0, 3, 0]"
      ]
     },
     "execution_count": 95,
     "metadata": {},
     "output_type": "execute_result"
    }
   ],
   "source": [
    "myarr[:4]"
   ]
  },
  {
   "cell_type": "code",
   "execution_count": 96,
   "id": "bba477b8",
   "metadata": {},
   "outputs": [],
   "source": [
    "s = slice(2, 5, 1)"
   ]
  },
  {
   "cell_type": "code",
   "execution_count": 97,
   "id": "d89c12ba",
   "metadata": {},
   "outputs": [
    {
     "data": {
      "text/plain": [
       "[3, 4, 5]"
      ]
     },
     "execution_count": 97,
     "metadata": {},
     "output_type": "execute_result"
    }
   ],
   "source": [
    "x[s]"
   ]
  },
  {
   "cell_type": "code",
   "execution_count": 98,
   "id": "d5b75e28",
   "metadata": {},
   "outputs": [
    {
     "data": {
      "text/plain": [
       "True"
      ]
     },
     "execution_count": 98,
     "metadata": {},
     "output_type": "execute_result"
    }
   ],
   "source": [
    "isinstance(s, slice)"
   ]
  },
  {
   "cell_type": "code",
   "execution_count": null,
   "id": "78644d26",
   "metadata": {},
   "outputs": [],
   "source": []
  },
  {
   "cell_type": "code",
   "execution_count": 99,
   "id": "ee4a4db2",
   "metadata": {},
   "outputs": [],
   "source": [
    "a = [0] * 5"
   ]
  },
  {
   "cell_type": "code",
   "execution_count": 100,
   "id": "53c9f42f",
   "metadata": {},
   "outputs": [],
   "source": [
    "a[2] = 1"
   ]
  },
  {
   "cell_type": "code",
   "execution_count": 101,
   "id": "e11e5b42",
   "metadata": {},
   "outputs": [
    {
     "data": {
      "text/plain": [
       "[0, 0, 1, 0, 0]"
      ]
     },
     "execution_count": 101,
     "metadata": {},
     "output_type": "execute_result"
    }
   ],
   "source": [
    "a"
   ]
  },
  {
   "cell_type": "code",
   "execution_count": null,
   "id": "8c81158c",
   "metadata": {},
   "outputs": [],
   "source": []
  },
  {
   "cell_type": "code",
   "execution_count": 102,
   "id": "711c0b18",
   "metadata": {},
   "outputs": [],
   "source": [
    "a = [[0] * 5] * 10"
   ]
  },
  {
   "cell_type": "code",
   "execution_count": 103,
   "id": "4c4b6708",
   "metadata": {},
   "outputs": [
    {
     "data": {
      "text/plain": [
       "[[0, 0, 0, 0, 0],\n",
       " [0, 0, 0, 0, 0],\n",
       " [0, 0, 0, 0, 0],\n",
       " [0, 0, 0, 0, 0],\n",
       " [0, 0, 0, 0, 0],\n",
       " [0, 0, 0, 0, 0],\n",
       " [0, 0, 0, 0, 0],\n",
       " [0, 0, 0, 0, 0],\n",
       " [0, 0, 0, 0, 0],\n",
       " [0, 0, 0, 0, 0]]"
      ]
     },
     "execution_count": 103,
     "metadata": {},
     "output_type": "execute_result"
    }
   ],
   "source": [
    "a"
   ]
  },
  {
   "cell_type": "code",
   "execution_count": 104,
   "id": "c563fb1d",
   "metadata": {},
   "outputs": [],
   "source": [
    "a[0][0] = 1"
   ]
  },
  {
   "cell_type": "code",
   "execution_count": null,
   "id": "27ad6a47",
   "metadata": {},
   "outputs": [],
   "source": []
  },
  {
   "cell_type": "code",
   "execution_count": 105,
   "id": "cb3143f7",
   "metadata": {},
   "outputs": [],
   "source": [
    "a = [[0] * 10 for _ in range(5)]"
   ]
  },
  {
   "cell_type": "code",
   "execution_count": 106,
   "id": "6adce06b",
   "metadata": {},
   "outputs": [],
   "source": [
    "a[0][0] = 1"
   ]
  },
  {
   "cell_type": "code",
   "execution_count": 107,
   "id": "5efeadda",
   "metadata": {},
   "outputs": [
    {
     "data": {
      "text/plain": [
       "[[1, 0, 0, 0, 0, 0, 0, 0, 0, 0],\n",
       " [0, 0, 0, 0, 0, 0, 0, 0, 0, 0],\n",
       " [0, 0, 0, 0, 0, 0, 0, 0, 0, 0],\n",
       " [0, 0, 0, 0, 0, 0, 0, 0, 0, 0],\n",
       " [0, 0, 0, 0, 0, 0, 0, 0, 0, 0]]"
      ]
     },
     "execution_count": 107,
     "metadata": {},
     "output_type": "execute_result"
    }
   ],
   "source": [
    "a"
   ]
  },
  {
   "cell_type": "code",
   "execution_count": null,
   "id": "318b83eb",
   "metadata": {},
   "outputs": [],
   "source": []
  },
  {
   "cell_type": "code",
   "execution_count": 108,
   "id": "14036019",
   "metadata": {},
   "outputs": [],
   "source": [
    "a = (1, 2, 3, 4, 5, 6, 7)"
   ]
  },
  {
   "cell_type": "code",
   "execution_count": 109,
   "id": "26983632",
   "metadata": {},
   "outputs": [
    {
     "data": {
      "text/plain": [
       "96"
      ]
     },
     "execution_count": 109,
     "metadata": {},
     "output_type": "execute_result"
    }
   ],
   "source": [
    "sys.getsizeof(a)"
   ]
  },
  {
   "cell_type": "code",
   "execution_count": 110,
   "id": "bafdc490",
   "metadata": {},
   "outputs": [],
   "source": [
    "b = list(a)"
   ]
  },
  {
   "cell_type": "code",
   "execution_count": 111,
   "id": "e7b5ebf7",
   "metadata": {},
   "outputs": [
    {
     "data": {
      "text/plain": [
       "112"
      ]
     },
     "execution_count": 111,
     "metadata": {},
     "output_type": "execute_result"
    }
   ],
   "source": [
    "sys.getsizeof(b)"
   ]
  },
  {
   "cell_type": "code",
   "execution_count": null,
   "id": "39ded95c",
   "metadata": {},
   "outputs": [],
   "source": []
  },
  {
   "cell_type": "code",
   "execution_count": 112,
   "id": "355636d2",
   "metadata": {},
   "outputs": [],
   "source": [
    "b = []\n",
    "for i in range(1000):\n",
    "    b.append(i)"
   ]
  },
  {
   "cell_type": "code",
   "execution_count": 113,
   "id": "c3c969dc",
   "metadata": {},
   "outputs": [
    {
     "data": {
      "text/plain": [
       "1100.0"
      ]
     },
     "execution_count": 113,
     "metadata": {},
     "output_type": "execute_result"
    }
   ],
   "source": [
    "(sys.getsizeof(b) - sys.getsizeof([])) / 8"
   ]
  },
  {
   "cell_type": "code",
   "execution_count": null,
   "id": "d977bff1",
   "metadata": {},
   "outputs": [],
   "source": []
  },
  {
   "cell_type": "code",
   "execution_count": 114,
   "id": "e1a65f55",
   "metadata": {},
   "outputs": [],
   "source": [
    "a = (1, 2, 3, [4, 5, 6])"
   ]
  },
  {
   "cell_type": "code",
   "execution_count": 115,
   "id": "7e52aa31",
   "metadata": {},
   "outputs": [
    {
     "ename": "TypeError",
     "evalue": "'tuple' object does not support item assignment",
     "output_type": "error",
     "traceback": [
      "\u001b[0;31m---------------------------------------------------------------------------\u001b[0m",
      "\u001b[0;31mTypeError\u001b[0m                                 Traceback (most recent call last)",
      "Input \u001b[0;32mIn [115]\u001b[0m, in \u001b[0;36m<cell line: 1>\u001b[0;34m()\u001b[0m\n\u001b[0;32m----> 1\u001b[0m a[\u001b[38;5;241m3\u001b[39m] \u001b[38;5;241m+\u001b[39m\u001b[38;5;241m=\u001b[39m [\u001b[38;5;241m7\u001b[39m, \u001b[38;5;241m8\u001b[39m]\n",
      "\u001b[0;31mTypeError\u001b[0m: 'tuple' object does not support item assignment"
     ]
    }
   ],
   "source": [
    "a[3] += [7, 8]"
   ]
  },
  {
   "cell_type": "code",
   "execution_count": 116,
   "id": "6fb86ccf",
   "metadata": {},
   "outputs": [],
   "source": [
    "a[3][2] = 10"
   ]
  },
  {
   "cell_type": "code",
   "execution_count": 117,
   "id": "b48ef460",
   "metadata": {},
   "outputs": [],
   "source": [
    "import dis"
   ]
  },
  {
   "cell_type": "code",
   "execution_count": 118,
   "id": "bff1e000",
   "metadata": {},
   "outputs": [
    {
     "name": "stdout",
     "output_type": "stream",
     "text": [
      "  1           0 LOAD_NAME                0 (a)\n",
      "              2 LOAD_CONST               0 (3)\n",
      "              4 DUP_TOP_TWO\n",
      "              6 BINARY_SUBSCR\n",
      "              8 LOAD_CONST               1 (7)\n",
      "             10 LOAD_CONST               2 (8)\n",
      "             12 BUILD_LIST               2\n",
      "             14 INPLACE_ADD\n",
      "             16 ROT_THREE\n",
      "             18 STORE_SUBSCR\n",
      "             20 LOAD_CONST               3 (None)\n",
      "             22 RETURN_VALUE\n"
     ]
    }
   ],
   "source": [
    "dis.dis('a[3] += [7, 8]')"
   ]
  },
  {
   "cell_type": "code",
   "execution_count": null,
   "id": "3a68f0cd",
   "metadata": {},
   "outputs": [],
   "source": []
  },
  {
   "cell_type": "code",
   "execution_count": 119,
   "id": "50f9c357",
   "metadata": {},
   "outputs": [],
   "source": [
    "a = [1, 2, 4]"
   ]
  },
  {
   "cell_type": "code",
   "execution_count": 120,
   "id": "b0762919",
   "metadata": {},
   "outputs": [],
   "source": [
    "a = 5"
   ]
  },
  {
   "cell_type": "code",
   "execution_count": 121,
   "id": "bb9dd545",
   "metadata": {},
   "outputs": [],
   "source": [
    "import gc"
   ]
  },
  {
   "cell_type": "code",
   "execution_count": 122,
   "id": "e54c066b",
   "metadata": {},
   "outputs": [
    {
     "data": {
      "text/plain": [
       "2845"
      ]
     },
     "execution_count": 122,
     "metadata": {},
     "output_type": "execute_result"
    }
   ],
   "source": [
    "gc.collect()"
   ]
  },
  {
   "cell_type": "code",
   "execution_count": 123,
   "id": "88d66de7",
   "metadata": {},
   "outputs": [],
   "source": [
    "del a"
   ]
  },
  {
   "cell_type": "code",
   "execution_count": 124,
   "id": "a42a938b",
   "metadata": {},
   "outputs": [],
   "source": [
    "d = {}"
   ]
  },
  {
   "cell_type": "code",
   "execution_count": 125,
   "id": "ba37b890",
   "metadata": {},
   "outputs": [],
   "source": [
    "a = (1, 2)"
   ]
  },
  {
   "cell_type": "code",
   "execution_count": 126,
   "id": "9446e531",
   "metadata": {},
   "outputs": [],
   "source": [
    "b = (1, 2, 3)"
   ]
  },
  {
   "cell_type": "code",
   "execution_count": 127,
   "id": "f981725e",
   "metadata": {},
   "outputs": [
    {
     "data": {
      "text/plain": [
       "False"
      ]
     },
     "execution_count": 127,
     "metadata": {},
     "output_type": "execute_result"
    }
   ],
   "source": [
    "a > b"
   ]
  },
  {
   "cell_type": "code",
   "execution_count": 128,
   "id": "ab05b724",
   "metadata": {},
   "outputs": [],
   "source": [
    "d[a] = 3"
   ]
  },
  {
   "cell_type": "code",
   "execution_count": 129,
   "id": "67416c19",
   "metadata": {},
   "outputs": [
    {
     "data": {
      "text/plain": [
       "18"
      ]
     },
     "execution_count": 129,
     "metadata": {},
     "output_type": "execute_result"
    }
   ],
   "source": [
    "hash(18)"
   ]
  },
  {
   "cell_type": "code",
   "execution_count": 130,
   "id": "b63ae95c",
   "metadata": {},
   "outputs": [
    {
     "data": {
      "text/plain": [
       "True"
      ]
     },
     "execution_count": 130,
     "metadata": {},
     "output_type": "execute_result"
    }
   ],
   "source": [
    "1 == 1.0"
   ]
  },
  {
   "cell_type": "code",
   "execution_count": 131,
   "id": "e40a590e",
   "metadata": {},
   "outputs": [
    {
     "data": {
      "text/plain": [
       "1"
      ]
     },
     "execution_count": 131,
     "metadata": {},
     "output_type": "execute_result"
    }
   ],
   "source": [
    "hash(1)"
   ]
  },
  {
   "cell_type": "code",
   "execution_count": 132,
   "id": "0b33da34",
   "metadata": {},
   "outputs": [
    {
     "data": {
      "text/plain": [
       "1"
      ]
     },
     "execution_count": 132,
     "metadata": {},
     "output_type": "execute_result"
    }
   ],
   "source": [
    "hash(1.0)"
   ]
  },
  {
   "cell_type": "code",
   "execution_count": 133,
   "id": "ea6a697c",
   "metadata": {},
   "outputs": [
    {
     "data": {
      "text/plain": [
       "2305843201"
      ]
     },
     "execution_count": 133,
     "metadata": {},
     "output_type": "execute_result"
    }
   ],
   "source": [
    "hash(1.000000001)"
   ]
  },
  {
   "cell_type": "code",
   "execution_count": 134,
   "id": "602cb940",
   "metadata": {},
   "outputs": [
    {
     "data": {
      "text/plain": [
       "-3550055125485641917"
      ]
     },
     "execution_count": 134,
     "metadata": {},
     "output_type": "execute_result"
    }
   ],
   "source": [
    "hash((1, 2))"
   ]
  },
  {
   "cell_type": "code",
   "execution_count": 135,
   "id": "99dc7c20",
   "metadata": {},
   "outputs": [
    {
     "data": {
      "text/plain": [
       "1295283823224701310"
      ]
     },
     "execution_count": 135,
     "metadata": {},
     "output_type": "execute_result"
    }
   ],
   "source": [
    "hash('abacaba')"
   ]
  },
  {
   "cell_type": "code",
   "execution_count": 136,
   "id": "1bc54042",
   "metadata": {},
   "outputs": [
    {
     "data": {
      "text/plain": [
       "-272375401224217160"
      ]
     },
     "execution_count": 136,
     "metadata": {},
     "output_type": "execute_result"
    }
   ],
   "source": [
    "hash(frozenset([1, 2, 3]))"
   ]
  },
  {
   "cell_type": "code",
   "execution_count": 137,
   "id": "7348ba65",
   "metadata": {},
   "outputs": [
    {
     "ename": "TypeError",
     "evalue": "unhashable type: 'list'",
     "output_type": "error",
     "traceback": [
      "\u001b[0;31m---------------------------------------------------------------------------\u001b[0m",
      "\u001b[0;31mTypeError\u001b[0m                                 Traceback (most recent call last)",
      "Input \u001b[0;32mIn [137]\u001b[0m, in \u001b[0;36m<cell line: 1>\u001b[0;34m()\u001b[0m\n\u001b[0;32m----> 1\u001b[0m \u001b[38;5;28;43mhash\u001b[39;49m\u001b[43m(\u001b[49m\u001b[43m(\u001b[49m\u001b[38;5;241;43m1\u001b[39;49m\u001b[43m,\u001b[49m\u001b[43m \u001b[49m\u001b[38;5;241;43m2\u001b[39;49m\u001b[43m,\u001b[49m\u001b[43m \u001b[49m\u001b[43m[\u001b[49m\u001b[38;5;241;43m3\u001b[39;49m\u001b[43m,\u001b[49m\u001b[43m \u001b[49m\u001b[38;5;241;43m4\u001b[39;49m\u001b[43m]\u001b[49m\u001b[43m)\u001b[49m\u001b[43m)\u001b[49m\n",
      "\u001b[0;31mTypeError\u001b[0m: unhashable type: 'list'"
     ]
    }
   ],
   "source": [
    "hash((1, 2, [3, 4]))"
   ]
  },
  {
   "cell_type": "code",
   "execution_count": null,
   "id": "8b87d22a",
   "metadata": {},
   "outputs": [],
   "source": []
  },
  {
   "cell_type": "code",
   "execution_count": 138,
   "id": "7aa1adbd",
   "metadata": {},
   "outputs": [
    {
     "name": "stdout",
     "output_type": "stream",
     "text": [
      "problems_autumn_1.ipynb  sem1.ipynb  Untitled.ipynb\r\n"
     ]
    }
   ],
   "source": [
    "!ls"
   ]
  },
  {
   "cell_type": "code",
   "execution_count": 139,
   "id": "9b7a4651",
   "metadata": {},
   "outputs": [
    {
     "name": "stdout",
     "output_type": "stream",
     "text": [
      "/bin/bash: line 1: cowsay: command not found\r\n"
     ]
    }
   ],
   "source": [
    "!cowsay Hello!"
   ]
  },
  {
   "cell_type": "code",
   "execution_count": 140,
   "id": "5f848329",
   "metadata": {},
   "outputs": [],
   "source": [
    "from random import random\n",
    "\n",
    "n = 20\n",
    "\n",
    "A = [[random() for _ in range(n)] for _ in range(n)]\n",
    "B = [[random() for _ in range(n)] for _ in range(n)]\n",
    "\n",
    "def matmul(A, B):\n",
    "    C = [[0] * n for _ in range(n)]\n",
    "\n",
    "    for i in range(n):\n",
    "        for j in range(n):\n",
    "            for k in range(n):\n",
    "                C[i][j] += A[i][k] * B[k][j]\n",
    "                \n",
    "    return C"
   ]
  },
  {
   "cell_type": "code",
   "execution_count": 141,
   "id": "25cecfc5",
   "metadata": {},
   "outputs": [
    {
     "name": "stdout",
     "output_type": "stream",
     "text": [
      "CPU times: user 1.65 ms, sys: 228 µs, total: 1.88 ms\n",
      "Wall time: 1.89 ms\n"
     ]
    }
   ],
   "source": [
    "%%time\n",
    "\n",
    "C = matmul(A, B)"
   ]
  },
  {
   "cell_type": "code",
   "execution_count": 142,
   "id": "905793df",
   "metadata": {},
   "outputs": [
    {
     "name": "stdout",
     "output_type": "stream",
     "text": [
      "1.02 ms ± 32.1 µs per loop (mean ± std. dev. of 7 runs, 1,000 loops each)\n"
     ]
    }
   ],
   "source": [
    "%%timeit\n",
    "\n",
    "C = matmul(A, B)"
   ]
  },
  {
   "cell_type": "code",
   "execution_count": 143,
   "id": "27ddea9b",
   "metadata": {},
   "outputs": [
    {
     "name": "stdout",
     "output_type": "stream",
     "text": [
      "1.04 ms ± 29.6 µs per loop (mean ± std. dev. of 7 runs, 1,000 loops each)\n"
     ]
    }
   ],
   "source": [
    "t = %timeit -o C = matmul(A, B)"
   ]
  },
  {
   "cell_type": "code",
   "execution_count": 144,
   "id": "157135f4",
   "metadata": {},
   "outputs": [
    {
     "data": {
      "text/plain": [
       "0.0010446497897145103"
      ]
     },
     "execution_count": 144,
     "metadata": {},
     "output_type": "execute_result"
    }
   ],
   "source": [
    "t.average"
   ]
  },
  {
   "cell_type": "code",
   "execution_count": 145,
   "id": "781f2bbd",
   "metadata": {},
   "outputs": [
    {
     "data": {
      "text/plain": [
       "2.9565438160700938e-05"
      ]
     },
     "execution_count": 145,
     "metadata": {},
     "output_type": "execute_result"
    }
   ],
   "source": [
    "t.stdev"
   ]
  },
  {
   "cell_type": "code",
   "execution_count": null,
   "id": "96f865cf",
   "metadata": {},
   "outputs": [],
   "source": []
  },
  {
   "cell_type": "code",
   "execution_count": 146,
   "id": "8eb65b13",
   "metadata": {},
   "outputs": [
    {
     "ename": "ModuleNotFoundError",
     "evalue": "No module named 'line_profiler'",
     "output_type": "error",
     "traceback": [
      "\u001b[0;31m---------------------------------------------------------------------------\u001b[0m",
      "\u001b[0;31mModuleNotFoundError\u001b[0m                       Traceback (most recent call last)",
      "Input \u001b[0;32mIn [146]\u001b[0m, in \u001b[0;36m<cell line: 1>\u001b[0;34m()\u001b[0m\n\u001b[0;32m----> 1\u001b[0m \u001b[43mget_ipython\u001b[49m\u001b[43m(\u001b[49m\u001b[43m)\u001b[49m\u001b[38;5;241;43m.\u001b[39;49m\u001b[43mrun_line_magic\u001b[49m\u001b[43m(\u001b[49m\u001b[38;5;124;43m'\u001b[39;49m\u001b[38;5;124;43mload_ext\u001b[39;49m\u001b[38;5;124;43m'\u001b[39;49m\u001b[43m,\u001b[49m\u001b[43m \u001b[49m\u001b[38;5;124;43m'\u001b[39;49m\u001b[38;5;124;43mline_profiler\u001b[39;49m\u001b[38;5;124;43m'\u001b[39;49m\u001b[43m)\u001b[49m\n",
      "File \u001b[0;32m~/anaconda3/lib/python3.9/site-packages/IPython/core/interactiveshell.py:2294\u001b[0m, in \u001b[0;36mInteractiveShell.run_line_magic\u001b[0;34m(self, magic_name, line, _stack_depth)\u001b[0m\n\u001b[1;32m   2292\u001b[0m     kwargs[\u001b[38;5;124m'\u001b[39m\u001b[38;5;124mlocal_ns\u001b[39m\u001b[38;5;124m'\u001b[39m] \u001b[38;5;241m=\u001b[39m \u001b[38;5;28mself\u001b[39m\u001b[38;5;241m.\u001b[39mget_local_scope(stack_depth)\n\u001b[1;32m   2293\u001b[0m \u001b[38;5;28;01mwith\u001b[39;00m \u001b[38;5;28mself\u001b[39m\u001b[38;5;241m.\u001b[39mbuiltin_trap:\n\u001b[0;32m-> 2294\u001b[0m     result \u001b[38;5;241m=\u001b[39m \u001b[43mfn\u001b[49m\u001b[43m(\u001b[49m\u001b[38;5;241;43m*\u001b[39;49m\u001b[43margs\u001b[49m\u001b[43m,\u001b[49m\u001b[43m \u001b[49m\u001b[38;5;241;43m*\u001b[39;49m\u001b[38;5;241;43m*\u001b[39;49m\u001b[43mkwargs\u001b[49m\u001b[43m)\u001b[49m\n\u001b[1;32m   2295\u001b[0m \u001b[38;5;28;01mreturn\u001b[39;00m result\n",
      "File \u001b[0;32m~/anaconda3/lib/python3.9/site-packages/IPython/core/magics/extension.py:33\u001b[0m, in \u001b[0;36mExtensionMagics.load_ext\u001b[0;34m(self, module_str)\u001b[0m\n\u001b[1;32m     31\u001b[0m \u001b[38;5;28;01mif\u001b[39;00m \u001b[38;5;129;01mnot\u001b[39;00m module_str:\n\u001b[1;32m     32\u001b[0m     \u001b[38;5;28;01mraise\u001b[39;00m UsageError(\u001b[38;5;124m'\u001b[39m\u001b[38;5;124mMissing module name.\u001b[39m\u001b[38;5;124m'\u001b[39m)\n\u001b[0;32m---> 33\u001b[0m res \u001b[38;5;241m=\u001b[39m \u001b[38;5;28;43mself\u001b[39;49m\u001b[38;5;241;43m.\u001b[39;49m\u001b[43mshell\u001b[49m\u001b[38;5;241;43m.\u001b[39;49m\u001b[43mextension_manager\u001b[49m\u001b[38;5;241;43m.\u001b[39;49m\u001b[43mload_extension\u001b[49m\u001b[43m(\u001b[49m\u001b[43mmodule_str\u001b[49m\u001b[43m)\u001b[49m\n\u001b[1;32m     35\u001b[0m \u001b[38;5;28;01mif\u001b[39;00m res \u001b[38;5;241m==\u001b[39m \u001b[38;5;124m'\u001b[39m\u001b[38;5;124malready loaded\u001b[39m\u001b[38;5;124m'\u001b[39m:\n\u001b[1;32m     36\u001b[0m     \u001b[38;5;28mprint\u001b[39m(\u001b[38;5;124m\"\u001b[39m\u001b[38;5;124mThe \u001b[39m\u001b[38;5;132;01m%s\u001b[39;00m\u001b[38;5;124m extension is already loaded. To reload it, use:\u001b[39m\u001b[38;5;124m\"\u001b[39m \u001b[38;5;241m%\u001b[39m module_str)\n",
      "File \u001b[0;32m~/anaconda3/lib/python3.9/site-packages/IPython/core/extensions.py:76\u001b[0m, in \u001b[0;36mExtensionManager.load_extension\u001b[0;34m(self, module_str)\u001b[0m\n\u001b[1;32m     69\u001b[0m \u001b[38;5;124;03m\"\"\"Load an IPython extension by its module name.\u001b[39;00m\n\u001b[1;32m     70\u001b[0m \n\u001b[1;32m     71\u001b[0m \u001b[38;5;124;03mReturns the string \"already loaded\" if the extension is already loaded,\u001b[39;00m\n\u001b[1;32m     72\u001b[0m \u001b[38;5;124;03m\"no load function\" if the module doesn't have a load_ipython_extension\u001b[39;00m\n\u001b[1;32m     73\u001b[0m \u001b[38;5;124;03mfunction, or None if it succeeded.\u001b[39;00m\n\u001b[1;32m     74\u001b[0m \u001b[38;5;124;03m\"\"\"\u001b[39;00m\n\u001b[1;32m     75\u001b[0m \u001b[38;5;28;01mtry\u001b[39;00m:\n\u001b[0;32m---> 76\u001b[0m     \u001b[38;5;28;01mreturn\u001b[39;00m \u001b[38;5;28;43mself\u001b[39;49m\u001b[38;5;241;43m.\u001b[39;49m\u001b[43m_load_extension\u001b[49m\u001b[43m(\u001b[49m\u001b[43mmodule_str\u001b[49m\u001b[43m)\u001b[49m\n\u001b[1;32m     77\u001b[0m \u001b[38;5;28;01mexcept\u001b[39;00m \u001b[38;5;167;01mModuleNotFoundError\u001b[39;00m:\n\u001b[1;32m     78\u001b[0m     \u001b[38;5;28;01mif\u001b[39;00m module_str \u001b[38;5;129;01min\u001b[39;00m BUILTINS_EXTS:\n",
      "File \u001b[0;32m~/anaconda3/lib/python3.9/site-packages/IPython/core/extensions.py:92\u001b[0m, in \u001b[0;36mExtensionManager._load_extension\u001b[0;34m(self, module_str)\u001b[0m\n\u001b[1;32m     90\u001b[0m \u001b[38;5;28;01mif\u001b[39;00m module_str \u001b[38;5;129;01mnot\u001b[39;00m \u001b[38;5;129;01min\u001b[39;00m sys\u001b[38;5;241m.\u001b[39mmodules:\n\u001b[1;32m     91\u001b[0m     \u001b[38;5;28;01mwith\u001b[39;00m prepended_to_syspath(\u001b[38;5;28mself\u001b[39m\u001b[38;5;241m.\u001b[39mipython_extension_dir):\n\u001b[0;32m---> 92\u001b[0m         mod \u001b[38;5;241m=\u001b[39m \u001b[43mimport_module\u001b[49m\u001b[43m(\u001b[49m\u001b[43mmodule_str\u001b[49m\u001b[43m)\u001b[49m\n\u001b[1;32m     93\u001b[0m         \u001b[38;5;28;01mif\u001b[39;00m mod\u001b[38;5;241m.\u001b[39m\u001b[38;5;18m__file__\u001b[39m\u001b[38;5;241m.\u001b[39mstartswith(\u001b[38;5;28mself\u001b[39m\u001b[38;5;241m.\u001b[39mipython_extension_dir):\n\u001b[1;32m     94\u001b[0m             \u001b[38;5;28mprint\u001b[39m((\u001b[38;5;124m\"\u001b[39m\u001b[38;5;124mLoading extensions from \u001b[39m\u001b[38;5;132;01m{dir}\u001b[39;00m\u001b[38;5;124m is deprecated. \u001b[39m\u001b[38;5;124m\"\u001b[39m\n\u001b[1;32m     95\u001b[0m                    \u001b[38;5;124m\"\u001b[39m\u001b[38;5;124mWe recommend managing extensions like any \u001b[39m\u001b[38;5;124m\"\u001b[39m\n\u001b[1;32m     96\u001b[0m                    \u001b[38;5;124m\"\u001b[39m\u001b[38;5;124mother Python packages, in site-packages.\u001b[39m\u001b[38;5;124m\"\u001b[39m)\u001b[38;5;241m.\u001b[39mformat(\n\u001b[1;32m     97\u001b[0m                   \u001b[38;5;28mdir\u001b[39m\u001b[38;5;241m=\u001b[39mcompress_user(\u001b[38;5;28mself\u001b[39m\u001b[38;5;241m.\u001b[39mipython_extension_dir)))\n",
      "File \u001b[0;32m~/anaconda3/lib/python3.9/importlib/__init__.py:127\u001b[0m, in \u001b[0;36mimport_module\u001b[0;34m(name, package)\u001b[0m\n\u001b[1;32m    125\u001b[0m             \u001b[38;5;28;01mbreak\u001b[39;00m\n\u001b[1;32m    126\u001b[0m         level \u001b[38;5;241m+\u001b[39m\u001b[38;5;241m=\u001b[39m \u001b[38;5;241m1\u001b[39m\n\u001b[0;32m--> 127\u001b[0m \u001b[38;5;28;01mreturn\u001b[39;00m \u001b[43m_bootstrap\u001b[49m\u001b[38;5;241;43m.\u001b[39;49m\u001b[43m_gcd_import\u001b[49m\u001b[43m(\u001b[49m\u001b[43mname\u001b[49m\u001b[43m[\u001b[49m\u001b[43mlevel\u001b[49m\u001b[43m:\u001b[49m\u001b[43m]\u001b[49m\u001b[43m,\u001b[49m\u001b[43m \u001b[49m\u001b[43mpackage\u001b[49m\u001b[43m,\u001b[49m\u001b[43m \u001b[49m\u001b[43mlevel\u001b[49m\u001b[43m)\u001b[49m\n",
      "File \u001b[0;32m<frozen importlib._bootstrap>:1030\u001b[0m, in \u001b[0;36m_gcd_import\u001b[0;34m(name, package, level)\u001b[0m\n",
      "File \u001b[0;32m<frozen importlib._bootstrap>:1007\u001b[0m, in \u001b[0;36m_find_and_load\u001b[0;34m(name, import_)\u001b[0m\n",
      "File \u001b[0;32m<frozen importlib._bootstrap>:984\u001b[0m, in \u001b[0;36m_find_and_load_unlocked\u001b[0;34m(name, import_)\u001b[0m\n",
      "\u001b[0;31mModuleNotFoundError\u001b[0m: No module named 'line_profiler'"
     ]
    }
   ],
   "source": [
    "%load_ext line_profiler"
   ]
  },
  {
   "cell_type": "code",
   "execution_count": null,
   "id": "a6731380",
   "metadata": {},
   "outputs": [],
   "source": [
    "%lprun -f matmul matmul(A, B)"
   ]
  },
  {
   "cell_type": "code",
   "execution_count": null,
   "id": "adae2d02",
   "metadata": {},
   "outputs": [],
   "source": [
    "from tqdm.notebook import tqdm"
   ]
  },
  {
   "cell_type": "code",
   "execution_count": null,
   "id": "ca8f542c",
   "metadata": {},
   "outputs": [],
   "source": [
    "C = [[0] * n for _ in range(n)]\n",
    "\n",
    "for i in tqdm(range(n)):\n",
    "    for j in range(n):\n",
    "        for k in range(n):\n",
    "            C[i][j] += A[i][k] * B[k][j]"
   ]
  },
  {
   "cell_type": "code",
   "execution_count": null,
   "id": "0b4074b7",
   "metadata": {},
   "outputs": [],
   "source": []
  },
  {
   "cell_type": "code",
   "execution_count": null,
   "id": "1421f534",
   "metadata": {},
   "outputs": [],
   "source": [
    "def create_multipliers():\n",
    "    return [lambda x, i=i : i * x for i in range(5)]\n",
    "\n",
    "for multiplier in create_multipliers():\n",
    "    print(multiplier(2))"
   ]
  },
  {
   "cell_type": "code",
   "execution_count": null,
   "id": "31b31624",
   "metadata": {},
   "outputs": [],
   "source": []
  }
 ],
 "metadata": {
  "kernelspec": {
   "display_name": "Python 3 (ipykernel)",
   "language": "python",
   "name": "python3"
  },
  "language_info": {
   "codemirror_mode": {
    "name": "ipython",
    "version": 3
   },
   "file_extension": ".py",
   "mimetype": "text/x-python",
   "name": "python",
   "nbconvert_exporter": "python",
   "pygments_lexer": "ipython3",
   "version": "3.9.12"
  }
 },
 "nbformat": 4,
 "nbformat_minor": 5
}
