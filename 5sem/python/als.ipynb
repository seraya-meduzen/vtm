{
 "cells": [
  {
   "cell_type": "code",
   "execution_count": 53,
   "id": "98b064bc",
   "metadata": {},
   "outputs": [],
   "source": [
    "import numpy as np\n",
    "from numpy import linalg\n",
    "import functools as ft\n",
    "from operator import add\n",
    "import os"
   ]
  },
  {
   "cell_type": "markdown",
   "id": "12780902",
   "metadata": {},
   "source": [
    "Функция генерации строки для np.einsum"
   ]
  },
  {
   "cell_type": "code",
   "execution_count": 54,
   "id": "1647ce06",
   "metadata": {},
   "outputs": [],
   "source": [
    "def generate_index(tensor_len, n):\n",
    "    z_array = np.array([\"z\"] * tensor_len)\n",
    "    \n",
    "    res = list(map(chr, np.arange(ord('a'), ord('a') + tensor_len, 1, dtype=int)))\n",
    "    tmp_2 = list(map(add, res, z_array))\n",
    "    \n",
    "    res = ''.join(res)\n",
    "    \n",
    "    for i in range(tensor_len - 1, -1, -1):\n",
    "        if i != n:\n",
    "            res += \",\" + tmp_2[i]\n",
    "        \n",
    "    return res + \"->\" + res[n] + \"z\""
   ]
  },
  {
   "cell_type": "code",
   "execution_count": 55,
   "id": "dfa3361b",
   "metadata": {},
   "outputs": [],
   "source": [
    "def main():\n",
    "    R = 3 #rank\n",
    "    iterations = 6 #number of iterations\n",
    "    \n",
    "    T = np.random.randn(2, 3, 4, 5) #random tensor\n",
    "    \n",
    "    U = [np.random.randn(_, R) for _ in np.shape(T)] #factor matrices -> computed CP\n",
    "    \n",
    "    H = [0] * len(np.shape(T))\n",
    "    M = [0] * len(np.shape(T))\n",
    "\n",
    "    for k in range(iterations):\n",
    "        for n in range(len(np.shape(T))):\n",
    "            U_copy = U.copy()\n",
    "            U_copy.pop(n)\n",
    "\n",
    "            M[n] = np.einsum(generate_index(len(np.shape(T)), n), T, *U_copy[::-1])\n",
    "            \n",
    "            UtU = [U_copy[i].T @ U_copy[i] for i in range(len(U_copy))]\n",
    "\n",
    "            H[n] = ft.reduce(np.multiply, UtU)\n",
    "            \n",
    "            U[n] = M[n] @ np.linalg.pinv(H[n])\n",
    "        \n",
    "        \n",
    "    for i in range(len(np.shape(T))):\n",
    "        print(U[i])"
   ]
  },
  {
   "cell_type": "code",
   "execution_count": 56,
   "id": "4aa80161",
   "metadata": {},
   "outputs": [
    {
     "name": "stdout",
     "output_type": "stream",
     "text": [
      "[[ 0.07622976  0.21731574  0.09919197]\n",
      " [-0.90907069  1.23305801 -0.02126228]]\n",
      "[[-0.02910252  1.71626268 -1.40832341]\n",
      " [-0.50222966  1.97891602  0.10416468]\n",
      " [-0.38277864  0.60025987  0.33479017]]\n",
      "[[ 3.51904116 -0.83072345  6.12427194]\n",
      " [-0.46986956  0.46388282  3.90047035]\n",
      " [-2.38780767 -0.15689109 -4.00050835]\n",
      " [-0.93589707  0.69580911 -3.25115521]]\n",
      "[[-0.98796606 -1.00916529  2.68143983]\n",
      " [ 1.05275112  0.36221344 -0.89253818]\n",
      " [ 0.56214104  0.48989523  1.70060205]\n",
      " [ 1.3704857   0.37545414  0.93487213]\n",
      " [-1.18943955 -0.64824348 -0.63182333]]\n"
     ]
    }
   ],
   "source": [
    "if __name__ == \"__main__\":\n",
    "    main()"
   ]
  },
  {
   "cell_type": "code",
   "execution_count": null,
   "id": "b35dbf5f",
   "metadata": {},
   "outputs": [],
   "source": []
  },
  {
   "cell_type": "code",
   "execution_count": null,
   "id": "d00f64c3",
   "metadata": {},
   "outputs": [],
   "source": []
  },
  {
   "cell_type": "code",
   "execution_count": null,
   "id": "24c2e2a0",
   "metadata": {},
   "outputs": [],
   "source": []
  },
  {
   "cell_type": "code",
   "execution_count": null,
   "id": "a52c5b87",
   "metadata": {},
   "outputs": [],
   "source": []
  },
  {
   "cell_type": "code",
   "execution_count": null,
   "id": "45ff659c",
   "metadata": {},
   "outputs": [],
   "source": []
  },
  {
   "cell_type": "code",
   "execution_count": null,
   "id": "d4fc02b0",
   "metadata": {},
   "outputs": [],
   "source": []
  }
 ],
 "metadata": {
  "kernelspec": {
   "display_name": "Python 3 (ipykernel)",
   "language": "python",
   "name": "python3"
  },
  "language_info": {
   "codemirror_mode": {
    "name": "ipython",
    "version": 3
   },
   "file_extension": ".py",
   "mimetype": "text/x-python",
   "name": "python",
   "nbconvert_exporter": "python",
   "pygments_lexer": "ipython3",
   "version": "3.9.12"
  }
 },
 "nbformat": 4,
 "nbformat_minor": 5
}
